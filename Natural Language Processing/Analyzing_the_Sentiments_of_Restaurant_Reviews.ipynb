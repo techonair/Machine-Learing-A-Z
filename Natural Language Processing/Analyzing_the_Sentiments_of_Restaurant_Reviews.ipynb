{
  "nbformat": 4,
  "nbformat_minor": 0,
  "metadata": {
    "colab": {
      "name": "Analyzing the Sentiments of Restaurant Reviews.ipynb",
      "provenance": [],
      "authorship_tag": "ABX9TyOwzD09s/z/VWRC6B4VVjt3",
      "include_colab_link": true
    },
    "kernelspec": {
      "name": "python3",
      "display_name": "Python 3"
    },
    "language_info": {
      "name": "python"
    }
  },
  "cells": [
    {
      "cell_type": "markdown",
      "metadata": {
        "id": "view-in-github",
        "colab_type": "text"
      },
      "source": [
        "<a href=\"https://colab.research.google.com/github/techonair/Machine-Learing-A-Z/blob/main/Natural%20Language%20Processing/Analyzing_the_Sentiments_of_Restaurant_Reviews.ipynb\" target=\"_parent\"><img src=\"https://colab.research.google.com/assets/colab-badge.svg\" alt=\"Open In Colab\"/></a>"
      ]
    },
    {
      "cell_type": "markdown",
      "metadata": {
        "id": "k3Y1QV9eDdWQ"
      },
      "source": [
        "# Natural Language Processing\n",
        "\n",
        "Sentimental analysis of reviews collected by a restaurant"
      ]
    },
    {
      "cell_type": "markdown",
      "metadata": {
        "id": "I3bXcKEwKn3T"
      },
      "source": [
        "## Importing Libraries"
      ]
    },
    {
      "cell_type": "code",
      "metadata": {
        "id": "zpUoVpumKWbt"
      },
      "source": [
        "import numpy as np\n",
        "import matplotlib.pyplot as plt\n",
        "import pandas as pd"
      ],
      "execution_count": 1,
      "outputs": []
    },
    {
      "cell_type": "markdown",
      "metadata": {
        "id": "VVNj13NxK077"
      },
      "source": [
        "## Imorting the dataset"
      ]
    },
    {
      "cell_type": "code",
      "metadata": {
        "colab": {
          "resources": {
            "http://localhost:8080/nbextensions/google.colab/files.js": {
              "data": "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",
              "ok": true,
              "headers": [
                [
                  "content-type",
                  "application/javascript"
                ]
              ],
              "status": 200,
              "status_text": ""
            }
          },
          "base_uri": "https://localhost:8080/",
          "height": 93
        },
        "id": "CkX9Qq8PfOSE",
        "outputId": "4ba18864-061c-4158-c7d5-057feb7a6af3"
      },
      "source": [
        "from google.colab import files\n",
        "files.upload()"
      ],
      "execution_count": 2,
      "outputs": [
        {
          "output_type": "display_data",
          "data": {
            "text/html": [
              "\n",
              "     <input type=\"file\" id=\"files-ec7f7015-40d6-41dc-8850-b0c8f7a6733a\" name=\"files[]\" multiple disabled\n",
              "        style=\"border:none\" />\n",
              "     <output id=\"result-ec7f7015-40d6-41dc-8850-b0c8f7a6733a\">\n",
              "      Upload widget is only available when the cell has been executed in the\n",
              "      current browser session. Please rerun this cell to enable.\n",
              "      </output>\n",
              "      <script src=\"/nbextensions/google.colab/files.js\"></script> "
            ],
            "text/plain": [
              "<IPython.core.display.HTML object>"
            ]
          },
          "metadata": {}
        },
        {
          "output_type": "stream",
          "name": "stdout",
          "text": [
            "Saving Restaurant_Reviews.tsv to Restaurant_Reviews.tsv\n"
          ]
        },
        {
          "output_type": "execute_result",
          "data": {
            "text/plain": [
              "{'Restaurant_Reviews.tsv': b'Review\\tLiked\\nWow... Loved this place.\\t1\\nCrust is not good.\\t0\\nNot tasty and the texture was just nasty.\\t0\\nStopped by during the late May bank holiday off Rick Steve recommendation and loved it.\\t1\\nThe selection on the menu was great and so were the prices.\\t1\\nNow I am getting angry and I want my damn pho.\\t0\\nHoneslty it didn\\'t taste THAT fresh.)\\t0\\nThe potatoes were like rubber and you could tell they had been made up ahead of time being kept under a warmer.\\t0\\nThe fries were great too.\\t1\\nA great touch.\\t1\\nService was very prompt.\\t1\\nWould not go back.\\t0\\nThe cashier had no care what so ever on what I had to say it still ended up being wayyy overpriced.\\t0\\nI tried the Cape Cod ravoli, chicken, with cranberry...mmmm!\\t1\\nI was disgusted because I was pretty sure that was human hair.\\t0\\nI was shocked because no signs indicate cash only.\\t0\\nHighly recommended.\\t1\\nWaitress was a little slow in service.\\t0\\nThis place is not worth your time, let alone Vegas.\\t0\\ndid not like at all.\\t0\\nThe Burrittos Blah!\\t0\\nThe food, amazing.\\t1\\nService is also cute.\\t1\\nI could care less... The interior is just beautiful.\\t1\\nSo they performed.\\t1\\nThat\\'s right....the red velvet cake.....ohhh this stuff is so good.\\t1\\n- They never brought a salad we asked for.\\t0\\nThis hole in the wall has great Mexican street tacos, and friendly staff.\\t1\\nTook an hour to get our food only 4 tables in restaurant my food was Luke warm, Our sever was running around like he was totally overwhelmed.\\t0\\nThe worst was the salmon sashimi.\\t0\\nAlso there are combos like a burger, fries, and beer for 23 which is a decent deal.\\t1\\nThis was like the final blow!\\t0\\nI found this place by accident and I could not be happier.\\t1\\nseems like a good quick place to grab a bite of some familiar pub food, but do yourself a favor and look elsewhere.\\t0\\nOverall, I like this place a lot.\\t1\\nThe only redeeming quality of the restaurant was that it was very inexpensive.\\t1\\nAmple portions and good prices.\\t1\\nPoor service, the waiter made me feel like I was stupid every time he came to the table.\\t0\\nMy first visit to Hiro was a delight!\\t1\\nService sucks.\\t0\\nThe shrimp tender and moist.\\t1\\nThere is not a deal good enough that would drag me into that establishment again.\\t0\\nHard to judge whether these sides were good because we were grossed out by the melted styrofoam and didn\\'t want to eat it for fear of getting sick.\\t0\\nOn a positive note, our server was very attentive and provided great service.\\t1\\nFrozen pucks of disgust, with some of the worst people behind the register.\\t0\\nThe only thing I did like was the prime rib and dessert section.\\t1\\nIt\\'s too bad the food is so damn generic.\\t0\\nThe burger is good beef, cooked just right.\\t1\\nIf you want a sandwich just go to any Firehouse!!!!!\\t1\\nMy side Greek salad with the Greek dressing was so tasty, and the pita and hummus was very refreshing.\\t1\\nWe ordered the duck rare and it was pink and tender on the inside with a nice char on the outside.\\t1\\nHe came running after us when he realized my husband had left his sunglasses on the table.\\t1\\nTheir chow mein is so good!\\t1\\nThey have horrible attitudes towards customers, and talk down to each one when customers don\\'t enjoy their food.\\t0\\nThe portion was huge!\\t1\\nLoved it...friendly servers, great food, wonderful and imaginative menu.\\t1\\nThe Heart Attack Grill in downtown Vegas is an absolutely flat-lined excuse for a restaurant.\\t0\\nNot much seafood and like 5 strings of pasta at the bottom.\\t0\\nThe salad had just the right amount of sauce to not over power the scallop, which was perfectly cooked.\\t1\\nThe ripped banana was not only ripped, but petrified and tasteless.\\t0\\nAt least think to refill my water before I struggle to wave you over for 10 minutes.\\t0\\nThis place receives stars for their APPETIZERS!!!\\t1\\nThe cocktails are all handmade and delicious.\\t1\\nWe\\'d definitely go back here again.\\t1\\nWe are so glad we found this place.\\t1\\nGreat food and service, huge portions and they give a military discount.\\t1\\nAlways a great time at Dos Gringos!\\t1\\nUpdate.....went back for a second time and it was still just as amazing\\t1\\nWe got the food and apparently they have never heard of salt and the batter on the fish was chewy.\\t0\\nA great way to finish a great.\\t1\\nThe deal included 5 tastings and 2 drinks, and Jeff went above and beyond what we expected.\\t1\\n- Really, really good rice, all the time.\\t1\\nThe service was meh.\\t0\\nIt took over 30 min to get their milkshake, which was nothing more than chocolate milk.\\t0\\nI guess I should have known that this place would suck, because it is inside of the Excalibur, but I didn\\'t use my common sense.\\t0\\nThe scallop dish is quite appalling for value as well.\\t0\\n2 times - Very Bad Customer Service !\\t0\\nThe sweet potato fries were very good and seasoned well.\\t1\\nToday is the second time I\\'ve been to their lunch buffet and it was pretty good.\\t1\\nThere is so much good food in Vegas that I feel cheated for wasting an eating opportunity by going to Rice and Company.\\t0\\nComing here is like experiencing an underwhelming relationship where both parties can\\'t wait for the other person to ask to break up.\\t0\\nwalked in and the place smelled like an old grease trap and only 2 others there eating.\\t0\\nThe turkey and roast beef were bland.\\t0\\nThis place has it!\\t1\\nThe pan cakes everyone are raving about taste like a sugary disaster tailored to the palate of a six year old.\\t0\\nI love the Pho and the spring rolls oh so yummy you have to try.\\t1\\nThe poor batter to meat ratio made the chicken tenders very unsatisfying.\\t0\\nAll I have to say is the food was amazing!!!\\t1\\nOmelets are to die for!\\t1\\nEverything was fresh and delicious!\\t1\\nIn summary, this was a largely disappointing dining experience.\\t0\\nIt\\'s like a really sexy party in your mouth, where you\\'re outrageously flirting with the hottest person at the party.\\t1\\nNever been to Hard Rock Casino before, WILL NEVER EVER STEP FORWARD IN IT AGAIN!\\t0\\nBest breakfast buffet!!!\\t1\\nsay bye bye to your tip lady!\\t0\\nWe\\'ll never go again.\\t0\\nWill be back again!\\t1\\nFood arrived quickly!\\t1\\nIt was not good.\\t0\\nOn the up side, their cafe serves really good food.\\t1\\nOur server was fantastic and when he found out the wife loves roasted garlic and bone marrow, he added extra to our meal and another marrow to go!\\t1\\nThe only good thing was our waiter, he was very helpful and kept the bloddy mary\\'s coming.\\t1\\nBest Buffet in town, for the price you cannot beat it.\\t1\\nI LOVED their mussels cooked in this wine reduction, the duck was tender, and their potato dishes were delicious.\\t1\\nThis is one of the better buffets that I have been to.\\t1\\nSo we went to Tigerlilly and had a fantastic afternoon!\\t1\\nThe food was delicious, our bartender was attentive and personable AND we got a great deal!\\t1\\nThe ambience is wonderful and there is music playing.\\t1\\nWill go back next trip out.\\t1\\nSooooo good!!\\t1\\nREAL sushi lovers, let\\'s be honest - Yama is not that good.\\t0\\nAt least 40min passed in between us ordering and the food arriving, and it wasn\\'t that busy.\\t0\\nThis is a really fantastic Thai restaurant which is definitely worth a visit.\\t1\\nNice, spicy and tender.\\t1\\nGood prices.\\t1\\nCheck it out.\\t1\\nIt was pretty gross!\\t0\\nI\\'ve had better atmosphere.\\t0\\nKind of hard to mess up a steak but they did.\\t0\\nAlthough I very much liked the look and sound of this place, the actual experience was a bit disappointing.\\t0\\nI just don\\'t know how this place managed to served the blandest food I have ever eaten when they are preparing Indian cuisine.\\t0\\nWorst service to boot, but that is the least of their worries.\\t0\\nService was fine and the waitress was friendly.\\t1\\nThe guys all had steaks, and our steak loving son who has had steak at the best and worst places said it was the best steak he\\'s ever eaten.\\t1\\nWe thought you\\'d have to venture further away to get good sushi, but this place really hit the spot that night.\\t1\\nHost staff were, for lack of a better word, BITCHES!\\t0\\nBland... Not a liking this place for a number of reasons and I don\\'t want to waste time on bad reviewing.. I\\'ll leave it at that...\\t0\\nPhenomenal food, service and ambiance.\\t1\\nI wouldn\\'t return.\\t0\\nDefinitely worth venturing off the strip for the pork belly, will return next time I\\'m in Vegas.\\t1\\nThis place is way too overpriced for mediocre food.\\t0\\nPenne vodka excellent!\\t1\\nThey have a good selection of food including a massive meatloaf sandwich, a crispy chicken wrap, a delish tuna melt and some tasty burgers.\\t1\\nThe management is rude.\\t0\\nDelicious NYC bagels, good selections of cream cheese, real Lox with capers even.\\t1\\nGreat Subway, in fact it\\'s so good when you come here every other Subway will not meet your expectations.\\t1\\nI had a seriously solid breakfast here.\\t1\\nThis is one of the best bars with food in Vegas.\\t1\\nHe was extremely rude and really, there are so many other restaurants I would love to dine at during a weekend in Vegas.\\t0\\nMy drink was never empty and he made some really great menu suggestions.\\t1\\nDon\\'t do it!!!!\\t0\\nThe waiter wasn\\'t helpful or friendly and rarely checked on us.\\t0\\nMy husband and I ate lunch here and were very disappointed with the food and service.\\t0\\nAnd the red curry had so much bamboo shoots and wasn\\'t very tasty to me.\\t0\\nNice blanket of moz over top but i feel like this was done to cover up the subpar food.\\t1\\nThe bathrooms are clean and the place itself is well decorated.\\t1\\nThe menu is always changing, food quality is going down & service is extremely slow.\\t0\\nThe service was a little slow , considering that were served by 3 people servers so the food was coming in a slow pace.\\t0\\nI give it 2 thumbs down\\t0\\nWe watched our waiter pay a lot more attention to other tables and ignore us.\\t0\\nMy fianc\\xc3\\xa9 and I came in the middle of the day and we were greeted and seated right away.\\t1\\nThis is a great restaurant at the Mandalay Bay.\\t1\\nWe waited for forty five minutes in vain.\\t0\\nCrostini that came with the salad was stale.\\t0\\nSome highlights : Great quality nigiri here!\\t1\\nthe staff is friendly and the joint is always clean.\\t1\\nthis was a different cut than the piece the other day but still wonderful and tender s well as well flavored.\\t1\\nI ordered the Voodoo pasta and it was the first time I\\'d had really excellent pasta since going gluten free several years ago.\\t1\\nthis place is good.\\t1\\nUnfortunately, we must have hit the bakery on leftover day because everything we ordered was STALE.\\t0\\nI came back today since they relocated and still not impressed.\\t0\\nI was seated immediately.\\t1\\nTheir menu is diverse, and reasonably priced.\\t1\\nAvoid at all cost!\\t0\\nRestaurant is always full but never a wait.\\t1\\nDELICIOUS!!\\t1\\nThis place is hands-down one of the best places to eat in the Phoenix metro area.\\t1\\nSo don\\'t go there if you are looking for good food...\\t0\\nI\\'ve never been treated so bad.\\t0\\nBacon is hella salty.\\t1\\nWe also ordered the spinach and avocado salad, the ingredients were sad and the dressing literally had zero taste.\\t0\\nThis really is how Vegas fine dining used to be, right down to the menus handed to the ladies that have no prices listed.\\t1\\nThe waitresses are very friendly.\\t1\\nLordy, the Khao Soi is a dish that is not to be missed for curry lovers!\\t1\\nEverything on the menu is terrific and we were also thrilled that they made amazing accommodations for our vegetarian daughter.\\t1\\nPerhaps I caught them on an off night judging by the other reviews, but I\\'m not inspired to go back.\\t0\\nThe service here leaves a lot to be desired.\\t0\\nThe atmosphere is modern and hip, while maintaining a touch of coziness.\\t1\\nNot a weekly haunt, but definitely a place to come back to every once in a while.\\t1\\nWe literally sat there for 20 minutes with no one asking to take our order.\\t0\\nThe burger had absolutely no flavor - the meat itself was totally bland, the burger was overcooked and there was no charcoal flavor.\\t0\\nI also decided not to send it back because our waitress looked like she was on the verge of having a heart attack.\\t0\\nI dressed up to be treated so rudely!\\t0\\nIt was probably dirt.\\t0\\nLove this place, hits the spot when I want something healthy but not lacking in quantity or flavor.\\t1\\nI ordered the Lemon raspberry ice cocktail which was also incredible.\\t1\\nThe food sucked, which we expected but it sucked more than we could have imagined.\\t0\\nInteresting decor.\\t1\\nWhat I really like there is the crepe station.\\t1\\nAlso were served hot bread and butter, and home made potato chips with bacon bits on top....very original and very good.\\t1\\nyou can watch them preparing the delicious food!)\\t1\\nBoth of the egg rolls were fantastic.\\t1\\nWhen my order arrived, one of the gyros was missing.\\t0\\nI had a salad with the wings, and some ice cream for dessert and left feeling quite satisfied.\\t1\\nI\\'m not really sure how Joey\\'s was voted best hot dog in the Valley by readers of Phoenix Magazine.\\t0\\nThe best place to go for a tasty bowl of Pho!\\t1\\nThe live music on Fridays totally blows.\\t0\\nI\\'ve never been more insulted or felt disrespected.\\t0\\nVery friendly staff.\\t1\\nIt is worth the drive.\\t1\\nI had heard good things about this place, but it exceeding every hope I could have dreamed of.\\t1\\nFood was great and so was the serivce!\\t1\\nThe warm beer didn\\'t help.\\t0\\nGreat brunch spot.\\t1\\nService is friendly and inviting.\\t1\\nVery good lunch spot.\\t1\\nI\\'ve lived here since 1979 and this was the first (and last) time I\\'ve stepped foot into this place.\\t0\\nThe WORST EXPERIENCE EVER.\\t0\\nMust have been an off night at this place.\\t0\\nThe sides are delish - mixed mushrooms, yukon gold puree, white corn - beateous.\\t1\\nIf that bug never showed up I would have given a 4 for sure, but on the other side of the wall where this bug was climbing was the kitchen.\\t0\\nFor about 10 minutes, we we\\'re waiting for her salad when we realized that it wasn\\'t coming any time soon.\\t0\\nMy friend loved the salmon tartar.\\t1\\nWon\\'t go back.\\t0\\nExtremely Tasty!\\t1\\nWaitress was good though!\\t1\\nSoggy and not good.\\t0\\nThe Jamaican mojitos are delicious.\\t1\\nWhich are small and not worth the price.\\t0\\n- the food is rich so order accordingly.\\t1\\nThe shower area is outside so you can only rinse, not take a full shower, unless you don\\'t mind being nude for everyone to see!\\t0\\nThe service was a bit lacking.\\t0\\nLobster Bisque, Bussell Sprouts, Risotto, Filet ALL needed salt and pepper..and of course there is none at the tables.\\t0\\nHopefully this bodes for them going out of business and someone who can cook can come in.\\t0\\nIt was either too cold, not enough flavor or just bad.\\t0\\nI loved the bacon wrapped dates.\\t1\\nThis is an unbelievable BARGAIN!\\t1\\nThe folks at Otto always make us feel so welcome and special.\\t1\\nAs for the \"mains,\" also uninspired.\\t0\\nThis is the place where I first had pho and it was amazing!!\\t1\\nThis wonderful experience made this place a must-stop whenever we are in town again.\\t1\\nIf the food isn\\'t bad enough for you, then enjoy dealing with the world\\'s worst/annoying drunk people.\\t0\\nVery very fun chef.\\t1\\nOrdered a double cheeseburger & got a single patty that was falling apart (picture uploaded) Yeah, still sucks.\\t0\\nGreat place to have a couple drinks and watch any and all sporting events as the walls are covered with TV\\'s.\\t1\\nIf it were possible to give them zero stars, they\\'d have it.\\t0\\nThe descriptions said \"yum yum sauce\" and another said \"eel sauce\", yet another said \"spicy mayo\"...well NONE of the rolls had sauces on them.\\t0\\nI\\'d say that would be the hardest decision... Honestly, all of M\\'s dishes taste how they are supposed to taste (amazing).\\t1\\nIf she had not rolled the eyes we may have stayed... Not sure if we will go back and try it again.\\t0\\nEveryone is very attentive, providing excellent customer service.\\t1\\nHorrible - don\\'t waste your time and money.\\t0\\nNow this dish was quite flavourful.\\t1\\nBy this time our side of the restaurant was almost empty so there was no excuse.\\t0\\n(It wasn\\'t busy either) Also, the building was FREEZING cold.\\t0\\nlike the other reviewer said \"you couldn\\'t pay me to eat at this place again.\"\\t0\\n-Drinks took close to 30 minutes to come out at one point.\\t0\\nSeriously flavorful delights, folks.\\t1\\nMuch better than the other AYCE sushi place I went to in Vegas.\\t1\\nThe lighting is just dark enough to set the mood.\\t1\\nBased on the sub-par service I received and no effort to show their gratitude for my business I won\\'t be going back.\\t0\\nOwner\\'s are really great people.!\\t1\\nThere is nothing privileged about working/eating there.\\t0\\nThe Greek dressing was very creamy and flavorful.\\t1\\nOverall, I don\\'t think that I would take my parents to this place again because they made most of the similar complaints that I silently felt too.\\t0\\nNow the pizza itself was good the peanut sauce was very tasty.\\t1\\nWe had 7 at our table and the service was pretty fast.\\t1\\nFantastic service here.\\t1\\nI as well would\\'ve given godfathers zero stars if possible.\\t0\\nThey know how to make them here.\\t1\\nvery tough and very short on flavor!\\t0\\nI hope this place sticks around.\\t1\\nI have been in more than a few bars in Vegas, and do not ever recall being charged for tap water.\\t0\\nThe restaurant atmosphere was exquisite.\\t1\\nGood service, very clean, and inexpensive, to boot!\\t1\\nThe seafood was fresh and generous in portion.\\t1\\nPlus, it\\'s only 8 bucks.\\t1\\nThe service was not up to par, either.\\t0\\nThus far, have only visited twice and the food was absolutely delicious each time.\\t1\\nJust as good as when I had it more than a year ago!\\t1\\nFor a self proclaimed coffee cafe, I was wildly disappointed.\\t0\\nThe Veggitarian platter is out of this world!\\t1\\nYou cant go wrong with any of the food here.\\t1\\nYou can\\'t beat that.\\t1\\nStopped by this place while in Madison for the Ironman, very friendly, kind staff.\\t1\\nThe chefs were friendly and did a good job.\\t1\\nI\\'ve had better, not only from dedicated boba tea spots, but even from Jenni Pho.\\t0\\nI liked the patio and the service was outstanding.\\t1\\nThe goat taco didn\\'t skimp on the meat and wow what FLAVOR!\\t1\\nI think not again\\t0\\nI had the mac salad and it was pretty bland so I will not be getting that again.\\t0\\nI went to Bachi Burger on a friend\\'s recommendation and was not disappointed.\\t1\\nService stinks here!\\t0\\nI waited and waited.\\t0\\nThis place is not quality sushi, it is not a quality restaurant.\\t0\\nI would definitely recommend the wings as well as the pizza.\\t1\\nGreat Pizza and Salads!\\t1\\nThings that went wrong: - They burned the saganaki.\\t0\\nWe waited an hour for what was a breakfast I could have done 100 times better at home.\\t0\\nThis place is amazing!\\t1\\nI hate to disagree with my fellow Yelpers, but my husband and I were so disappointed with this place.\\t0\\nWaited 2 hours & never got either of our pizzas as many other around us who came in later did!\\t0\\nJust don\\'t know why they were so slow.\\t0\\nThe staff is great, the food is delish, and they have an incredible beer selection.\\t1\\nI live in the neighborhood so I am disappointed I won\\'t be back here, because it is a convenient location.\\t0\\nI didn\\'t know pulled pork could be soooo delicious.\\t1\\nYou get incredibly fresh fish, prepared with care.\\t1\\nBefore I go in to why I gave a 1 star rating please know that this was my third time eating at Bachi burger before writing a review.\\t0\\nI love the fact that everything on their menu is worth it.\\t1\\nNever again will I be dining at this place!\\t0\\nThe food was excellent and service was very good.\\t1\\nGood beer & drink selection and good food selection.\\t1\\nPlease stay away from the shrimp stir fried noodles.\\t0\\nThe potato chip order was sad... I could probably count how many chips were in that box and it was probably around 12.\\t0\\nFood was really boring.\\t0\\nGood Service-check!\\t1\\nThis greedy corporation will NEVER see another dime from me!\\t0\\nWill never, ever go back.\\t0\\nAs much as I\\'d like to go back, I can\\'t get passed the atrocious service and will never return.\\t0\\nIn the summer, you can dine in a charming outdoor patio - so very delightful.\\t1\\nI did not expect this to be so good!\\t1\\nFantastic food!\\t1\\nShe ordered a toasted English muffin that came out untoasted.\\t0\\nThe food was very good.\\t1\\nNever going back.\\t0\\nGreat food for the price, which is very high quality and house made.\\t1\\nThe bus boy on the other hand was so rude.\\t0\\nBy this point, my friends and I had basically figured out this place was a joke and didn\\'t mind making it publicly and loudly known.\\t0\\nBack to good BBQ, lighter fare, reasonable pricing and tell the public they are back to the old ways.\\t1\\nAnd considering the two of us left there very full and happy for about $20, you just can\\'t go wrong.\\t1\\nAll the bread is made in-house!\\t1\\nThe only downside is the service.\\t0\\nAlso, the fries are without a doubt the worst fries I\\'ve ever had.\\t0\\nService was exceptional and food was a good as all the reviews.\\t1\\nA couple of months later, I returned and had an amazing meal.\\t1\\nFavorite place in town for shawarrrrrrma!!!!!!\\t1\\nThe black eyed peas and sweet potatoes... UNREAL!\\t1\\nYou won\\'t be disappointed.\\t1\\nThey could serve it with just the vinaigrette and it may make for a better overall dish, but it was still very good.\\t1\\nI go to far too many places and I\\'ve never seen any restaurant that serves a 1 egg breakfast, especially for $4.00.\\t0\\nWhen my mom and I got home she immediately got sick and she only had a few bites of salad.\\t0\\nThe servers are not pleasant to deal with and they don\\'t always honor Pizza Hut coupons.\\t0\\nBoth of them were truly unbelievably good, and I am so glad we went back.\\t1\\nWe had fantastic service, and were pleased by the atmosphere.\\t1\\nEverything was gross.\\t0\\nI love this place.\\t1\\nGreat service and food.\\t1\\nFirst - the bathrooms at this location were dirty- Seat covers were not replenished & just plain yucky!!!\\t0\\nThe burger... I got the \"Gold Standard\" a $17 burger and was kind of disappointed.\\t0\\nOMG, the food was delicioso!\\t1\\nThere is nothing authentic about this place.\\t0\\nthe spaghetti is nothing special whatsoever.\\t0\\nOf all the dishes, the salmon was the best, but all were great.\\t1\\nThe vegetables are so fresh and the sauce feels like authentic Thai.\\t1\\nIt\\'s worth driving up from Tucson!\\t1\\nThe selection was probably the worst I\\'ve seen in Vegas.....there was none.\\t0\\nPretty good beer selection too.\\t1\\nThis place is like Chipotle, but BETTER.\\t1\\nClassy/warm atmosphere, fun and fresh appetizers, succulent steaks (Baseball steak!!!!!\\t1\\n5 stars for the brick oven bread app!\\t1\\nI have eaten here multiple times, and each time the food was delicious.\\t1\\nWe sat another ten minutes and finally gave up and left.\\t0\\nHe was terrible!\\t0\\nEveryone is treated equally special.\\t1\\nIt shouldn\\'t take 30 min for pancakes and eggs.\\t0\\nIt was delicious!!!\\t1\\nOn the good side, the staff was genuinely pleasant and enthusiastic - a real treat.\\t1\\nSadly, Gordon Ramsey\\'s Steak is a place we shall sharply avoid during our next trip to Vegas.\\t0\\nAs always the evening was wonderful and the food delicious!\\t1\\nBest fish I\\'ve ever had in my life!\\t1\\n(The bathroom is just next door and very nice.)\\t1\\nThe buffet is small and all the food they offered was BLAND.\\t0\\nThis is an Outstanding little restaurant with some of the Best Food I have ever tasted.\\t1\\nPretty cool I would say.\\t1\\nDefinitely a turn off for me & i doubt I\\'ll be back unless someone else is buying.\\t0\\nServer did a great job handling our large rowdy table.\\t1\\nI find wasting food to be despicable, but this just wasn\\'t food.\\t0\\nMy wife had the Lobster Bisque soup which was lukewarm.\\t0\\nWould come back again if I had a sushi craving while in Vegas.\\t1\\nThe staff are great, the ambiance is great.\\t1\\nHe deserves 5 stars.\\t1\\nI left with a stomach ache and felt sick the rest of the day.\\t0\\nThey dropped more than the ball.\\t0\\nThe dining space is tiny, but elegantly decorated and comfortable.\\t1\\nThey will customize your order any way you\\'d like, my usual is Eggplant with Green Bean stir fry, love it!\\t1\\nAnd the beans and rice were mediocre at best.\\t0\\nBest tacos in town by far!!\\t1\\nI took back my money and got outta there.\\t0\\nIn an interesting part of town, this place is amazing.\\t1\\nRUDE & INCONSIDERATE MANAGEMENT.\\t0\\nThe staff are now not as friendly, the wait times for being served are horrible, no one even says hi for the first 10 minutes.\\t0\\nI won\\'t be back.\\t0\\nThey have great dinners.\\t1\\nThe service was outshining & I definitely recommend the Halibut.\\t1\\nThe food was terrible.\\t0\\nWILL NEVER EVER GO BACK AND HAVE TOLD MANY PEOPLE WHAT HAD HAPPENED.\\t0\\nI don\\'t recommend unless your car breaks down in front of it and you are starving.\\t0\\nI will come back here every time I\\'m in Vegas.\\t1\\nThis place deserves one star and 90% has to do with the food.\\t0\\nThis is a disgrace.\\t0\\nDef coming back to bowl next time\\t1\\nIf you want healthy authentic or ethic food, try this place.\\t1\\nI will continue to come here on ladies night andddd date night ... highly recommend this place to anyone who is in the area.\\t1\\nI have been here several times in the past, and the experience has always been great.\\t1\\nWe walked away stuffed and happy about our first Vegas buffet experience.\\t1\\nService was excellent and prices are pretty reasonable considering this is Vegas and located inside the Crystals shopping mall by Aria.\\t1\\nTo summarize... the food was incredible, nay, transcendant... but nothing brings me joy quite like the memory of the pneumatic condiment dispenser.\\t1\\nI\\'m probably one of the few people to ever go to Ians and not like it.\\t0\\nKids pizza is always a hit too with lots of great side dish options for the kiddos!\\t1\\nService is perfect and the family atmosphere is nice to see.\\t1\\nCooked to perfection and the service was impeccable.\\t1\\nThis one is simply a disappointment.\\t0\\nOverall, I was very disappointed with the quality of food at Bouchon.\\t0\\nI don\\'t have to be an accountant to know I\\'m getting screwed!\\t0\\nGreat place to eat, reminds me of the little mom and pop shops in the San Francisco Bay Area.\\t1\\nToday was my first taste of a Buldogis Gourmet Hot Dog and I have to tell you it was more than I ever thought possible.\\t1\\nLeft very frustrated.\\t0\\nI\\'ll definitely be in soon again.\\t1\\nFood was really good and I got full petty fast.\\t1\\nService was fantastic.\\t1\\nTOTAL WASTE OF TIME.\\t0\\nI don\\'t know what kind it is but they have the best iced tea.\\t1\\nCome hungry, leave happy and stuffed!\\t1\\nFor service, I give them no stars.\\t0\\nI can assure you that you won\\'t be disappointed.\\t1\\nI can take a little bad service but the food sucks.\\t0\\nGave up trying to eat any of the crust (teeth still sore).\\t0\\nBut now I was completely grossed out.\\t0\\nI really enjoyed eating here.\\t1\\nFirst time going but I think I will quickly become a regular.\\t1\\nOur server was very nice, and even though he looked a little overwhelmed with all of our needs, he stayed professional and friendly until the end.\\t1\\nFrom what my dinner companions told me...everything was very fresh with nice texture and taste.\\t1\\nOn the ground, right next to our table was a large, smeared, been-stepped-in-and-tracked-everywhere pile of green bird poop.\\t0\\nFurthermore, you can\\'t even find hours of operation on the website!\\t0\\nWe\\'ve tried to like this place but after 10+ times I think we\\'re done with them.\\t0\\nWhat a mistake that was!\\t0\\nNo complaints!\\t1\\nThis is some seriously good pizza and I\\'m an expert/connisseur on the topic.\\t1\\nWaiter was a jerk.\\t0\\nStrike 2, who wants to be rushed.\\t0\\nThese are the nicest restaurant owners I\\'ve ever come across.\\t1\\nI never come again.\\t0\\nWe loved the biscuits!!!\\t1\\nService is quick and friendly.\\t1\\nOrdered an appetizer and took 40 minutes and then the pizza another 10 minutes.\\t0\\nSo absolutley fantastic.\\t1\\nIt was a huge awkward 1.5lb piece of cow that was 3/4ths gristle and fat.\\t0\\ndefinitely will come back here again.\\t1\\nI like Steiners because it\\'s dark and it feels like a bar.\\t1\\nWow very spicy but delicious.\\t1\\nIf you\\'re not familiar, check it out.\\t1\\nI\\'ll take my business dinner dollars elsewhere.\\t0\\nI\\'d love to go back.\\t1\\nAnyway, this FS restaurant has a wonderful breakfast/lunch.\\t1\\nNothing special.\\t0\\nEach day of the week they have a different deal and it\\'s all so delicious!\\t1\\nNot to mention the combination of pears, almonds and bacon is a big winner!\\t1\\nWill not be back.\\t0\\nSauce was tasteless.\\t0\\nThe food is delicious and just spicy enough, so be sure to ask for spicier if you prefer it that way.\\t1\\nMy ribeye steak was cooked perfectly and had great mesquite flavor.\\t1\\nI don\\'t think we\\'ll be going back anytime soon.\\t0\\nFood was so gooodd.\\t1\\nI am far from a sushi connoisseur but I can definitely tell the difference between good food and bad food and this was certainly bad food.\\t0\\nI was so insulted.\\t0\\nThe last 3 times I had lunch here has been bad.\\t0\\nThe chicken wings contained the driest chicken meat I have ever eaten.\\t0\\nThe food was very good and I enjoyed every mouthful, an enjoyable relaxed venue for couples small family groups etc.\\t1\\nNargile - I think you are great.\\t1\\nBest tater tots in the southwest.\\t1\\nWe loved the place.\\t1\\nDefinitely not worth the $3 I paid.\\t0\\nThe vanilla ice cream was creamy and smooth while the profiterole (choux) pastry was fresh enough.\\t1\\nIm in AZ all the time and now have my new spot.\\t1\\nThe manager was the worst.\\t0\\nThe inside is really quite nice and very clean.\\t1\\nThe food was outstanding and the prices were very reasonable.\\t1\\nI don\\'t think I\\'ll be running back to Carly\\'s anytime soon for food.\\t0\\nThis is was due to the fact that it took 20 minutes to be acknowledged, then another 35 minutes to get our food...and they kept forgetting things.\\t0\\nLove the margaritas, too!\\t1\\nThis was my first and only Vegas buffet and it did not disappoint.\\t1\\nVery good, though!\\t1\\nThe one down note is the ventilation could use some upgrading.\\t0\\nGreat pork sandwich.\\t1\\nDon\\'t waste your time here.\\t0\\nTotal letdown, I would much rather just go to the Camelback Flower Shop and Cartel Coffee.\\t0\\nThird, the cheese on my friend\\'s burger was cold.\\t0\\nWe enjoy their pizza and brunch.\\t1\\nThe steaks are all well trimmed and also perfectly cooked.\\t1\\nWe had a group of 70+ when we claimed we would only have 40 and they handled us beautifully.\\t1\\nI LOVED it!\\t1\\nWe asked for the bill to leave without eating and they didn\\'t bring that either.\\t0\\nThis place is a jewel in Las Vegas, and exactly what I\\'ve been hoping to find in nearly ten years living here.\\t1\\nSeafood was limited to boiled shrimp and crab legs but the crab legs definitely did not taste fresh.\\t0\\nThe selection of food was not the best.\\t0\\nDelicious and I will absolutely be back!\\t1\\nThis isn\\'t a small family restaurant, this is a fine dining establishment.\\t1\\nThey had a toro tartare with a cavier that was extraordinary and I liked the thinly sliced wagyu with white truffle.\\t1\\nI dont think I will be back for a very long time.\\t0\\nIt was attached to a gas station, and that is rarely a good sign.\\t0\\nHow awesome is that.\\t1\\nI will be back many times soon.\\t1\\nThe menu had so much good stuff on it i could not decide!\\t1\\nWorse of all, he humiliated his worker right in front of me..Bunch of horrible name callings.\\t0\\nCONCLUSION: Very filling meals.\\t1\\nTheir daily specials are always a hit with my group.\\t1\\nAnd then tragedy struck.\\t0\\nThe pancake was also really good and pretty large at that.\\t1\\nThis was my first crawfish experience, and it was delicious!\\t1\\nTheir monster chicken fried steak and eggs is my all time favorite.\\t1\\nWaitress was sweet and funny.\\t1\\nI also had to taste my Mom\\'s multi-grain pumpkin pancakes with pecan butter and they were amazing, fluffy, and delicious!\\t1\\nI\\'d rather eat airline food, seriously.\\t0\\nCant say enough good things about this place.\\t1\\nThe ambiance was incredible.\\t1\\nThe waitress and manager are so friendly.\\t1\\nI would not recommend this place.\\t0\\nOverall I wasn\\'t very impressed with Noca.\\t0\\nMy gyro was basically lettuce only.\\t0\\nTerrible service!\\t0\\nThoroughly disappointed!\\t0\\nI don\\'t each much pasta, but I love the homemade /hand made pastas and thin pizzas here.\\t1\\nGive it a try, you will be happy you did.\\t1\\nBy far the BEST cheesecurds we have ever had!\\t1\\nReasonably priced also!\\t1\\nEverything was perfect the night we were in.\\t1\\nThe food is very good for your typical bar food.\\t1\\nit was a drive to get there.\\t0\\nAt first glance it is a lovely bakery cafe - nice ambiance, clean, friendly staff.\\t1\\nAnyway, I do not think i will go back there.\\t0\\nPoint your finger at any item on the menu, order it and you won\\'t be disappointed.\\t1\\nOh this is such a thing of beauty, this restaurant.\\t1\\nIf you haven\\'t gone here GO NOW!\\t1\\nA greasy, unhealthy meal.\\t0\\nfirst time there and might just be the last.\\t0\\nThose burgers were amazing.\\t1\\nSimilarly, the delivery man did not say a word of apology when our food was 45 minutes late.\\t0\\nAnd it was way to expensive.\\t0\\nBe sure to order dessert, even if you need to pack it to-go - the tiramisu and cannoli are both to die for.\\t1\\nThis was my first time and I can\\'t wait until the next.\\t1\\nThe bartender was also nice.\\t1\\nEverything was good and tasty!\\t1\\nThis place is two thumbs up....way up.\\t1\\nThe best place in Vegas for breakfast (just check out a Sat, or Sun.\\t1\\nIf you love authentic Mexican food and want a whole bunch of interesting, yet delicious meats to choose from, you need to try this place.\\t1\\nTerrible management.\\t0\\nAn excellent new restaurant by an experienced Frenchman.\\t1\\nIf there were zero stars I would give it zero stars.\\t0\\nGreat steak, great sides, great wine, amazing desserts.\\t1\\nWorst martini ever!\\t0\\nThe steak and the shrimp are in my opinion the best entrees at GC.\\t1\\nI had the opportunity today to sample your amazing pizzas!\\t1\\nWe waited for thirty minutes to be seated (although there were 8 vacant tables and we were the only folks waiting).\\t0\\nThe yellowtail carpaccio was melt in your mouth fresh.\\t1\\nI won\\'t try going back there even if it\\'s empty.\\t0\\nNo, I\\'m going to eat the potato that I found some strangers hair in it.\\t0\\nJust spicy enough.. Perfect actually.\\t1\\nLast night was my second time dining here and I was so happy I decided to go back!\\t1\\nnot even a \"hello, we will be right with you.\"\\t0\\nThe desserts were a bit strange.\\t0\\nMy boyfriend and I came here for the first time on a recent trip to Vegas and could not have been more pleased with the quality of food and service.\\t1\\nI really do recommend this place, you can go wrong with this donut place!\\t1\\nNice ambiance.\\t1\\nI would recommend saving room for this!\\t1\\nI guess maybe we went on an off night but it was disgraceful.\\t0\\nHowever, my recent experience at this particular location was not so good.\\t0\\nI know this is not like the other restaurants at all, something is very off here!\\t0\\nAVOID THIS ESTABLISHMENT!\\t0\\nI think this restaurant suffers from not trying hard enough.\\t0\\nAll of the tapas dishes were delicious!\\t1\\nI *heart* this place.\\t1\\nMy salad had a bland vinegrette on the baby greens and hearts of Palm.\\t0\\nAfter two I felt disgusting.\\t0\\nA good time!\\t1\\nI believe that this place is a great stop for those with a huge belly and hankering for sushi.\\t1\\nGenerous portions and great taste.\\t1\\nI will never go back to this place and will never ever recommended this place to anyone!\\t0\\nThe servers went back and forth several times, not even so much as an \"Are you being helped?\"\\t0\\nFood was delicious!\\t1\\nAN HOUR... seriously?\\t0\\nI consider this theft.\\t0\\nEew... This location needs a complete overhaul.\\t0\\nWe recently witnessed her poor quality of management towards other guests as well.\\t0\\nWaited and waited and waited.\\t0\\nHe also came back to check on us regularly, excellent service.\\t1\\nOur server was super nice and checked on us many times.\\t1\\nThe pizza tasted old, super chewy in not a good way.\\t0\\nI swung in to give them a try but was deeply disappointed.\\t0\\nService was good and the company was better!\\t1\\nThe staff are also very friendly and efficient.\\t1\\nAs for the service: I\\'m a fan, because it\\'s quick and you\\'re being served by some nice folks.\\t1\\nBoy was that sucker dry!!.\\t0\\nOver rated.\\t0\\nIf you look for authentic Thai food, go else where.\\t0\\nTheir steaks are 100% recommended!\\t1\\nAfter I pulled up my car I waited for another 15 minutes before being acknowledged.\\t0\\nGreat food and great service in a clean and friendly setting.\\t1\\nAll in all, I can assure you I\\'ll be back.\\t1\\nI hate those things as much as cheap quality black olives.\\t0\\nMy breakfast was perpared great, with a beautiful presentation of 3 giant slices of Toast, lightly dusted with powdered sugar.\\t1\\nThe kids play area is NASTY!\\t0\\nGreat place fo take out or eat in.\\t1\\nThe waitress was friendly and happy to accomodate for vegan/veggie options.\\t1\\nOMG I felt like I had never eaten Thai food until this dish.\\t1\\nIt was extremely \"crumby\" and pretty tasteless.\\t0\\nIt was a pale color instead of nice and char and has NO flavor.\\t0\\nThe croutons also taste homemade which is an extra plus.\\t1\\nI got home to see the driest damn wings ever!\\t0\\nIt\\'ll be a regular stop on my trips to Phoenix!\\t1\\nI really enjoyed Crema Caf\\xc3\\xa9 before they expanded. I even told friends they had the BEST breakfast.\\t1\\nNot good for the money.\\t0\\nI miss it and wish they had one in Philadelphia!\\t1\\nWe got sitting fairly fast, but, ended up waiting 40 minutes just to place our order, another 30 minutes before the food arrived.\\t0\\nThey also have the best cheese crisp in town.\\t1\\nGood value, great food, great service.\\t1\\nCouldn\\'t ask for a more satisfying meal.\\t1\\nThe food is good.\\t1\\nIt was awesome.\\t1\\nI just wanted to leave.\\t0\\nWe made the drive all the way from North Scottsdale... and I was not one bit disappointed!\\t1\\nI will not be eating there again.\\t0\\n!....THE OWNERS REALLY REALLY need to quit being soooooo cheap let them wrap my freaking sandwich in two papers not one!\\t0\\nI checked out this place a couple years ago and was not impressed.\\t0\\nThe chicken I got was definitely reheated and was only ok, the wedges were cold and soggy.\\t0\\nSorry, I will not be getting food from here anytime soon :(\\t0\\nAn absolute must visit!\\t1\\nThe cow tongue and cheek tacos are amazing.\\t1\\nMy friend did not like his Bloody Mary.\\t0\\nDespite how hard I rate businesses, its actually rare for me to give a 1 star.\\t0\\nThey really want to make your experience a good one.\\t1\\nI will not return.\\t0\\nI had the chicken Pho and it tasted very bland.\\t0\\nVery disappointing!!!\\t0\\nThe grilled chicken was so tender and yellow from the saffron seasoning.\\t1\\na drive thru means you do not want to wait around for half an hour for your food, but somehow when we end up going here they make us wait and wait.\\t0\\nPretty awesome place.\\t1\\nAmbience is perfect.\\t1\\nBest of luck to the rude and non-customer service focused new management.\\t0\\nAny grandmother can make a roasted chicken better than this one.\\t0\\nI asked multiple times for the wine list and after some time of being ignored I went to the hostess and got one myself.\\t0\\nThe staff is always super friendly and helpful, which is especially cool when you bring two small boys and a baby!\\t1\\nFour stars for the food & the guy in the blue shirt for his great vibe & still letting us in to eat !\\t1\\nThe roast beef sandwich tasted really good!\\t1\\nSame evening, him and I are both drastically sick.\\t0\\nHigh-quality chicken on the chicken Caesar salad.\\t1\\nOrdered burger rare came in we\\'ll done.\\t0\\nWe were promptly greeted and seated.\\t1\\nTried to go here for lunch and it was a madhouse.\\t0\\nI was proven dead wrong by this sushi bar, not only because the quality is great, but the service is fast and the food, impeccable.\\t1\\nAfter waiting an hour and being seated, I was not in the greatest of moods.\\t0\\nThis is a good joint.\\t1\\nThe Macarons here are insanely good.\\t1\\nI\\'m not eating here!\\t0\\nOur waiter was very attentive, friendly, and informative.\\t1\\nMaybe if they weren\\'t cold they would have been somewhat edible.\\t0\\nThis place has a lot of promise but fails to deliver.\\t0\\nVery bad Experience!\\t0\\nWhat a mistake.\\t0\\nFood was average at best.\\t0\\nGreat food.\\t1\\nWe won\\'t be going back anytime soon!\\t0\\nVery Very Disappointed ordered the $35 Big Bay Plater.\\t0\\nGreat place to relax and have an awesome burger and beer.\\t1\\nIt is PERFECT for a sit-down family meal or get together with a few friends.\\t1\\nNot much flavor to them, and very poorly constructed.\\t0\\nThe patio seating was very comfortable.\\t1\\nThe fried rice was dry as well.\\t0\\nHands down my favorite Italian restaurant!\\t1\\nThat just SCREAMS \"LEGIT\" in my book...somethat\\'s also pretty rare here in Vegas.\\t1\\nIt was just not a fun experience.\\t1\\nThe atmosphere was great with a lovely duo of violinists playing songs we requested.\\t1\\nI personally love the hummus, pita, baklava, falafels and Baba Ganoush (it\\'s amazing what they do with eggplant!).\\t1\\nVery convenient, since we were staying at the MGM!\\t1\\nThe owners are super friendly and the staff is courteous.\\t1\\nBoth great!\\t1\\nEclectic selection.\\t1\\nThe sweet potato tots were good but the onion rings were perfection or as close as I have had.\\t1\\nThe staff was very attentive.\\t1\\nAnd the chef was generous with his time (even came around twice so we can take pictures with him).\\t1\\nThe owner used to work at Nobu, so this place is really similar for half the price.\\t1\\nGoogle mediocre and I imagine Smashburger will pop up.\\t0\\ndont go here.\\t0\\nI promise they won\\'t disappoint.\\t1\\nAs a sushi lover avoid this place by all means.\\t0\\nWhat a great double cheeseburger!\\t1\\nAwesome service and food.\\t1\\nA fantastic neighborhood gem !!!\\t1\\nI can\\'t wait to go back.\\t1\\nThe plantains were the worst I\\'ve ever tasted.\\t0\\nIt\\'s a great place and I highly recommend it.\\t1\\nService was slow and not attentive.\\t0\\nI gave it 5 stars then, and I\\'m giving it 5 stars now.\\t1\\nYour staff spends more time talking to themselves than me.\\t0\\nDessert: Panna Cotta was amazing.\\t1\\nVery good food, great atmosphere.1\\t1\\nDamn good steak.\\t1\\nTotal brunch fail.\\t0\\nPrices are very reasonable, flavors are spot on, the sauce is home made, and the slaw is not drenched in mayo.\\t1\\nThe decor is nice, and the piano music soundtrack is pleasant.\\t1\\nThe steak was amazing...rge fillet relleno was the best seafood plate i have ever had!\\t1\\nGood food , good service .\\t1\\nIt was absolutely amazing.\\t1\\nI probably won\\'t be back, to be honest.\\t0\\nwill definitely be back!\\t1\\nThe sergeant pepper beef sandwich with auju sauce is an excellent sandwich as well.\\t1\\nHawaiian Breeze, Mango Magic, and Pineapple Delight are the smoothies that I\\'ve tried so far and they\\'re all good.\\t1\\nWent for lunch - service was slow.\\t0\\nWe had so much to say about the place before we walked in that he expected it to be amazing, but was quickly disappointed.\\t0\\nI was mortified.\\t0\\nNeedless to say, we will never be back here again.\\t0\\nAnyways, The food was definitely not filling at all, and for the price you pay you should expect more.\\t0\\nThe chips that came out were dripping with grease, and mostly not edible.\\t0\\nI wasn\\'t really impressed with Strip Steak.\\t0\\nHave been going since 2007 and every meal has been awesome!!\\t1\\nOur server was very nice and attentive as were the other serving staff.\\t1\\nThe cashier was friendly and even brought the food out to me.\\t1\\nI work in the hospitality industry in Paradise Valley and have refrained from recommending Cibo any longer.\\t0\\nThe atmosphere here is fun.\\t1\\nWould not recommend to others.\\t0\\nService is quick and even \"to go\" orders are just like we like it!\\t1\\nI mean really, how do you get so famous for your fish and chips when it\\'s so terrible!?!\\t0\\nThat said, our mouths and bellies were still quite pleased.\\t1\\nNot my thing.\\t0\\n2 Thumbs Up!!\\t1\\nIf you are reading this please don\\'t go there.\\t0\\nI loved the grilled pizza, reminded me of legit Italian pizza.\\t1\\nOnly Pros : Large seating area/ Nice bar area/ Great simple drink menu/ The BEST brick oven pizza with homemade dough!\\t1\\nThey have a really nice atmosphere.\\t1\\nTonight I had the Elk Filet special...and it sucked.\\t0\\nAfter one bite, I was hooked.\\t1\\nWe ordered some old classics and some new dishes after going there a few times and were sorely disappointed with everything.\\t0\\nCute, quaint, simple, honest.\\t1\\nThe chicken was deliciously seasoned and had the perfect fry on the outside and moist chicken on the inside.\\t1\\nThe food was great as always, compliments to the chef.\\t1\\nSpecial thanks to Dylan T. for the recommendation on what to order :) All yummy for my tummy.\\t1\\nAwesome selection of beer.\\t1\\nGreat food and awesome service!\\t1\\nOne nice thing was that they added gratuity on the bill since our party was larger than 6 or 8, and they didn\\'t expect more tip than that.\\t1\\nA FLY was in my apple juice.. A FLY!!!!!!!!\\t0\\nThe Han Nan Chicken was also very tasty.\\t1\\nAs for the service, I thought it was good.\\t1\\nThe food was barely lukewarm, so it must have been sitting waiting for the server to bring it out to us.\\t0\\nRyan\\'s Bar is definitely one Edinburgh establishment I won\\'t be revisiting.\\t0\\nNicest Chinese restaurant I\\'ve been in a while.\\t1\\nOverall, I like there food and the service.\\t1\\nThey also now serve Indian naan bread with hummus and some spicy pine nut sauce that was out of this world.\\t1\\nProbably never coming back, and wouldn\\'t recommend it.\\t0\\nFriend\\'s pasta -- also bad, he barely touched it.\\t0\\nTry them in the airport to experience some tasty food and speedy, friendly service.\\t1\\nI love the decor with the Chinese calligraphy wall paper.\\t1\\nNever had anything to complain about here.\\t1\\nThe restaurant is very clean and has a family restaurant feel to it.\\t1\\nIt was way over fried.\\t0\\nI\\'m not sure how long we stood there but it was long enough for me to begin to feel awkwardly out of place.\\t0\\nWhen I opened the sandwich, I was impressed, but not in a good way.\\t0\\nWill not be back!\\t0\\nThere was a warm feeling with the service and I felt like their guest for a special treat.\\t1\\nAn extensive menu provides lots of options for breakfast.\\t1\\nI always order from the vegetarian menu during dinner, which has a wide array of options to choose from.\\t1\\nI have watched their prices inflate, portions get smaller and management attitudes grow rapidly!\\t0\\nWonderful lil tapas and the ambience made me feel all warm and fuzzy inside.\\t1\\nI got to enjoy the seafood salad, with a fabulous vinegrette.\\t1\\nThe wontons were thin, not thick and chewy, almost melt in your mouth.\\t1\\nLevel 5 spicy was perfect, where spice didn\\'t over-whelm the soup.\\t1\\nWe were sat right on time and our server from the get go was FANTASTIC!\\t1\\nMain thing I didn\\'t enjoy is that the crowd is of older crowd, around mid 30s and up.\\t0\\nWhen I\\'m on this side of town, this will definitely be a spot I\\'ll hit up again!\\t1\\nI had to wait over 30 minutes to get my drink and longer to get 2 arepas.\\t0\\nThis is a GREAT place to eat!\\t1\\nThe jalapeno bacon is soooo good.\\t1\\nThe service was poor and thats being nice.\\t0\\nFood was good, service was good, Prices were good.\\t1\\nThe place was not clean and the food oh so stale!\\t0\\nThe chicken dishes are OK, the beef is like shoe leather.\\t0\\nBut the service was beyond bad.\\t0\\nI\\'m so happy to be here!!!\"\\t1\\nTasted like dirt.\\t0\\nOne of the few places in Phoenix that I would definately go back to again .\\t1\\nThe block was amazing.\\t1\\nIt\\'s close to my house, it\\'s low-key, non-fancy, affordable prices, good food.\\t1\\n* Both the Hot & Sour & the Egg Flower Soups were absolutely 5 Stars!\\t1\\nMy sashimi was poor quality being soggy and tasteless.\\t0\\nGreat time - family dinner on a Sunday night.\\t1\\nthe food is not tasty at all, not to say its \"real traditional Hunan style\".\\t0\\nWhat did bother me, was the slow service.\\t0\\nThe flair bartenders are absolutely amazing!\\t1\\nTheir frozen margaritas are WAY too sugary for my taste.\\t0\\nThese were so good we ordered them twice.\\t1\\nSo in a nutshell: 1) The restaraunt smells like a combination of a dirty fish market and a sewer.\\t0\\nMy girlfriend\\'s veal was very bad.\\t0\\nUnfortunately, it was not good.\\t0\\nI had a pretty satifying experience.\\t1\\nJoin the club and get awesome offers via email.\\t1\\nPerfect for someone (me) who only likes beer ice cold, or in this case, even colder.\\t1\\nBland and flavorless is a good way of describing the barely tepid meat.\\t0\\nThe chains, which I\\'m no fan of, beat this place easily.\\t0\\nThe nachos are a MUST HAVE!\\t1\\nWe will not be coming back.\\t0\\nI don\\'t have very many words to say about this place, but it does everything pretty well.\\t1\\nThe staff is super nice and very quick even with the crazy crowds of the downtown juries, lawyers, and court staff.\\t1\\nGreat atmosphere, friendly and fast service.\\t1\\nWhen I received my Pita it was huge it did have a lot of meat in it so thumbs up there.\\t1\\nOnce your food arrives it\\'s meh.\\t0\\nPaying $7.85 for a hot dog and fries that looks like it came out of a kid\\'s meal at the Wienerschnitzel is not my idea of a good meal.\\t0\\nThe classic Maine Lobster Roll was fantastic.\\t1\\nMy brother in law who works at the mall ate here same day, and guess what he was sick all night too.\\t0\\nSo good I am going to have to review this place twice - once hereas a tribute to the place and once as a tribute to an event held here last night.\\t1\\nThe chips and salsa were really good, the salsa was very fresh.\\t1\\nThis place is great!!!!!!!!!!!!!!\\t1\\nMediocre food.\\t0\\nOnce you get inside you\\'ll be impressed with the place.\\t1\\nI\\'m super pissd.\\t0\\nAnd service was super friendly.\\t1\\nWhy are these sad little vegetables so overcooked?\\t0\\nThis place was such a nice surprise!\\t1\\nThey were golden-crispy and delicious.\\t1\\nI had high hopes for this place since the burgers are cooked over a charcoal grill, but unfortunately the taste fell flat, way flat.\\t0\\nI could eat their bruschetta all day it is devine.\\t1\\nNot a single employee came out to see if we were OK or even needed a water refill once they finally served us our food.\\t0\\nLastly, the mozzarella sticks, they were the best thing we ordered.\\t1\\nThe first time I ever came here I had an amazing experience, I still tell people how awesome the duck was.\\t1\\nThe server was very negligent of our needs and made us feel very unwelcome... I would not suggest this place!\\t0\\nThe service was terrible though.\\t0\\nThis place is overpriced, not consistent with their boba, and it really is OVERPRICED!\\t0\\nIt was packed!!\\t0\\nI love this place.\\t1\\nI can say that the desserts were yummy.\\t1\\nThe food was terrible.\\t0\\nThe seasonal fruit was fresh white peach puree.\\t1\\nIt kept getting worse and worse so now I\\'m officially done.\\t0\\nThis place should honestly be blown up.\\t0\\nBut I definitely would not eat here again.\\t0\\nDo not waste your money here!\\t0\\nI love that they put their food in nice plastic containers as opposed to cramming it in little paper takeout boxes.\\t1\\nThe cr\\xc3\\xaape was delicate and thin and moist.\\t1\\nAwful service.\\t0\\nWon\\'t ever go here again.\\t0\\nFood quality has been horrible.\\t0\\nFor that price I can think of a few place I would have much rather gone.\\t0\\nThe service here is fair at best.\\t0\\nI do love sushi, but I found Kabuki to be over-priced, over-hip and under-services.\\t0\\nDo yourself a favor and stay away from this dish.\\t0\\nVery poor service.\\t0\\nNo one at the table thought the food was above average or worth the wait that we had for it.\\t0\\nBest service and food ever, Maria our server was so good and friendly she made our day.\\t1\\nThey were excellent.\\t1\\nI paid the bill but did not tip because I felt the server did a terrible job.\\t0\\nJust had lunch here and had a great experience.\\t1\\nI have never had such bland food which surprised me considering the article we read focused so much on their spices and flavor.\\t0\\nFood is way overpriced and portions are fucking small.\\t0\\nI recently tried Caballero\\'s and I have been back every week since!\\t1\\nfor 40 bucks a head, i really expect better food.\\t0\\nThe food came out at a good pace.\\t1\\nI ate there twice on my last visit, and especially enjoyed the salmon salad.\\t1\\nI won\\'t be back.\\t0\\nWe could not believe how dirty the oysters were!\\t0\\nThis place deserves no stars.\\t0\\nI would not recommend this place.\\t0\\nIn fact I\\'m going to round up to 4 stars, just because she was so awesome.\\t1\\nTo my disbelief, each dish qualified as the worst version of these foods I have ever tasted.\\t0\\nBad day or not, I have a very low tolerance for rude customer service people, it is your job to be nice and polite, wash dishes otherwise!!\\t0\\nthe potatoes were great and so was the biscuit.\\t1\\nI probably would not go here again.\\t0\\nSo flavorful and has just the perfect amount of heat.\\t1\\nThe price is reasonable and the service is great.\\t1\\nThe Wife hated her meal (coconut shrimp), and our friends really did not enjoy their meals, either.\\t0\\nMy fella got the huevos rancheros and they didn\\'t look too appealing.\\t0\\nWent in for happy hour, great list of wines.\\t1\\nSome may say this buffet is pricey but I think you get what you pay for and this place you are getting quite a lot!\\t1\\nI probably won\\'t be coming back here.\\t0\\nWorst food/service I\\'ve had in a while.\\t0\\nThis place is pretty good, nice little vibe in the restaurant.\\t1\\nTalk about great customer service of course we will be back.\\t1\\nHot dishes are not hot, cold dishes are close to room temp.I watched staff prepare food with BARE HANDS, no gloves.Everything is deep fried in oil.\\t0\\nI love their fries and their beans.\\t1\\nAlways a pleasure dealing with him.\\t1\\nThey have a plethora of salads and sandwiches, and everything I\\'ve tried gets my seal of approval.\\t1\\nThis place is awesome if you want something light and healthy during the summer.\\t1\\nFor sushi on the Strip, this is the place to go.\\t1\\nThe service was great, even the manager came and helped with our table.\\t1\\nThe feel of the dining room was more college cooking course than high class dining and the service was slow at best.\\t0\\nI started this review with two stars, but I\\'m editing it to give it only one.\\t0\\nthis is the worst sushi i have ever eat besides Costco\\'s.\\t0\\nAll in all an excellent restaurant highlighted by great service, a unique menu, and a beautiful setting.\\t1\\nMy boyfriend and i sat at the bar and had a completely delightful experience.\\t1\\nWeird vibe from owners.\\t0\\nThere was hardly any meat.\\t0\\nI\\'ve had better bagels from the grocery store.\\t0\\nGo To Place for Gyros.\\t1\\nI love the owner/chef, his one authentic Japanese cool dude!\\t1\\nNow the burgers aren\\'t as good, the pizza which used to be amazing is doughy and flavorless.\\t0\\nI found a six inch long piece of wire in my salsa.\\t0\\nThe service was terrible, food was mediocre.\\t0\\nWe definately enjoyed ourselves.\\t1\\nI ordered Albondigas soup - which was just warm - and tasted like tomato soup with frozen meatballs.\\t0\\nOn three different occasions I asked for well done or medium well, and all three times I got the bloodiest piece of meat on my plate.\\t0\\nI had about two bites and refused to eat anymore.\\t0\\nThe service was extremely slow.\\t0\\nAfter 20 minutes wait, I got a table.\\t0\\nSeriously killer hot chai latte.\\t1\\nNo allergy warnings on the menu, and the waitress had absolutely no clue as to which meals did or did not contain peanuts.\\t0\\nMy boyfriend tried the Mediterranean Chicken Salad and fell in love.\\t1\\nTheir rotating beers on tap is also a highlight of this place.\\t1\\nPricing is a bit of a concern at Mellow Mushroom.\\t0\\nWorst Thai ever.\\t0\\nIf you stay in Vegas you must get breakfast here at least once.\\t1\\nI want to first say our server was great and we had perfect service.\\t1\\nThe pizza selections are good.\\t1\\nI had strawberry tea, which was good.\\t1\\nHighly unprofessional and rude to a loyal patron!\\t0\\nOverall, a great experience.\\t1\\nSpend your money elsewhere.\\t0\\nTheir regular toasted bread was equally satisfying with the occasional pats of butter... Mmmm...!\\t1\\nThe Buffet at Bellagio was far from what I anticipated.\\t0\\nAnd the drinks are WEAK, people!\\t0\\n-My order was not correct.\\t0\\nAlso, I feel like the chips are bought, not made in house.\\t0\\nAfter the disappointing dinner we went elsewhere for dessert.\\t0\\nThe chips and sals a here is amazing!!!!!!!!!!!!!!!!!!!\\t1\\nWe won\\'t be returning.\\t0\\nThis is my new fav Vegas buffet spot.\\t1\\nI seriously cannot believe that the owner has so many unexperienced employees that all are running around like chickens with their heads cut off.\\t0\\nVery, very sad.\\t0\\ni felt insulted and disrespected, how could you talk and judge another human being like that?\\t0\\nHow can you call yourself a steakhouse if you can\\'t properly cook a steak, I don\\'t understand!\\t0\\nI\\'m not impressed with the concept or the food.\\t0\\nThe only thing I wasn\\'t too crazy about was their guacamole as I don\\'t like it pur\\xc3\\xa9ed.\\t0\\nThere is really nothing for me at postinos, hope your experience is better\\t0\\nI got food poisoning here at the buffet.\\t0\\nThey brought a fresh batch of fries and I was thinking yay something warm but no!\\t0\\nWhat SHOULD have been a hilarious, yummy Christmas Eve dinner to remember was the biggest fail of the entire trip for us.\\t0\\nNeedless to say, I won\\'t be going back anytime soon.\\t0\\nThis place is disgusting!\\t0\\nEvery time I eat here, I see caring teamwork to a professional degree.\\t1\\nThe RI style calamari was a joke.\\t0\\nHowever, there was so much garlic in the fondue, it was barely edible.\\t0\\nI could barely stomach the meal, but didn\\'t complain because it was a business lunch.\\t0\\nIt was so bad, I had lost the heart to finish it.\\t0\\nIt also took her forever to bring us the check when we asked for it.\\t0\\nWe aren\\'t ones to make a scene at restaurants but I just don\\'t get it...definitely lost the love after this one!\\t0\\nDisappointing experience.\\t0\\nThe food is about on par with Denny\\'s, which is to say, not good at all.\\t0\\nIf you want to wait for mediocre food and downright terrible service, then this is the place for you.\\t0\\nWAAAAAAyyyyyyyyyy over rated is all I am saying.\\t0\\nWe won\\'t be going back.\\t0\\nThe place was fairly clean but the food simply wasn\\'t worth it.\\t0\\nThis place lacked style!!\\t0\\nThe sangria was about half of a glass wine full and was $12, ridiculous.\\t0\\nDon\\'t bother coming here.\\t0\\nThe meat was pretty dry, I had the sliced brisket and pulled pork.\\t0\\nThe building itself seems pretty neat, the bathroom is pretty trippy, but I wouldn\\'t eat here again.\\t0\\nIt was equally awful.\\t0\\nProbably not in a hurry to go back.\\t0\\nvery slow at seating even with reservation.\\t0\\nNot good by any stretch of the imagination.\\t0\\nThe cashew cream sauce was bland and the vegetables were undercooked.\\t0\\nThe chipolte ranch dipping sause was tasteless, seemed thin and watered down with no heat.\\t0\\nIt was a bit too sweet, not really spicy enough, and lacked flavor.\\t0\\nI was VERY disappointed!!\\t0\\nThis place is horrible and way overpriced.\\t0\\nMaybe it\\'s just their Vegetarian fare, but I\\'ve been twice and I thought it was average at best.\\t0\\nIt wasn\\'t busy at all and now we know why.\\t0\\nThe tables outside are also dirty a lot of the time and the workers are not always friendly and helpful with the menu.\\t0\\nThe ambiance here did not feel like a buffet setting, but more of a douchey indoor garden for tea and biscuits.\\t0\\nCon: spotty service.\\t0\\nThe fries were not hot, and neither was my burger.\\t0\\nBut then they came back cold.\\t0\\nThen our food came out, disappointment ensued.\\t0\\nThe real disappointment was our waiter.\\t0\\nMy husband said she was very rude... did not even apologize for the bad food or anything.\\t0\\nThe only reason to eat here would be to fill up before a night of binge drinking just to get some carbs in your stomach.\\t0\\nInsults, profound deuchebaggery, and had to go outside for a smoke break while serving just to solidify it.\\t0\\nIf someone orders two tacos don\\'t\\' you think it may be part of customer service to ask if it is combo or ala cart?\\t0\\nShe was quite disappointed although some blame needs to be placed at her door.\\t0\\nAfter all the rave reviews I couldn\\'t wait to eat here......what a disappointment!\\t0\\nDel Taco is pretty nasty and should be avoided if possible.\\t0\\nIt\\'s NOT hard to make a decent hamburger.\\t0\\nBut I don\\'t like it.\\t0\\nHell no will I go back\\t0\\nWe\\'ve have gotten a much better service from the pizza place next door than the services we received from this restaurant.\\t0\\nI don\\'t know what the big deal is about this place, but I won\\'t be back \"ya\\'all\".\\t0\\nI immediately said I wanted to talk to the manager but I did not want to talk to the guy who was doing shots of fireball behind the bar.\\t0\\nThe ambiance isn\\'t much better.\\t0\\nUnfortunately, it only set us up for disapppointment with our entrees.\\t0\\nThe food wasn\\'t good.\\t0\\nYour servers suck, wait, correction, our server Heimer sucked.\\t0\\nWhat happened next was pretty....off putting.\\t0\\ntoo bad cause I know it\\'s family owned, I really wanted to like this place.\\t0\\nOverpriced for what you are getting.\\t0\\nI vomited in the bathroom mid lunch.\\t0\\nI kept looking at the time and it had soon become 35 minutes, yet still no food.\\t0\\nI have been to very few places to eat that under no circumstances would I ever return to, and this tops the list.\\t0\\nWe started with the tuna sashimi which was brownish in color and obviously wasn\\'t fresh.\\t0\\nFood was below average.\\t0\\nIt sure does beat the nachos at the movies but I would expect a little bit more coming from a restaurant.\\t0\\nAll in all, Ha Long Bay was a bit of a flop.\\t0\\nThe problem I have is that they charge $11.99 for a sandwich that is no bigger than a Subway sub (which offers better and more amount of vegetables).\\t0\\nShrimp- When I unwrapped it (I live only 1/2 a mile from Brushfire) it was literally ice cold.\\t0\\nIt lacked flavor, seemed undercooked, and dry.\\t0\\nIt really is impressive that the place hasn\\'t closed down.\\t0\\nI would avoid this place if you are staying in the Mirage.\\t0\\nThe refried beans that came with my meal were dried out and crusty and the food was bland.\\t0\\nSpend your money and time some place else.\\t0\\nA lady at the table next to us found a live green caterpillar In her salad.\\t0\\nthe presentation of the food was awful.\\t0\\nI can\\'t tell you how disappointed I was.\\t0\\nI think food should have flavor and texture and both were lacking.\\t0\\nAppetite instantly gone.\\t0\\nOverall I was not impressed and would not go back.\\t0\\nThe whole experience was underwhelming, and I think we\\'ll just go to Ninja Sushi next time.\\t0\\nThen, as if I hadn\\'t wasted enough of my life there, they poured salt in the wound by drawing out the time it took to bring the check.\\t0\\n'}"
            ]
          },
          "metadata": {},
          "execution_count": 2
        }
      ]
    },
    {
      "cell_type": "markdown",
      "metadata": {
        "id": "o5d2s-ECQ9Jr"
      },
      "source": [
        "For loading a tsv file we use delimiter '\\t  and to remove quotes we have to use 3"
      ]
    },
    {
      "cell_type": "code",
      "metadata": {
        "id": "aOMPQqQsf67d"
      },
      "source": [
        "dataset = pd.read_csv('Restaurant_Reviews.tsv', delimiter= '\\t', quoting = 3)"
      ],
      "execution_count": 5,
      "outputs": []
    },
    {
      "cell_type": "markdown",
      "metadata": {
        "id": "lEm2LfhqGiJh"
      },
      "source": [
        "## Cleaning the text"
      ]
    },
    {
      "cell_type": "code",
      "metadata": {
        "colab": {
          "base_uri": "https://localhost:8080/"
        },
        "id": "WU4OTXFNDYic",
        "outputId": "35079f7a-f8e9-44da-dc19-f883e7dc2744"
      },
      "source": [
        "import re\n",
        "import nltk\n",
        "# downloading stopwords\n",
        "nltk.download('stopwords')\n",
        "# importing stopwords\n",
        "from nltk.corpus import stopwords\n",
        "# {Love} (loving, loved) it refines different formats of a single word into the present form of the word, hence increases efficency and reduces space.\n",
        "from nltk.stem.porter import PorterStemmer\n",
        "# \n",
        "corpus = []\n",
        "\n",
        "for i in range(0, 1000):\n",
        "  review = re.sub('[^a-zA-Z]', ' ', dataset['Review'][i])\n",
        "  review = review.lower()\n",
        "  review = review.split()\n",
        "  ps = PorterStemmer()\n",
        "  all_stopwords = stopwords.words('english')\n",
        "  all_stopwords.remove('not')\n",
        "  review = [ps.stem(word) for word in review if not word in set(all_stopwords)]\n",
        "  review = ' '.join(review)\n",
        "  corpus.append(review)"
      ],
      "execution_count": 14,
      "outputs": [
        {
          "output_type": "stream",
          "name": "stdout",
          "text": [
            "[nltk_data] Downloading package stopwords to /root/nltk_data...\n",
            "[nltk_data]   Package stopwords is already up-to-date!\n"
          ]
        }
      ]
    },
    {
      "cell_type": "code",
      "metadata": {
        "colab": {
          "base_uri": "https://localhost:8080/"
        },
        "id": "gcMhU_I0V_0m",
        "outputId": "01ab248d-fb49-47f6-c95d-67eb211e493b"
      },
      "source": [
        "print(corpus)"
      ],
      "execution_count": 15,
      "outputs": [
        {
          "output_type": "stream",
          "name": "stdout",
          "text": [
            "['wow love place', 'crust not good', 'not tasti textur nasti', 'stop late may bank holiday rick steve recommend love', 'select menu great price', 'get angri want damn pho', 'honeslti tast fresh', 'potato like rubber could tell made ahead time kept warmer', 'fri great', 'great touch', 'servic prompt', 'would not go back', 'cashier care ever say still end wayyy overpr', 'tri cape cod ravoli chicken cranberri mmmm', 'disgust pretti sure human hair', 'shock sign indic cash', 'highli recommend', 'waitress littl slow servic', 'place not worth time let alon vega', 'not like', 'burritto blah', 'food amaz', 'servic also cute', 'could care less interior beauti', 'perform', 'right red velvet cake ohhh stuff good', 'never brought salad ask', 'hole wall great mexican street taco friendli staff', 'took hour get food tabl restaur food luke warm sever run around like total overwhelm', 'worst salmon sashimi', 'also combo like burger fri beer decent deal', 'like final blow', 'found place accid could not happier', 'seem like good quick place grab bite familiar pub food favor look elsewher', 'overal like place lot', 'redeem qualiti restaur inexpens', 'ampl portion good price', 'poor servic waiter made feel like stupid everi time came tabl', 'first visit hiro delight', 'servic suck', 'shrimp tender moist', 'not deal good enough would drag establish', 'hard judg whether side good gross melt styrofoam want eat fear get sick', 'posit note server attent provid great servic', 'frozen puck disgust worst peopl behind regist', 'thing like prime rib dessert section', 'bad food damn gener', 'burger good beef cook right', 'want sandwich go firehous', 'side greek salad greek dress tasti pita hummu refresh', 'order duck rare pink tender insid nice char outsid', 'came run us realiz husband left sunglass tabl', 'chow mein good', 'horribl attitud toward custom talk one custom enjoy food', 'portion huge', 'love friendli server great food wonder imagin menu', 'heart attack grill downtown vega absolut flat line excus restaur', 'not much seafood like string pasta bottom', 'salad right amount sauc not power scallop perfectli cook', 'rip banana not rip petrifi tasteless', 'least think refil water struggl wave minut', 'place receiv star appet', 'cocktail handmad delici', 'definit go back', 'glad found place', 'great food servic huge portion give militari discount', 'alway great time do gringo', 'updat went back second time still amaz', 'got food appar never heard salt batter fish chewi', 'great way finish great', 'deal includ tast drink jeff went beyond expect', 'realli realli good rice time', 'servic meh', 'took min get milkshak noth chocol milk', 'guess known place would suck insid excalibur use common sens', 'scallop dish quit appal valu well', 'time bad custom servic', 'sweet potato fri good season well', 'today second time lunch buffet pretti good', 'much good food vega feel cheat wast eat opportun go rice compani', 'come like experienc underwhelm relationship parti wait person ask break', 'walk place smell like old greas trap other eat', 'turkey roast beef bland', 'place', 'pan cake everyon rave tast like sugari disast tailor palat six year old', 'love pho spring roll oh yummi tri', 'poor batter meat ratio made chicken tender unsatisfi', 'say food amaz', 'omelet die', 'everyth fresh delici', 'summari larg disappoint dine experi', 'like realli sexi parti mouth outrag flirt hottest person parti', 'never hard rock casino never ever step forward', 'best breakfast buffet', 'say bye bye tip ladi', 'never go', 'back', 'food arriv quickli', 'not good', 'side cafe serv realli good food', 'server fantast found wife love roast garlic bone marrow ad extra meal anoth marrow go', 'good thing waiter help kept bloddi mari come', 'best buffet town price cannot beat', 'love mussel cook wine reduct duck tender potato dish delici', 'one better buffet', 'went tigerlilli fantast afternoon', 'food delici bartend attent person got great deal', 'ambienc wonder music play', 'go back next trip', 'sooooo good', 'real sushi lover let honest yama not good', 'least min pass us order food arriv busi', 'realli fantast thai restaur definit worth visit', 'nice spici tender', 'good price', 'check', 'pretti gross', 'better atmospher', 'kind hard mess steak', 'although much like look sound place actual experi bit disappoint', 'know place manag serv blandest food ever eaten prepar indian cuisin', 'worst servic boot least worri', 'servic fine waitress friendli', 'guy steak steak love son steak best worst place said best steak ever eaten', 'thought ventur away get good sushi place realli hit spot night', 'host staff lack better word bitch', 'bland not like place number reason want wast time bad review leav', 'phenomen food servic ambianc', 'return', 'definit worth ventur strip pork belli return next time vega', 'place way overpr mediocr food', 'penn vodka excel', 'good select food includ massiv meatloaf sandwich crispi chicken wrap delish tuna melt tasti burger', 'manag rude', 'delici nyc bagel good select cream chees real lox caper even', 'great subway fact good come everi subway not meet expect', 'serious solid breakfast', 'one best bar food vega', 'extrem rude realli mani restaur would love dine weekend vega', 'drink never empti made realli great menu suggest', '', 'waiter help friendli rare check us', 'husband ate lunch disappoint food servic', 'red curri much bamboo shoot tasti', 'nice blanket moz top feel like done cover subpar food', 'bathroom clean place well decor', 'menu alway chang food qualiti go servic extrem slow', 'servic littl slow consid serv peopl server food come slow pace', 'give thumb', 'watch waiter pay lot attent tabl ignor us', 'fianc came middl day greet seat right away', 'great restaur mandalay bay', 'wait forti five minut vain', 'crostini came salad stale', 'highlight great qualiti nigiri', 'staff friendli joint alway clean', 'differ cut piec day still wonder tender well well flavor', 'order voodoo pasta first time realli excel pasta sinc go gluten free sever year ago', 'place good', 'unfortun must hit bakeri leftov day everyth order stale', 'came back today sinc reloc still not impress', 'seat immedi', 'menu divers reason price', 'avoid cost', 'restaur alway full never wait', 'delici', 'place hand one best place eat phoenix metro area', 'go look good food', 'never treat bad', 'bacon hella salti', 'also order spinach avocado salad ingredi sad dress liter zero tast', 'realli vega fine dine use right menu hand ladi price list', 'waitress friendli', 'lordi khao soi dish not miss curri lover', 'everyth menu terrif also thrill made amaz accommod vegetarian daughter', 'perhap caught night judg review not inspir go back', 'servic leav lot desir', 'atmospher modern hip maintain touch cozi', 'not weekli haunt definit place come back everi', 'liter sat minut one ask take order', 'burger absolut flavor meat total bland burger overcook charcoal flavor', 'also decid not send back waitress look like verg heart attack', 'dress treat rude', 'probabl dirt', 'love place hit spot want someth healthi not lack quantiti flavor', 'order lemon raspberri ice cocktail also incred', 'food suck expect suck could imagin', 'interest decor', 'realli like crepe station', 'also serv hot bread butter home made potato chip bacon bit top origin good', 'watch prepar delici food', 'egg roll fantast', 'order arriv one gyro miss', 'salad wing ice cream dessert left feel quit satisfi', 'not realli sure joey vote best hot dog valley reader phoenix magazin', 'best place go tasti bowl pho', 'live music friday total blow', 'never insult felt disrespect', 'friendli staff', 'worth drive', 'heard good thing place exceed everi hope could dream', 'food great serivc', 'warm beer help', 'great brunch spot', 'servic friendli invit', 'good lunch spot', 'live sinc first last time step foot place', 'worst experi ever', 'must night place', 'side delish mix mushroom yukon gold pure white corn beateou', 'bug never show would given sure side wall bug climb kitchen', 'minut wait salad realiz come time soon', 'friend love salmon tartar', 'go back', 'extrem tasti', 'waitress good though', 'soggi not good', 'jamaican mojito delici', 'small not worth price', 'food rich order accordingli', 'shower area outsid rins not take full shower unless mind nude everyon see', 'servic bit lack', 'lobster bisqu bussel sprout risotto filet need salt pepper cours none tabl', 'hope bode go busi someon cook come', 'either cold not enough flavor bad', 'love bacon wrap date', 'unbeliev bargain', 'folk otto alway make us feel welcom special', 'main also uninspir', 'place first pho amaz', 'wonder experi made place must stop whenev town', 'food bad enough enjoy deal world worst annoy drunk peopl', 'fun chef', 'order doubl cheeseburg got singl patti fall apart pictur upload yeah still suck', 'great place coupl drink watch sport event wall cover tv', 'possibl give zero star', 'descript said yum yum sauc anoth said eel sauc yet anoth said spici mayo well none roll sauc', 'say would hardest decis honestli dish tast suppos tast amaz', 'not roll eye may stay not sure go back tri', 'everyon attent provid excel custom servic', 'horribl wast time money', 'dish quit flavour', 'time side restaur almost empti excus', 'busi either also build freez cold', 'like review said pay eat place', 'drink took close minut come one point', 'serious flavor delight folk', 'much better ayc sushi place went vega', 'light dark enough set mood', 'base sub par servic receiv effort show gratitud busi go back', 'owner realli great peopl', 'noth privileg work eat', 'greek dress creami flavor', 'overal think would take parent place made similar complaint silent felt', 'pizza good peanut sauc tasti', 'tabl servic pretti fast', 'fantast servic', 'well would given godfath zero star possibl', 'know make', 'tough short flavor', 'hope place stick around', 'bar vega not ever recal charg tap water', 'restaur atmospher exquisit', 'good servic clean inexpens boot', 'seafood fresh gener portion', 'plu buck', 'servic not par either', 'thu far visit twice food absolut delici time', 'good year ago', 'self proclaim coffe cafe wildli disappoint', 'veggitarian platter world', 'cant go wrong food', 'beat', 'stop place madison ironman friendli kind staff', 'chef friendli good job', 'better not dedic boba tea spot even jenni pho', 'like patio servic outstand', 'goat taco skimp meat wow flavor', 'think not', 'mac salad pretti bland not get', 'went bachi burger friend recommend not disappoint', 'servic stink', 'wait wait', 'place not qualiti sushi not qualiti restaur', 'would definit recommend wing well pizza', 'great pizza salad', 'thing went wrong burn saganaki', 'wait hour breakfast could done time better home', 'place amaz', 'hate disagre fellow yelper husband disappoint place', 'wait hour never got either pizza mani around us came later', 'know slow', 'staff great food delish incred beer select', 'live neighborhood disappoint back conveni locat', 'know pull pork could soooo delici', 'get incred fresh fish prepar care', 'go gave star rate pleas know third time eat bachi burger write review', 'love fact everyth menu worth', 'never dine place', 'food excel servic good', 'good beer drink select good food select', 'pleas stay away shrimp stir fri noodl', 'potato chip order sad could probabl count mani chip box probabl around', 'food realli bore', 'good servic check', 'greedi corpor never see anoth dime', 'never ever go back', 'much like go back get pass atroci servic never return', 'summer dine charm outdoor patio delight', 'not expect good', 'fantast food', 'order toast english muffin came untoast', 'food good', 'never go back', 'great food price high qualiti hous made', 'bu boy hand rude', 'point friend basic figur place joke mind make publicli loudli known', 'back good bbq lighter fare reason price tell public back old way', 'consid two us left full happi go wrong', 'bread made hous', 'downsid servic', 'also fri without doubt worst fri ever', 'servic except food good review', 'coupl month later return amaz meal', 'favorit place town shawarrrrrrma', 'black eye pea sweet potato unreal', 'disappoint', 'could serv vinaigrett may make better overal dish still good', 'go far mani place never seen restaur serv egg breakfast especi', 'mom got home immedi got sick bite salad', 'server not pleasant deal alway honor pizza hut coupon', 'truli unbeliev good glad went back', 'fantast servic pleas atmospher', 'everyth gross', 'love place', 'great servic food', 'first bathroom locat dirti seat cover not replenish plain yucki', 'burger got gold standard burger kind disappoint', 'omg food delicioso', 'noth authent place', 'spaghetti noth special whatsoev', 'dish salmon best great', 'veget fresh sauc feel like authent thai', 'worth drive tucson', 'select probabl worst seen vega none', 'pretti good beer select', 'place like chipotl better', 'classi warm atmospher fun fresh appet succul steak basebal steak', 'star brick oven bread app', 'eaten multipl time time food delici', 'sat anoth ten minut final gave left', 'terribl', 'everyon treat equal special', 'take min pancak egg', 'delici', 'good side staff genuin pleasant enthusiast real treat', 'sadli gordon ramsey steak place shall sharpli avoid next trip vega', 'alway even wonder food delici', 'best fish ever life', 'bathroom next door nice', 'buffet small food offer bland', 'outstand littl restaur best food ever tast', 'pretti cool would say', 'definit turn doubt back unless someon els buy', 'server great job handl larg rowdi tabl', 'find wast food despic food', 'wife lobster bisqu soup lukewarm', 'would come back sushi crave vega', 'staff great ambianc great', 'deserv star', 'left stomach ach felt sick rest day', 'drop ball', 'dine space tini elegantli decor comfort', 'custom order way like usual eggplant green bean stir fri love', 'bean rice mediocr best', 'best taco town far', 'took back money got outta', 'interest part town place amaz', 'rude inconsider manag', 'staff not friendli wait time serv horribl one even say hi first minut', 'back', 'great dinner', 'servic outshin definit recommend halibut', 'food terribl', 'never ever go back told mani peopl happen', 'recommend unless car break front starv', 'come back everi time vega', 'place deserv one star food', 'disgrac', 'def come back bowl next time', 'want healthi authent ethic food tri place', 'continu come ladi night andddd date night highli recommend place anyon area', 'sever time past experi alway great', 'walk away stuf happi first vega buffet experi', 'servic excel price pretti reason consid vega locat insid crystal shop mall aria', 'summar food incred nay transcend noth bring joy quit like memori pneumat condiment dispens', 'probabl one peopl ever go ian not like', 'kid pizza alway hit lot great side dish option kiddo', 'servic perfect famili atmospher nice see', 'cook perfect servic impecc', 'one simpli disappoint', 'overal disappoint qualiti food bouchon', 'account know get screw', 'great place eat remind littl mom pop shop san francisco bay area', 'today first tast buldogi gourmet hot dog tell ever thought possibl', 'left frustrat', 'definit soon', 'food realli good got full petti fast', 'servic fantast', 'total wast time', 'know kind best ice tea', 'come hungri leav happi stuf', 'servic give star', 'assur disappoint', 'take littl bad servic food suck', 'gave tri eat crust teeth still sore', 'complet gross', 'realli enjoy eat', 'first time go think quickli becom regular', 'server nice even though look littl overwhelm need stay profession friendli end', 'dinner companion told everyth fresh nice textur tast', 'ground right next tabl larg smear step track everywher pile green bird poop', 'furthermor even find hour oper websit', 'tri like place time think done', 'mistak', 'complaint', 'serious good pizza expert connisseur topic', 'waiter jerk', 'strike want rush', 'nicest restaur owner ever come across', 'never come', 'love biscuit', 'servic quick friendli', 'order appet took minut pizza anoth minut', 'absolutley fantast', 'huge awkward lb piec cow th gristl fat', 'definit come back', 'like steiner dark feel like bar', 'wow spici delici', 'not familiar check', 'take busi dinner dollar elsewher', 'love go back', 'anyway fs restaur wonder breakfast lunch', 'noth special', 'day week differ deal delici', 'not mention combin pear almond bacon big winner', 'not back', 'sauc tasteless', 'food delici spici enough sure ask spicier prefer way', 'ribey steak cook perfectli great mesquit flavor', 'think go back anytim soon', 'food gooodd', 'far sushi connoisseur definit tell differ good food bad food certainli bad food', 'insult', 'last time lunch bad', 'chicken wing contain driest chicken meat ever eaten', 'food good enjoy everi mouth enjoy relax venu coupl small famili group etc', 'nargil think great', 'best tater tot southwest', 'love place', 'definit not worth paid', 'vanilla ice cream creami smooth profiterol choux pastri fresh enough', 'im az time new spot', 'manag worst', 'insid realli quit nice clean', 'food outstand price reason', 'think run back carli anytim soon food', 'due fact took minut acknowledg anoth minut get food kept forget thing', 'love margarita', 'first vega buffet not disappoint', 'good though', 'one note ventil could use upgrad', 'great pork sandwich', 'wast time', 'total letdown would much rather go camelback flower shop cartel coffe', 'third chees friend burger cold', 'enjoy pizza brunch', 'steak well trim also perfectli cook', 'group claim would handl us beauti', 'love', 'ask bill leav without eat bring either', 'place jewel la vega exactli hope find nearli ten year live', 'seafood limit boil shrimp crab leg crab leg definit not tast fresh', 'select food not best', 'delici absolut back', 'small famili restaur fine dine establish', 'toro tartar cavier extraordinari like thinli slice wagyu white truffl', 'dont think back long time', 'attach ga station rare good sign', 'awesom', 'back mani time soon', 'menu much good stuff could not decid', 'wors humili worker right front bunch horribl name call', 'conclus fill meal', 'daili special alway hit group', 'tragedi struck', 'pancak also realli good pretti larg', 'first crawfish experi delici', 'monster chicken fri steak egg time favorit', 'waitress sweet funni', 'also tast mom multi grain pumpkin pancak pecan butter amaz fluffi delici', 'rather eat airlin food serious', 'cant say enough good thing place', 'ambianc incred', 'waitress manag friendli', 'would not recommend place', 'overal impress noca', 'gyro basic lettuc', 'terribl servic', 'thoroughli disappoint', 'much pasta love homemad hand made pasta thin pizza', 'give tri happi', 'far best cheesecurd ever', 'reason price also', 'everyth perfect night', 'food good typic bar food', 'drive get', 'first glanc love bakeri cafe nice ambianc clean friendli staff', 'anyway not think go back', 'point finger item menu order disappoint', 'oh thing beauti restaur', 'gone go', 'greasi unhealthi meal', 'first time might last', 'burger amaz', 'similarli deliveri man not say word apolog food minut late', 'way expens', 'sure order dessert even need pack go tiramisu cannoli die', 'first time wait next', 'bartend also nice', 'everyth good tasti', 'place two thumb way', 'best place vega breakfast check sat sun', 'love authent mexican food want whole bunch interest yet delici meat choos need tri place', 'terribl manag', 'excel new restaur experienc frenchman', 'zero star would give zero star', 'great steak great side great wine amaz dessert', 'worst martini ever', 'steak shrimp opinion best entre gc', 'opportun today sampl amaz pizza', 'wait thirti minut seat although vacant tabl folk wait', 'yellowtail carpaccio melt mouth fresh', 'tri go back even empti', 'go eat potato found stranger hair', 'spici enough perfect actual', 'last night second time dine happi decid go back', 'not even hello right', 'dessert bit strang', 'boyfriend came first time recent trip vega could not pleas qualiti food servic', 'realli recommend place go wrong donut place', 'nice ambianc', 'would recommend save room', 'guess mayb went night disgrac', 'howev recent experi particular locat not good', 'know not like restaur someth', 'avoid establish', 'think restaur suffer not tri hard enough', 'tapa dish delici', 'heart place', 'salad bland vinegrett babi green heart palm', 'two felt disgust', 'good time', 'believ place great stop huge belli hanker sushi', 'gener portion great tast', 'never go back place never ever recommend place anyon', 'server went back forth sever time not even much help', 'food delici', 'hour serious', 'consid theft', 'eew locat need complet overhaul', 'recent wit poor qualiti manag toward guest well', 'wait wait wait', 'also came back check us regularli excel servic', 'server super nice check us mani time', 'pizza tast old super chewi not good way', 'swung give tri deepli disappoint', 'servic good compani better', 'staff also friendli effici', 'servic fan quick serv nice folk', 'boy sucker dri', 'rate', 'look authent thai food go els', 'steak recommend', 'pull car wait anoth minut acknowledg', 'great food great servic clean friendli set', 'assur back', 'hate thing much cheap qualiti black oliv', 'breakfast perpar great beauti present giant slice toast lightli dust powder sugar', 'kid play area nasti', 'great place fo take eat', 'waitress friendli happi accomod vegan veggi option', 'omg felt like never eaten thai food dish', 'extrem crumbi pretti tasteless', 'pale color instead nice char flavor', 'crouton also tast homemad extra plu', 'got home see driest damn wing ever', 'regular stop trip phoenix', 'realli enjoy crema caf expand even told friend best breakfast', 'not good money', 'miss wish one philadelphia', 'got sit fairli fast end wait minut place order anoth minut food arriv', 'also best chees crisp town', 'good valu great food great servic', 'ask satisfi meal', 'food good', 'awesom', 'want leav', 'made drive way north scottsdal not one bit disappoint', 'not eat', 'owner realli realli need quit soooooo cheap let wrap freak sandwich two paper not one', 'check place coupl year ago not impress', 'chicken got definit reheat ok wedg cold soggi', 'sorri not get food anytim soon', 'absolut must visit', 'cow tongu cheek taco amaz', 'friend not like bloodi mari', 'despit hard rate busi actual rare give star', 'realli want make experi good one', 'not return', 'chicken pho tast bland', 'disappoint', 'grill chicken tender yellow saffron season', 'drive thru mean not want wait around half hour food somehow end go make us wait wait', 'pretti awesom place', 'ambienc perfect', 'best luck rude non custom servic focus new manag', 'grandmoth make roast chicken better one', 'ask multipl time wine list time ignor went hostess got one', 'staff alway super friendli help especi cool bring two small boy babi', 'four star food guy blue shirt great vibe still let us eat', 'roast beef sandwich tast realli good', 'even drastic sick', 'high qualiti chicken chicken caesar salad', 'order burger rare came done', 'promptli greet seat', 'tri go lunch madhous', 'proven dead wrong sushi bar not qualiti great servic fast food impecc', 'wait hour seat not greatest mood', 'good joint', 'macaron insan good', 'not eat', 'waiter attent friendli inform', 'mayb cold would somewhat edibl', 'place lot promis fail deliv', 'bad experi', 'mistak', 'food averag best', 'great food', 'go back anytim soon', 'disappoint order big bay plater', 'great place relax awesom burger beer', 'perfect sit famili meal get togeth friend', 'not much flavor poorli construct', 'patio seat comfort', 'fri rice dri well', 'hand favorit italian restaur', 'scream legit book somethat also pretti rare vega', 'not fun experi', 'atmospher great love duo violinist play song request', 'person love hummu pita baklava falafel baba ganoush amaz eggplant', 'conveni sinc stay mgm', 'owner super friendli staff courteou', 'great', 'eclect select', 'sweet potato tot good onion ring perfect close', 'staff attent', 'chef gener time even came around twice take pictur', 'owner use work nobu place realli similar half price', 'googl mediocr imagin smashburg pop', 'dont go', 'promis disappoint', 'sushi lover avoid place mean', 'great doubl cheeseburg', 'awesom servic food', 'fantast neighborhood gem', 'wait go back', 'plantain worst ever tast', 'great place highli recommend', 'servic slow not attent', 'gave star give star', 'staff spend time talk', 'dessert panna cotta amaz', 'good food great atmospher', 'damn good steak', 'total brunch fail', 'price reason flavor spot sauc home made slaw not drench mayo', 'decor nice piano music soundtrack pleasant', 'steak amaz rge fillet relleno best seafood plate ever', 'good food good servic', 'absolut amaz', 'probabl back honest', 'definit back', 'sergeant pepper beef sandwich auju sauc excel sandwich well', 'hawaiian breez mango magic pineappl delight smoothi tri far good', 'went lunch servic slow', 'much say place walk expect amaz quickli disappoint', 'mortifi', 'needless say never back', 'anyway food definit not fill price pay expect', 'chip came drip greas mostli not edibl', 'realli impress strip steak', 'go sinc everi meal awesom', 'server nice attent serv staff', 'cashier friendli even brought food', 'work hospit industri paradis valley refrain recommend cibo longer', 'atmospher fun', 'would not recommend other', 'servic quick even go order like like', 'mean realli get famou fish chip terribl', 'said mouth belli still quit pleas', 'not thing', 'thumb', 'read pleas go', 'love grill pizza remind legit italian pizza', 'pro larg seat area nice bar area great simpl drink menu best brick oven pizza homemad dough', 'realli nice atmospher', 'tonight elk filet special suck', 'one bite hook', 'order old classic new dish go time sore disappoint everyth', 'cute quaint simpl honest', 'chicken delici season perfect fri outsid moist chicken insid', 'food great alway compliment chef', 'special thank dylan recommend order yummi tummi', 'awesom select beer', 'great food awesom servic', 'one nice thing ad gratuiti bill sinc parti larger expect tip', 'fli appl juic fli', 'han nan chicken also tasti', 'servic thought good', 'food bare lukewarm must sit wait server bring us', 'ryan bar definit one edinburgh establish revisit', 'nicest chines restaur', 'overal like food servic', 'also serv indian naan bread hummu spici pine nut sauc world', 'probabl never come back recommend', 'friend pasta also bad bare touch', 'tri airport experi tasti food speedi friendli servic', 'love decor chines calligraphi wall paper', 'never anyth complain', 'restaur clean famili restaur feel', 'way fri', 'not sure long stood long enough begin feel awkwardli place', 'open sandwich impress not good way', 'not back', 'warm feel servic felt like guest special treat', 'extens menu provid lot option breakfast', 'alway order vegetarian menu dinner wide array option choos', 'watch price inflat portion get smaller manag attitud grow rapidli', 'wonder lil tapa ambienc made feel warm fuzzi insid', 'got enjoy seafood salad fabul vinegrett', 'wonton thin not thick chewi almost melt mouth', 'level spici perfect spice whelm soup', 'sat right time server get go fantast', 'main thing enjoy crowd older crowd around mid', 'side town definit spot hit', 'wait minut get drink longer get arepa', 'great place eat', 'jalapeno bacon soooo good', 'servic poor that nice', 'food good servic good price good', 'place not clean food oh stale', 'chicken dish ok beef like shoe leather', 'servic beyond bad', 'happi', 'tast like dirt', 'one place phoenix would defin go back', 'block amaz', 'close hous low key non fanci afford price good food', 'hot sour egg flower soup absolut star', 'sashimi poor qualiti soggi tasteless', 'great time famili dinner sunday night', 'food not tasti not say real tradit hunan style', 'bother slow servic', 'flair bartend absolut amaz', 'frozen margarita way sugari tast', 'good order twice', 'nutshel restaraunt smell like combin dirti fish market sewer', 'girlfriend veal bad', 'unfortun not good', 'pretti satifi experi', 'join club get awesom offer via email', 'perfect someon like beer ice cold case even colder', 'bland flavorless good way describ bare tepid meat', 'chain fan beat place easili', 'nacho must', 'not come back', 'mani word say place everyth pretti well', 'staff super nice quick even crazi crowd downtown juri lawyer court staff', 'great atmospher friendli fast servic', 'receiv pita huge lot meat thumb', 'food arriv meh', 'pay hot dog fri look like came kid meal wienerschnitzel not idea good meal', 'classic main lobster roll fantast', 'brother law work mall ate day guess sick night', 'good go review place twice herea tribut place tribut event held last night', 'chip salsa realli good salsa fresh', 'place great', 'mediocr food', 'get insid impress place', 'super pissd', 'servic super friendli', 'sad littl veget overcook', 'place nice surpris', 'golden crispi delici', 'high hope place sinc burger cook charcoal grill unfortun tast fell flat way flat', 'could eat bruschetta day devin', 'not singl employe came see ok even need water refil final serv us food', 'lastli mozzarella stick best thing order', 'first time ever came amaz experi still tell peopl awesom duck', 'server neglig need made us feel unwelcom would not suggest place', 'servic terribl though', 'place overpr not consist boba realli overpr', 'pack', 'love place', 'say dessert yummi', 'food terribl', 'season fruit fresh white peach pure', 'kept get wors wors offici done', 'place honestli blown', 'definit would not eat', 'not wast money', 'love put food nice plastic contain oppos cram littl paper takeout box', 'cr pe delic thin moist', 'aw servic', 'ever go', 'food qualiti horribl', 'price think place would much rather gone', 'servic fair best', 'love sushi found kabuki price hip servic', 'favor stay away dish', 'poor servic', 'one tabl thought food averag worth wait', 'best servic food ever maria server good friendli made day', 'excel', 'paid bill not tip felt server terribl job', 'lunch great experi', 'never bland food surpris consid articl read focus much spice flavor', 'food way overpr portion fuck small', 'recent tri caballero back everi week sinc', 'buck head realli expect better food', 'food came good pace', 'ate twice last visit especi enjoy salmon salad', 'back', 'could not believ dirti oyster', 'place deserv star', 'would not recommend place', 'fact go round star awesom', 'disbelief dish qualifi worst version food ever tast', 'bad day not low toler rude custom servic peopl job nice polit wash dish otherwis', 'potato great biscuit', 'probabl would not go', 'flavor perfect amount heat', 'price reason servic great', 'wife hate meal coconut shrimp friend realli not enjoy meal either', 'fella got huevo ranchero look appeal', 'went happi hour great list wine', 'may say buffet pricey think get pay place get quit lot', 'probabl come back', 'worst food servic', 'place pretti good nice littl vibe restaur', 'talk great custom servic cours back', 'hot dish not hot cold dish close room temp watch staff prepar food bare hand glove everyth deep fri oil', 'love fri bean', 'alway pleasur deal', 'plethora salad sandwich everyth tri get seal approv', 'place awesom want someth light healthi summer', 'sushi strip place go', 'servic great even manag came help tabl', 'feel dine room colleg cook cours high class dine servic slow best', 'start review two star edit give one', 'worst sushi ever eat besid costco', 'excel restaur highlight great servic uniqu menu beauti set', 'boyfriend sat bar complet delight experi', 'weird vibe owner', 'hardli meat', 'better bagel groceri store', 'go place gyro', 'love owner chef one authent japanes cool dude', 'burger good pizza use amaz doughi flavorless', 'found six inch long piec wire salsa', 'servic terribl food mediocr', 'defin enjoy', 'order albondiga soup warm tast like tomato soup frozen meatbal', 'three differ occas ask well done medium well three time got bloodiest piec meat plate', 'two bite refus eat anymor', 'servic extrem slow', 'minut wait got tabl', 'serious killer hot chai latt', 'allergi warn menu waitress absolut clue meal not contain peanut', 'boyfriend tri mediterranean chicken salad fell love', 'rotat beer tap also highlight place', 'price bit concern mellow mushroom', 'worst thai ever', 'stay vega must get breakfast least', 'want first say server great perfect servic', 'pizza select good', 'strawberri tea good', 'highli unprofession rude loyal patron', 'overal great experi', 'spend money elsewher', 'regular toast bread equal satisfi occasion pat butter mmmm', 'buffet bellagio far anticip', 'drink weak peopl', 'order not correct', 'also feel like chip bought not made hous', 'disappoint dinner went elsewher dessert', 'chip sal amaz', 'return', 'new fav vega buffet spot', 'serious cannot believ owner mani unexperienc employe run around like chicken head cut', 'sad', 'felt insult disrespect could talk judg anoth human like', 'call steakhous properli cook steak understand', 'not impress concept food', 'thing crazi guacamol like pur ed', 'realli noth postino hope experi better', 'got food poison buffet', 'brought fresh batch fri think yay someth warm', 'hilari yummi christma eve dinner rememb biggest fail entir trip us', 'needless say go back anytim soon', 'place disgust', 'everi time eat see care teamwork profession degre', 'ri style calamari joke', 'howev much garlic fondu bare edibl', 'could bare stomach meal complain busi lunch', 'bad lost heart finish', 'also took forev bring us check ask', 'one make scene restaur get definit lost love one', 'disappoint experi', 'food par denni say not good', 'want wait mediocr food downright terribl servic place', 'waaaaaayyyyyyyyyi rate say', 'go back', 'place fairli clean food simpli worth', 'place lack style', 'sangria half glass wine full ridicul', 'bother come', 'meat pretti dri slice brisket pull pork', 'build seem pretti neat bathroom pretti trippi eat', 'equal aw', 'probabl not hurri go back', 'slow seat even reserv', 'not good stretch imagin', 'cashew cream sauc bland veget undercook', 'chipolt ranch dip saus tasteless seem thin water heat', 'bit sweet not realli spici enough lack flavor', 'disappoint', 'place horribl way overpr', 'mayb vegetarian fare twice thought averag best', 'busi know', 'tabl outsid also dirti lot time worker not alway friendli help menu', 'ambianc not feel like buffet set douchey indoor garden tea biscuit', 'con spotti servic', 'fri not hot neither burger', 'came back cold', 'food came disappoint ensu', 'real disappoint waiter', 'husband said rude not even apolog bad food anyth', 'reason eat would fill night bing drink get carb stomach', 'insult profound deuchebaggeri go outsid smoke break serv solidifi', 'someon order two taco think may part custom servic ask combo ala cart', 'quit disappoint although blame need place door', 'rave review wait eat disappoint', 'del taco pretti nasti avoid possibl', 'not hard make decent hamburg', 'like', 'hell go back', 'gotten much better servic pizza place next door servic receiv restaur', 'know big deal place back ya', 'immedi said want talk manag not want talk guy shot firebal behind bar', 'ambianc much better', 'unfortun set us disapppoint entre', 'food good', 'server suck wait correct server heimer suck', 'happen next pretti put', 'bad caus know famili own realli want like place', 'overpr get', 'vomit bathroom mid lunch', 'kept look time soon becom minut yet still food', 'place eat circumst would ever return top list', 'start tuna sashimi brownish color obvious fresh', 'food averag', 'sure beat nacho movi would expect littl bit come restaur', 'ha long bay bit flop', 'problem charg sandwich bigger subway sub offer better amount veget', 'shrimp unwrap live mile brushfir liter ice cold', 'lack flavor seem undercook dri', 'realli impress place close', 'would avoid place stay mirag', 'refri bean came meal dri crusti food bland', 'spend money time place els', 'ladi tabl next us found live green caterpillar salad', 'present food aw', 'tell disappoint', 'think food flavor textur lack', 'appetit instantli gone', 'overal not impress would not go back', 'whole experi underwhelm think go ninja sushi next time', 'wast enough life pour salt wound draw time took bring check']\n"
          ]
        }
      ]
    },
    {
      "cell_type": "markdown",
      "metadata": {
        "id": "nyDsOi5lZ1dO"
      },
      "source": [
        "Words like texture, taste, bank, holiday above don't contribute in analysis so we will remove them using max_feature"
      ]
    },
    {
      "cell_type": "markdown",
      "metadata": {
        "id": "iPO9k0srVpLr"
      },
      "source": [
        "## Creating the Bag of Words model\n",
        "\n",
        "Tokenization"
      ]
    },
    {
      "cell_type": "code",
      "metadata": {
        "id": "66XHcdVgVpcv"
      },
      "source": [
        "from sklearn.feature_extraction.text import CountVectorizer\n",
        "cv = CountVectorizer(max_features= 1500) \n",
        "# in order to find max_features need to first run this cell with  cv = CountVectorizer() and then print len(X[0]) \n",
        "# to see most frequent words, based on data we can round of for example 1566 to 1500\n",
        "X = cv.fit_transform(corpus).toarray()\n",
        "Y = dataset.iloc[:, -1].values"
      ],
      "execution_count": 46,
      "outputs": []
    },
    {
      "cell_type": "code",
      "metadata": {
        "colab": {
          "base_uri": "https://localhost:8080/"
        },
        "id": "NOpNslzYYX-t",
        "outputId": "cb7ea17a-fbc0-4cc7-9bef-44db6e8cb884"
      },
      "source": [
        "len(X[0])"
      ],
      "execution_count": 47,
      "outputs": [
        {
          "output_type": "execute_result",
          "data": {
            "text/plain": [
              "1500"
            ]
          },
          "metadata": {},
          "execution_count": 47
        }
      ]
    },
    {
      "cell_type": "markdown",
      "metadata": {
        "id": "hoBXYak1YDem"
      },
      "source": [
        "## Splitting the dataset into Train and Test Set"
      ]
    },
    {
      "cell_type": "code",
      "metadata": {
        "id": "oXB2-0XsZuLS"
      },
      "source": [
        "from sklearn.model_selection import train_test_split\n",
        "X_train, X_test, Y_train, Y_test = train_test_split(X, Y, test_size = 0.20, random_state = 0)"
      ],
      "execution_count": 48,
      "outputs": []
    },
    {
      "cell_type": "markdown",
      "metadata": {
        "id": "gvxx5r-Ya5Wf"
      },
      "source": [
        "## Training the Naive Bayes Model on training set\n",
        "\n",
        "we can use different classification models but the accuracy in NLPs is better in Naive Bayes Model"
      ]
    },
    {
      "cell_type": "code",
      "metadata": {
        "colab": {
          "base_uri": "https://localhost:8080/"
        },
        "id": "PzRBD0MJa41O",
        "outputId": "f6a242fb-8f36-43d3-b70d-82dd89909fea"
      },
      "source": [
        "from sklearn.naive_bayes import GaussianNB\n",
        "classifier = GaussianNB()\n",
        "classifier.fit(X_train, Y_train)"
      ],
      "execution_count": 49,
      "outputs": [
        {
          "output_type": "execute_result",
          "data": {
            "text/plain": [
              "GaussianNB(priors=None, var_smoothing=1e-09)"
            ]
          },
          "metadata": {},
          "execution_count": 49
        }
      ]
    },
    {
      "cell_type": "markdown",
      "metadata": {
        "id": "fC4oizw9bxDS"
      },
      "source": [
        "## Predicting the Test Results"
      ]
    },
    {
      "cell_type": "code",
      "metadata": {
        "colab": {
          "base_uri": "https://localhost:8080/"
        },
        "id": "0ypiSAUmbxSI",
        "outputId": "3cfe0273-af39-4a94-a9a4-19de72ef4329"
      },
      "source": [
        "y_pred = classifier.predict(X_test)\n",
        "print(np.concatenate((y_pred.reshape(len(y_pred), 1), Y_test.reshape(len(Y_test), 1)), 1))"
      ],
      "execution_count": 50,
      "outputs": [
        {
          "output_type": "stream",
          "name": "stdout",
          "text": [
            "[[1 0]\n",
            " [1 0]\n",
            " [1 0]\n",
            " [0 0]\n",
            " [0 0]\n",
            " [1 0]\n",
            " [1 1]\n",
            " [1 0]\n",
            " [1 0]\n",
            " [1 1]\n",
            " [1 1]\n",
            " [1 1]\n",
            " [1 0]\n",
            " [1 1]\n",
            " [1 1]\n",
            " [1 1]\n",
            " [0 0]\n",
            " [0 0]\n",
            " [0 0]\n",
            " [1 1]\n",
            " [0 0]\n",
            " [0 1]\n",
            " [1 1]\n",
            " [1 0]\n",
            " [1 0]\n",
            " [0 1]\n",
            " [1 1]\n",
            " [1 1]\n",
            " [1 1]\n",
            " [0 0]\n",
            " [1 1]\n",
            " [1 1]\n",
            " [1 1]\n",
            " [1 1]\n",
            " [1 1]\n",
            " [0 0]\n",
            " [1 0]\n",
            " [0 0]\n",
            " [1 0]\n",
            " [1 1]\n",
            " [1 1]\n",
            " [1 0]\n",
            " [1 1]\n",
            " [0 0]\n",
            " [0 0]\n",
            " [0 0]\n",
            " [1 0]\n",
            " [1 0]\n",
            " [0 0]\n",
            " [0 0]\n",
            " [1 1]\n",
            " [1 1]\n",
            " [1 1]\n",
            " [1 1]\n",
            " [1 0]\n",
            " [0 0]\n",
            " [1 1]\n",
            " [1 1]\n",
            " [0 0]\n",
            " [1 1]\n",
            " [1 0]\n",
            " [0 0]\n",
            " [1 0]\n",
            " [1 0]\n",
            " [1 1]\n",
            " [0 0]\n",
            " [1 1]\n",
            " [1 1]\n",
            " [1 1]\n",
            " [1 0]\n",
            " [1 1]\n",
            " [1 1]\n",
            " [1 1]\n",
            " [1 1]\n",
            " [0 0]\n",
            " [1 0]\n",
            " [1 1]\n",
            " [0 1]\n",
            " [0 0]\n",
            " [1 1]\n",
            " [0 0]\n",
            " [1 1]\n",
            " [1 1]\n",
            " [0 0]\n",
            " [1 1]\n",
            " [1 1]\n",
            " [1 0]\n",
            " [0 0]\n",
            " [1 1]\n",
            " [1 0]\n",
            " [0 0]\n",
            " [1 1]\n",
            " [0 0]\n",
            " [0 0]\n",
            " [1 0]\n",
            " [1 1]\n",
            " [1 0]\n",
            " [1 1]\n",
            " [1 1]\n",
            " [1 0]\n",
            " [0 1]\n",
            " [1 1]\n",
            " [1 1]\n",
            " [1 0]\n",
            " [0 1]\n",
            " [1 0]\n",
            " [1 1]\n",
            " [1 1]\n",
            " [0 0]\n",
            " [0 1]\n",
            " [0 1]\n",
            " [1 1]\n",
            " [0 0]\n",
            " [1 0]\n",
            " [1 1]\n",
            " [0 0]\n",
            " [1 1]\n",
            " [1 1]\n",
            " [1 1]\n",
            " [1 1]\n",
            " [1 1]\n",
            " [0 0]\n",
            " [1 1]\n",
            " [1 0]\n",
            " [0 0]\n",
            " [0 0]\n",
            " [1 1]\n",
            " [1 0]\n",
            " [0 0]\n",
            " [1 1]\n",
            " [1 0]\n",
            " [1 1]\n",
            " [0 0]\n",
            " [0 0]\n",
            " [1 1]\n",
            " [1 1]\n",
            " [1 1]\n",
            " [1 1]\n",
            " [1 1]\n",
            " [1 0]\n",
            " [0 1]\n",
            " [1 1]\n",
            " [1 1]\n",
            " [0 0]\n",
            " [1 0]\n",
            " [0 0]\n",
            " [1 0]\n",
            " [1 1]\n",
            " [1 1]\n",
            " [1 1]\n",
            " [1 1]\n",
            " [0 1]\n",
            " [1 1]\n",
            " [1 1]\n",
            " [1 0]\n",
            " [0 0]\n",
            " [1 1]\n",
            " [1 1]\n",
            " [1 1]\n",
            " [1 0]\n",
            " [1 0]\n",
            " [0 0]\n",
            " [0 1]\n",
            " [1 1]\n",
            " [0 0]\n",
            " [0 0]\n",
            " [1 0]\n",
            " [0 0]\n",
            " [0 0]\n",
            " [0 1]\n",
            " [0 0]\n",
            " [1 1]\n",
            " [1 1]\n",
            " [0 0]\n",
            " [0 0]\n",
            " [1 1]\n",
            " [0 0]\n",
            " [1 1]\n",
            " [0 0]\n",
            " [0 1]\n",
            " [1 1]\n",
            " [0 0]\n",
            " [0 0]\n",
            " [1 0]\n",
            " [0 0]\n",
            " [1 1]\n",
            " [0 0]\n",
            " [1 1]\n",
            " [0 0]\n",
            " [1 1]\n",
            " [1 1]\n",
            " [0 0]\n",
            " [1 0]\n",
            " [1 0]\n",
            " [1 1]\n",
            " [0 0]\n",
            " [1 1]\n",
            " [1 1]\n",
            " [1 0]\n",
            " [1 1]]\n"
          ]
        }
      ]
    },
    {
      "cell_type": "markdown",
      "metadata": {
        "id": "MzOiatdwdKnS"
      },
      "source": [
        "## Making the Confusion Matrix"
      ]
    },
    {
      "cell_type": "code",
      "metadata": {
        "colab": {
          "base_uri": "https://localhost:8080/",
          "height": 331
        },
        "id": "wgfW24s2dK5m",
        "outputId": "8d36f1ed-0c68-48ec-cd75-753e0d0db01f"
      },
      "source": [
        "from sklearn.metrics import confusion_matrix, ConfusionMatrixDisplay, accuracy_score\n",
        "confusionMatrix = confusion_matrix(Y_test, y_pred)\n",
        "dis = ConfusionMatrixDisplay(confusionMatrix, display_labels=classifier.classes_)\n",
        "accuracy = accuracy_score(Y_test, y_pred)\n",
        "print(confusionMatrix)\n",
        "print(accuracy)\n",
        "\n",
        "dis.plot()\n",
        "plt.show()"
      ],
      "execution_count": 52,
      "outputs": [
        {
          "output_type": "stream",
          "name": "stdout",
          "text": [
            "[[55 42]\n",
            " [12 91]]\n",
            "0.73\n"
          ]
        },
        {
          "output_type": "display_data",
          "data": {
            "image/png": "[encoded data removed]",
            "text/plain": [
              "<Figure size 432x288 with 2 Axes>"
            ]
          },
          "metadata": {
            "needs_background": "light"
          }
        }
      ]
    },
    {
      "cell_type": "markdown",
      "metadata": {
        "id": "NZcOJH_x9GSV"
      },
      "source": [
        "## Predicting if a single review is positive or negative"
      ]
    },
    {
      "cell_type": "markdown",
      "metadata": {
        "id": "4CiVD7lB-G4E"
      },
      "source": [
        "### Positive review"
      ]
    },
    {
      "cell_type": "markdown",
      "metadata": {
        "id": "P1o_pwhj9f3x"
      },
      "source": [
        "Use our model to predict if the following review:\n",
        "\n",
        "\"I love this restaurant so much\"\n",
        "\n",
        "is positive or negative."
      ]
    },
    {
      "cell_type": "markdown",
      "metadata": {
        "id": "hIPHW4zVEvKC"
      },
      "source": [
        "**Solution:** We just repeat the same text preprocessing process we did before, but this time with a single review."
      ]
    },
    {
      "cell_type": "code",
      "metadata": {
        "id": "4-jZEzWD49su",
        "colab": {
          "base_uri": "https://localhost:8080/"
        },
        "outputId": "6b579daf-ba8b-4d3e-cc66-1d89bf622fe0"
      },
      "source": [
        "new_review = 'I love this restaurant so much'\n",
        "new_review = re.sub('[^a-zA-Z]', ' ', new_review)\n",
        "new_review = new_review.lower()\n",
        "new_review = new_review.split()\n",
        "ps = PorterStemmer()\n",
        "all_stopwords = stopwords.words('english')\n",
        "all_stopwords.remove('not')\n",
        "new_review = [ps.stem(word) for word in new_review if not word in set(all_stopwords)]\n",
        "new_review = ' '.join(new_review)\n",
        "new_corpus = [new_review]\n",
        "new_X_test = cv.transform(new_corpus).toarray()\n",
        "new_y_pred = classifier.predict(new_X_test)\n",
        "print(new_y_pred)"
      ],
      "execution_count": 53,
      "outputs": [
        {
          "output_type": "stream",
          "name": "stdout",
          "text": [
            "[1]\n"
          ]
        }
      ]
    },
    {
      "cell_type": "markdown",
      "metadata": {
        "id": "Rkorcoxm93kP"
      },
      "source": [
        "The review was correctly predicted as positive by our model."
      ]
    },
    {
      "cell_type": "markdown",
      "metadata": {
        "id": "9qztXT-i-K1j"
      },
      "source": [
        "### Negative review"
      ]
    },
    {
      "cell_type": "markdown",
      "metadata": {
        "id": "cesW_qiH-CO0"
      },
      "source": [
        "Use our model to predict if the following review:\n",
        "\n",
        "\"I hate this restaurant so much\"\n",
        "\n",
        "is positive or negative."
      ]
    },
    {
      "cell_type": "markdown",
      "metadata": {
        "id": "X1DsvzmVE9EK"
      },
      "source": [
        "**Solution:** We just repeat the same text preprocessing process we did before, but this time with a single review."
      ]
    },
    {
      "cell_type": "code",
      "metadata": {
        "id": "ySAblyR98J2s",
        "colab": {
          "base_uri": "https://localhost:8080/"
        },
        "outputId": "4ff31dd3-5e0c-4590-ac36-9451688a4f29"
      },
      "source": [
        "new_review = 'I hate this restaurant so much'\n",
        "new_review = re.sub('[^a-zA-Z]', ' ', new_review)\n",
        "new_review = new_review.lower()\n",
        "new_review = new_review.split()\n",
        "ps = PorterStemmer()\n",
        "all_stopwords = stopwords.words('english')\n",
        "all_stopwords.remove('not')\n",
        "new_review = [ps.stem(word) for word in new_review if not word in set(all_stopwords)]\n",
        "new_review = ' '.join(new_review)\n",
        "new_corpus = [new_review]\n",
        "new_X_test = cv.transform(new_corpus).toarray()\n",
        "new_y_pred = classifier.predict(new_X_test)\n",
        "print(new_y_pred)"
      ],
      "execution_count": 54,
      "outputs": [
        {
          "output_type": "stream",
          "name": "stdout",
          "text": [
            "[0]\n"
          ]
        }
      ]
    },
    {
      "cell_type": "markdown",
      "metadata": {
        "id": "d72teliY-PUQ"
      },
      "source": [
        "The review was correctly predicted as negative by our model."
      ]
    }
  ]
}