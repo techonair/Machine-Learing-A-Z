{
  "nbformat": 4,
  "nbformat_minor": 0,
  "metadata": {
    "colab": {
      "name": "K-Mean Clustering.ipynb",
      "provenance": [],
      "authorship_tag": "ABX9TyMOvsT5/9V0tmKm2rgUmK9m",
      "include_colab_link": true
    },
    "kernelspec": {
      "name": "python3",
      "display_name": "Python 3"
    },
    "language_info": {
      "name": "python"
    }
  },
  "cells": [
    {
      "cell_type": "markdown",
      "metadata": {
        "id": "view-in-github",
        "colab_type": "text"
      },
      "source": [
        "<a href=\"https://colab.research.google.com/github/techonair/Machine-Learing-A-Z/blob/main/Clustering/K-Mean%20Clustering/K_Mean_Clustering.ipynb\" target=\"_parent\"><img src=\"https://colab.research.google.com/assets/colab-badge.svg\" alt=\"Open In Colab\"/></a>"
      ]
    },
    {
      "cell_type": "markdown",
      "metadata": {
        "id": "TxuoEL3ZezNv"
      },
      "source": [
        "# K-Mean Clustering"
      ]
    },
    {
      "cell_type": "markdown",
      "metadata": {
        "id": "WolwOaFie0MP"
      },
      "source": [
        "## Importing Libraries"
      ]
    },
    {
      "cell_type": "code",
      "metadata": {
        "id": "Yt1Ch5-letxM"
      },
      "source": [
        "import numpy as np\n",
        "import matplotlib.pyplot as plt\n",
        "import pandas as pd"
      ],
      "execution_count": 1,
      "outputs": []
    },
    {
      "cell_type": "markdown",
      "metadata": {
        "id": "yluyeZvFfEUu"
      },
      "source": [
        "## Importing Dataset"
      ]
    },
    {
      "cell_type": "code",
      "metadata": {
        "colab": {
          "resources": {
            "http://localhost:8080/nbextensions/google.colab/files.js": {
              "data": "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",
              "ok": true,
              "headers": [
                [
                  "content-type",
                  "application/javascript"
                ]
              ],
              "status": 200,
              "status_text": ""
            }
          },
          "base_uri": "https://localhost:8080/",
          "height": 110
        },
        "id": "AP9NBkFFfEk-",
        "outputId": "96071a19-1da1-4889-a704-1b4ce727c22c"
      },
      "source": [
        "from google.colab import files\n",
        "files.upload()"
      ],
      "execution_count": 2,
      "outputs": [
        {
          "output_type": "display_data",
          "data": {
            "text/html": [
              "\n",
              "     <input type=\"file\" id=\"files-ee238999-df32-4ec4-afeb-80178d445f42\" name=\"files[]\" multiple disabled\n",
              "        style=\"border:none\" />\n",
              "     <output id=\"result-ee238999-df32-4ec4-afeb-80178d445f42\">\n",
              "      Upload widget is only available when the cell has been executed in the\n",
              "      current browser session. Please rerun this cell to enable.\n",
              "      </output>\n",
              "      <script src=\"/nbextensions/google.colab/files.js\"></script> "
            ],
            "text/plain": [
              "<IPython.core.display.HTML object>"
            ]
          },
          "metadata": {}
        },
        {
          "output_type": "stream",
          "name": "stdout",
          "text": [
            "Saving Mall_Customers.csv to Mall_Customers.csv\n"
          ]
        },
        {
          "output_type": "execute_result",
          "data": {
            "text/plain": [
              "{'Mall_Customers.csv': b'CustomerID,Genre,Age,Annual Income (k$),Spending Score (1-100)\\r\\n0001,Male,19,15,39\\r\\n0002,Male,21,15,81\\r\\n0003,Female,20,16,6\\r\\n0004,Female,23,16,77\\r\\n0005,Female,31,17,40\\r\\n0006,Female,22,17,76\\r\\n0007,Female,35,18,6\\r\\n0008,Female,23,18,94\\r\\n0009,Male,64,19,3\\r\\n0010,Female,30,19,72\\r\\n0011,Male,67,19,14\\r\\n0012,Female,35,19,99\\r\\n0013,Female,58,20,15\\r\\n0014,Female,24,20,77\\r\\n0015,Male,37,20,13\\r\\n0016,Male,22,20,79\\r\\n0017,Female,35,21,35\\r\\n0018,Male,20,21,66\\r\\n0019,Male,52,23,29\\r\\n0020,Female,35,23,98\\r\\n0021,Male,35,24,35\\r\\n0022,Male,25,24,73\\r\\n0023,Female,46,25,5\\r\\n0024,Male,31,25,73\\r\\n0025,Female,54,28,14\\r\\n0026,Male,29,28,82\\r\\n0027,Female,45,28,32\\r\\n0028,Male,35,28,61\\r\\n0029,Female,40,29,31\\r\\n0030,Female,23,29,87\\r\\n0031,Male,60,30,4\\r\\n0032,Female,21,30,73\\r\\n0033,Male,53,33,4\\r\\n0034,Male,18,33,92\\r\\n0035,Female,49,33,14\\r\\n0036,Female,21,33,81\\r\\n0037,Female,42,34,17\\r\\n0038,Female,30,34,73\\r\\n0039,Female,36,37,26\\r\\n0040,Female,20,37,75\\r\\n0041,Female,65,38,35\\r\\n0042,Male,24,38,92\\r\\n0043,Male,48,39,36\\r\\n0044,Female,31,39,61\\r\\n0045,Female,49,39,28\\r\\n0046,Female,24,39,65\\r\\n0047,Female,50,40,55\\r\\n0048,Female,27,40,47\\r\\n0049,Female,29,40,42\\r\\n0050,Female,31,40,42\\r\\n0051,Female,49,42,52\\r\\n0052,Male,33,42,60\\r\\n0053,Female,31,43,54\\r\\n0054,Male,59,43,60\\r\\n0055,Female,50,43,45\\r\\n0056,Male,47,43,41\\r\\n0057,Female,51,44,50\\r\\n0058,Male,69,44,46\\r\\n0059,Female,27,46,51\\r\\n0060,Male,53,46,46\\r\\n0061,Male,70,46,56\\r\\n0062,Male,19,46,55\\r\\n0063,Female,67,47,52\\r\\n0064,Female,54,47,59\\r\\n0065,Male,63,48,51\\r\\n0066,Male,18,48,59\\r\\n0067,Female,43,48,50\\r\\n0068,Female,68,48,48\\r\\n0069,Male,19,48,59\\r\\n0070,Female,32,48,47\\r\\n0071,Male,70,49,55\\r\\n0072,Female,47,49,42\\r\\n0073,Female,60,50,49\\r\\n0074,Female,60,50,56\\r\\n0075,Male,59,54,47\\r\\n0076,Male,26,54,54\\r\\n0077,Female,45,54,53\\r\\n0078,Male,40,54,48\\r\\n0079,Female,23,54,52\\r\\n0080,Female,49,54,42\\r\\n0081,Male,57,54,51\\r\\n0082,Male,38,54,55\\r\\n0083,Male,67,54,41\\r\\n0084,Female,46,54,44\\r\\n0085,Female,21,54,57\\r\\n0086,Male,48,54,46\\r\\n0087,Female,55,57,58\\r\\n0088,Female,22,57,55\\r\\n0089,Female,34,58,60\\r\\n0090,Female,50,58,46\\r\\n0091,Female,68,59,55\\r\\n0092,Male,18,59,41\\r\\n0093,Male,48,60,49\\r\\n0094,Female,40,60,40\\r\\n0095,Female,32,60,42\\r\\n0096,Male,24,60,52\\r\\n0097,Female,47,60,47\\r\\n0098,Female,27,60,50\\r\\n0099,Male,48,61,42\\r\\n0100,Male,20,61,49\\r\\n0101,Female,23,62,41\\r\\n0102,Female,49,62,48\\r\\n0103,Male,67,62,59\\r\\n0104,Male,26,62,55\\r\\n0105,Male,49,62,56\\r\\n0106,Female,21,62,42\\r\\n0107,Female,66,63,50\\r\\n0108,Male,54,63,46\\r\\n0109,Male,68,63,43\\r\\n0110,Male,66,63,48\\r\\n0111,Male,65,63,52\\r\\n0112,Female,19,63,54\\r\\n0113,Female,38,64,42\\r\\n0114,Male,19,64,46\\r\\n0115,Female,18,65,48\\r\\n0116,Female,19,65,50\\r\\n0117,Female,63,65,43\\r\\n0118,Female,49,65,59\\r\\n0119,Female,51,67,43\\r\\n0120,Female,50,67,57\\r\\n0121,Male,27,67,56\\r\\n0122,Female,38,67,40\\r\\n0123,Female,40,69,58\\r\\n0124,Male,39,69,91\\r\\n0125,Female,23,70,29\\r\\n0126,Female,31,70,77\\r\\n0127,Male,43,71,35\\r\\n0128,Male,40,71,95\\r\\n0129,Male,59,71,11\\r\\n0130,Male,38,71,75\\r\\n0131,Male,47,71,9\\r\\n0132,Male,39,71,75\\r\\n0133,Female,25,72,34\\r\\n0134,Female,31,72,71\\r\\n0135,Male,20,73,5\\r\\n0136,Female,29,73,88\\r\\n0137,Female,44,73,7\\r\\n0138,Male,32,73,73\\r\\n0139,Male,19,74,10\\r\\n0140,Female,35,74,72\\r\\n0141,Female,57,75,5\\r\\n0142,Male,32,75,93\\r\\n0143,Female,28,76,40\\r\\n0144,Female,32,76,87\\r\\n0145,Male,25,77,12\\r\\n0146,Male,28,77,97\\r\\n0147,Male,48,77,36\\r\\n0148,Female,32,77,74\\r\\n0149,Female,34,78,22\\r\\n0150,Male,34,78,90\\r\\n0151,Male,43,78,17\\r\\n0152,Male,39,78,88\\r\\n0153,Female,44,78,20\\r\\n0154,Female,38,78,76\\r\\n0155,Female,47,78,16\\r\\n0156,Female,27,78,89\\r\\n0157,Male,37,78,1\\r\\n0158,Female,30,78,78\\r\\n0159,Male,34,78,1\\r\\n0160,Female,30,78,73\\r\\n0161,Female,56,79,35\\r\\n0162,Female,29,79,83\\r\\n0163,Male,19,81,5\\r\\n0164,Female,31,81,93\\r\\n0165,Male,50,85,26\\r\\n0166,Female,36,85,75\\r\\n0167,Male,42,86,20\\r\\n0168,Female,33,86,95\\r\\n0169,Female,36,87,27\\r\\n0170,Male,32,87,63\\r\\n0171,Male,40,87,13\\r\\n0172,Male,28,87,75\\r\\n0173,Male,36,87,10\\r\\n0174,Male,36,87,92\\r\\n0175,Female,52,88,13\\r\\n0176,Female,30,88,86\\r\\n0177,Male,58,88,15\\r\\n0178,Male,27,88,69\\r\\n0179,Male,59,93,14\\r\\n0180,Male,35,93,90\\r\\n0181,Female,37,97,32\\r\\n0182,Female,32,97,86\\r\\n0183,Male,46,98,15\\r\\n0184,Female,29,98,88\\r\\n0185,Female,41,99,39\\r\\n0186,Male,30,99,97\\r\\n0187,Female,54,101,24\\r\\n0188,Male,28,101,68\\r\\n0189,Female,41,103,17\\r\\n0190,Female,36,103,85\\r\\n0191,Female,34,103,23\\r\\n0192,Female,32,103,69\\r\\n0193,Male,33,113,8\\r\\n0194,Female,38,113,91\\r\\n0195,Female,47,120,16\\r\\n0196,Female,35,120,79\\r\\n0197,Female,45,126,28\\r\\n0198,Male,32,126,74\\r\\n0199,Male,32,137,18\\r\\n0200,Male,30,137,83'}"
            ]
          },
          "metadata": {},
          "execution_count": 2
        }
      ]
    },
    {
      "cell_type": "markdown",
      "metadata": {
        "id": "TKDD_mTTfE0h"
      },
      "source": [
        "## Preprocessing the dataset\n",
        "We know in our dataset there is no dependent variable, therefore we will only create X dataset in which we can either take necessary variables or for simplification for later visualiation we can take just two columns that are the Annual Income and Spending Score.\n",
        "\n",
        "We will create two cases to study both.\n",
        "\n",
        "### **Warning: Run only one case at a time**"
      ]
    },
    {
      "cell_type": "markdown",
      "metadata": {
        "id": "AupsVVOSoLZ5"
      },
      "source": [
        "# **Case 1: 4D Array**"
      ]
    },
    {
      "cell_type": "code",
      "metadata": {
        "id": "hWXiZ29efFCk"
      },
      "source": [
        "dataset = pd.read_csv('Mall_Customers.csv')\n",
        "X = dataset.iloc[: , 1:].values"
      ],
      "execution_count": 6,
      "outputs": []
    },
    {
      "cell_type": "markdown",
      "metadata": {
        "id": "SP5XktDslBy4"
      },
      "source": [
        "## **Encoding Independent Variable**\n",
        "### This is needed because during the training of our machine learning model it could try to see patterns in country column which is unnecessary and not needed. Therefore dividing country column in three columns as vector will give neat data to work with. "
      ]
    },
    {
      "cell_type": "code",
      "metadata": {
        "id": "tVqXzYoliXnW"
      },
      "source": [
        "from sklearn.compose import ColumnTransformer\n",
        "from sklearn.preprocessing import OneHotEncoder\n",
        "\n",
        "# creation of object for producing dummy variables\n",
        "columnTransform = ColumnTransformer(transformers = [('encoder', OneHotEncoder(), [0])], remainder = 'passthrough'  )\n",
        "# columnTransform.fit_transform( ) will not give array in output which is necessary in training ml model therefore\n",
        "X = np.array(columnTransform.fit_transform(X))"
      ],
      "execution_count": 11,
      "outputs": []
    },
    {
      "cell_type": "code",
      "metadata": {
        "id": "6MHePUZglyHw"
      },
      "source": [
        "print(X)"
      ],
      "execution_count": null,
      "outputs": []
    },
    {
      "cell_type": "markdown",
      "metadata": {
        "id": "maNtUzNgw65c"
      },
      "source": [
        "# **Case 2: 2D Array**"
      ]
    },
    {
      "cell_type": "code",
      "metadata": {
        "id": "gKECoJZLw-9C"
      },
      "source": [
        "dataset = pd.read_csv('Mall_Customers.csv')\n",
        "X = dataset.iloc[: , [3,4]].values"
      ],
      "execution_count": 21,
      "outputs": []
    },
    {
      "cell_type": "code",
      "metadata": {
        "colab": {
          "base_uri": "https://localhost:8080/"
        },
        "id": "p4wauB-NxRWl",
        "outputId": "65c6d84c-279e-40af-e350-de58a34ca2fe"
      },
      "source": [
        "print(X)"
      ],
      "execution_count": 22,
      "outputs": [
        {
          "output_type": "stream",
          "name": "stdout",
          "text": [
            "[[ 15  39]\n",
            " [ 15  81]\n",
            " [ 16   6]\n",
            " [ 16  77]\n",
            " [ 17  40]\n",
            " [ 17  76]\n",
            " [ 18   6]\n",
            " [ 18  94]\n",
            " [ 19   3]\n",
            " [ 19  72]\n",
            " [ 19  14]\n",
            " [ 19  99]\n",
            " [ 20  15]\n",
            " [ 20  77]\n",
            " [ 20  13]\n",
            " [ 20  79]\n",
            " [ 21  35]\n",
            " [ 21  66]\n",
            " [ 23  29]\n",
            " [ 23  98]\n",
            " [ 24  35]\n",
            " [ 24  73]\n",
            " [ 25   5]\n",
            " [ 25  73]\n",
            " [ 28  14]\n",
            " [ 28  82]\n",
            " [ 28  32]\n",
            " [ 28  61]\n",
            " [ 29  31]\n",
            " [ 29  87]\n",
            " [ 30   4]\n",
            " [ 30  73]\n",
            " [ 33   4]\n",
            " [ 33  92]\n",
            " [ 33  14]\n",
            " [ 33  81]\n",
            " [ 34  17]\n",
            " [ 34  73]\n",
            " [ 37  26]\n",
            " [ 37  75]\n",
            " [ 38  35]\n",
            " [ 38  92]\n",
            " [ 39  36]\n",
            " [ 39  61]\n",
            " [ 39  28]\n",
            " [ 39  65]\n",
            " [ 40  55]\n",
            " [ 40  47]\n",
            " [ 40  42]\n",
            " [ 40  42]\n",
            " [ 42  52]\n",
            " [ 42  60]\n",
            " [ 43  54]\n",
            " [ 43  60]\n",
            " [ 43  45]\n",
            " [ 43  41]\n",
            " [ 44  50]\n",
            " [ 44  46]\n",
            " [ 46  51]\n",
            " [ 46  46]\n",
            " [ 46  56]\n",
            " [ 46  55]\n",
            " [ 47  52]\n",
            " [ 47  59]\n",
            " [ 48  51]\n",
            " [ 48  59]\n",
            " [ 48  50]\n",
            " [ 48  48]\n",
            " [ 48  59]\n",
            " [ 48  47]\n",
            " [ 49  55]\n",
            " [ 49  42]\n",
            " [ 50  49]\n",
            " [ 50  56]\n",
            " [ 54  47]\n",
            " [ 54  54]\n",
            " [ 54  53]\n",
            " [ 54  48]\n",
            " [ 54  52]\n",
            " [ 54  42]\n",
            " [ 54  51]\n",
            " [ 54  55]\n",
            " [ 54  41]\n",
            " [ 54  44]\n",
            " [ 54  57]\n",
            " [ 54  46]\n",
            " [ 57  58]\n",
            " [ 57  55]\n",
            " [ 58  60]\n",
            " [ 58  46]\n",
            " [ 59  55]\n",
            " [ 59  41]\n",
            " [ 60  49]\n",
            " [ 60  40]\n",
            " [ 60  42]\n",
            " [ 60  52]\n",
            " [ 60  47]\n",
            " [ 60  50]\n",
            " [ 61  42]\n",
            " [ 61  49]\n",
            " [ 62  41]\n",
            " [ 62  48]\n",
            " [ 62  59]\n",
            " [ 62  55]\n",
            " [ 62  56]\n",
            " [ 62  42]\n",
            " [ 63  50]\n",
            " [ 63  46]\n",
            " [ 63  43]\n",
            " [ 63  48]\n",
            " [ 63  52]\n",
            " [ 63  54]\n",
            " [ 64  42]\n",
            " [ 64  46]\n",
            " [ 65  48]\n",
            " [ 65  50]\n",
            " [ 65  43]\n",
            " [ 65  59]\n",
            " [ 67  43]\n",
            " [ 67  57]\n",
            " [ 67  56]\n",
            " [ 67  40]\n",
            " [ 69  58]\n",
            " [ 69  91]\n",
            " [ 70  29]\n",
            " [ 70  77]\n",
            " [ 71  35]\n",
            " [ 71  95]\n",
            " [ 71  11]\n",
            " [ 71  75]\n",
            " [ 71   9]\n",
            " [ 71  75]\n",
            " [ 72  34]\n",
            " [ 72  71]\n",
            " [ 73   5]\n",
            " [ 73  88]\n",
            " [ 73   7]\n",
            " [ 73  73]\n",
            " [ 74  10]\n",
            " [ 74  72]\n",
            " [ 75   5]\n",
            " [ 75  93]\n",
            " [ 76  40]\n",
            " [ 76  87]\n",
            " [ 77  12]\n",
            " [ 77  97]\n",
            " [ 77  36]\n",
            " [ 77  74]\n",
            " [ 78  22]\n",
            " [ 78  90]\n",
            " [ 78  17]\n",
            " [ 78  88]\n",
            " [ 78  20]\n",
            " [ 78  76]\n",
            " [ 78  16]\n",
            " [ 78  89]\n",
            " [ 78   1]\n",
            " [ 78  78]\n",
            " [ 78   1]\n",
            " [ 78  73]\n",
            " [ 79  35]\n",
            " [ 79  83]\n",
            " [ 81   5]\n",
            " [ 81  93]\n",
            " [ 85  26]\n",
            " [ 85  75]\n",
            " [ 86  20]\n",
            " [ 86  95]\n",
            " [ 87  27]\n",
            " [ 87  63]\n",
            " [ 87  13]\n",
            " [ 87  75]\n",
            " [ 87  10]\n",
            " [ 87  92]\n",
            " [ 88  13]\n",
            " [ 88  86]\n",
            " [ 88  15]\n",
            " [ 88  69]\n",
            " [ 93  14]\n",
            " [ 93  90]\n",
            " [ 97  32]\n",
            " [ 97  86]\n",
            " [ 98  15]\n",
            " [ 98  88]\n",
            " [ 99  39]\n",
            " [ 99  97]\n",
            " [101  24]\n",
            " [101  68]\n",
            " [103  17]\n",
            " [103  85]\n",
            " [103  23]\n",
            " [103  69]\n",
            " [113   8]\n",
            " [113  91]\n",
            " [120  16]\n",
            " [120  79]\n",
            " [126  28]\n",
            " [126  74]\n",
            " [137  18]\n",
            " [137  83]]\n"
          ]
        }
      ]
    },
    {
      "cell_type": "markdown",
      "metadata": {
        "id": "OpgztrLGfFRe"
      },
      "source": [
        "## Using elbow method for finding the optimal number of clusters"
      ]
    },
    {
      "cell_type": "code",
      "metadata": {
        "colab": {
          "base_uri": "https://localhost:8080/",
          "height": 295
        },
        "id": "mHy4YxVJfFg-",
        "outputId": "ca9280d4-cad2-4aab-d96e-1f8245b3c4c3"
      },
      "source": [
        "from sklearn.cluster import KMeans\n",
        " \n",
        "wcss = []\n",
        "\n",
        "for i in range(1,11):\n",
        "  kmean = KMeans(n_clusters = i, init= 'k-means++', random_state = 42)\n",
        "  kmean.fit(X)\n",
        "  wcss.append(kmean.inertia_)\n",
        "\n",
        "plt.plot(range(1, 11), wcss)\n",
        "plt.title('Elbow Method')\n",
        "plt.xlabel('number of clusters')\n",
        "plt.ylabel('WCSS')\n",
        "plt.show()"
      ],
      "execution_count": 23,
      "outputs": [
        {
          "output_type": "display_data",
          "data": {
            "image/png": "[encoded data removed]",
            "text/plain": [
              "<Figure size 432x288 with 1 Axes>"
            ]
          },
          "metadata": {
            "needs_background": "light"
          }
        }
      ]
    },
    {
      "cell_type": "markdown",
      "metadata": {
        "id": "NGf3K_yixkp4"
      },
      "source": [
        "Optimal number of clusters as per the elbow method: 5"
      ]
    },
    {
      "cell_type": "markdown",
      "metadata": {
        "id": "n1b09q-zfFwD"
      },
      "source": [
        "## Training the K-Mean Model on the dataset "
      ]
    },
    {
      "cell_type": "code",
      "metadata": {
        "id": "JQbWjrgBfGAN"
      },
      "source": [
        "kmean = KMeans(n_clusters = 5, init= 'k-means++', random_state = 42)\n",
        "y_kmean = kmean.fit_predict(X)"
      ],
      "execution_count": 24,
      "outputs": []
    },
    {
      "cell_type": "code",
      "metadata": {
        "colab": {
          "base_uri": "https://localhost:8080/"
        },
        "id": "IZ0a-tGhtq28",
        "outputId": "7deee4e5-88bb-4461-913f-9b8a54856e3c"
      },
      "source": [
        "print(y_kmean)"
      ],
      "execution_count": 25,
      "outputs": [
        {
          "output_type": "stream",
          "name": "stdout",
          "text": [
            "[3 0 3 0 3 0 3 0 3 0 3 0 3 0 3 0 3 0 3 0 3 0 3 0 3 0 3 0 3 0 3 0 3 0 3 0 3\n",
            " 0 3 0 3 0 3 1 3 0 1 1 1 1 1 1 1 1 1 1 1 1 1 1 1 1 1 1 1 1 1 1 1 1 1 1 1 1\n",
            " 1 1 1 1 1 1 1 1 1 1 1 1 1 1 1 1 1 1 1 1 1 1 1 1 1 1 1 1 1 1 1 1 1 1 1 1 1\n",
            " 1 1 1 1 1 1 1 1 1 1 1 1 2 4 2 1 2 4 2 4 2 1 2 4 2 4 2 4 2 4 2 1 2 4 2 4 2\n",
            " 4 2 4 2 4 2 4 2 4 2 4 2 4 2 4 2 4 2 4 2 4 2 4 2 4 2 4 2 4 2 4 2 4 2 4 2 4\n",
            " 2 4 2 4 2 4 2 4 2 4 2 4 2 4 2]\n"
          ]
        }
      ]
    },
    {
      "cell_type": "markdown",
      "metadata": {
        "id": "HN4Jx_jLfGbs"
      },
      "source": [
        "## Visualizing the result (for Case 2 only)"
      ]
    },
    {
      "cell_type": "code",
      "metadata": {
        "colab": {
          "base_uri": "https://localhost:8080/",
          "height": 295
        },
        "id": "aWA-D21ifGq-",
        "outputId": "f320234e-a6d8-4db0-da4b-55ece972949e"
      },
      "source": [
        "plt.scatter(X[y_kmean == 0, 0], X[y_kmean == 0, 1], s= 100, c = 'red', label='cluster 1')\n",
        "plt.scatter(X[y_kmean == 1, 0], X[y_kmean == 1, 1], s= 100, c = 'blue', label='cluster 2')\n",
        "plt.scatter(X[y_kmean == 2, 0], X[y_kmean == 2, 1], s= 100, c = 'green', label='cluster 3')\n",
        "plt.scatter(X[y_kmean == 3, 0], X[y_kmean == 3, 1], s= 100, c = 'magenta', label='cluster 4')\n",
        "plt.scatter(X[y_kmean == 4, 0], X[y_kmean == 4, 1], s= 100, c = 'brown', label='cluster 5')\n",
        "plt.scatter(kmean.cluster_centers_[: , 0], kmean.cluster_centers_[:, 1], s = 300, c= 'yellow', label='centeroid')\n",
        "plt.title('Customer Clusters')\n",
        "plt.xlabel('Annual Income')\n",
        "plt.ylabel('Spending Score (1-100)')\n",
        "plt.legend()\n",
        "plt.show()\n"
      ],
      "execution_count": 29,
      "outputs": [
        {
          "output_type": "display_data",
          "data": {
            "image/png": "[encoded data removed]",
            "text/plain": [
              "<Figure size 432x288 with 1 Axes>"
            ]
          },
          "metadata": {
            "needs_background": "light"
          }
        }
      ]
    }
  ]
}