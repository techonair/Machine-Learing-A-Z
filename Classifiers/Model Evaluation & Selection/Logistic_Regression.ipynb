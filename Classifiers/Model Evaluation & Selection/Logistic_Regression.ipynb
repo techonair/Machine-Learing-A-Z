{
  "nbformat": 4,
  "nbformat_minor": 0,
  "metadata": {
    "colab": {
      "name": "Logistic Regression.ipynb",
      "provenance": [],
      "authorship_tag": "ABX9TyNqbRWNknGFP4pgkg9UmxCT",
      "include_colab_link": true
    },
    "kernelspec": {
      "name": "python3",
      "display_name": "Python 3"
    },
    "language_info": {
      "name": "python"
    }
  },
  "cells": [
    {
      "cell_type": "markdown",
      "metadata": {
        "id": "view-in-github",
        "colab_type": "text"
      },
      "source": [
        "<a href=\"https://colab.research.google.com/github/techonair/Machine-Learing-A-Z/blob/main/Classifiers/Model%20Evaluation%20%26%20Selection/Logistic_Regression.ipynb\" target=\"_parent\"><img src=\"https://colab.research.google.com/assets/colab-badge.svg\" alt=\"Open In Colab\"/></a>"
      ]
    },
    {
      "cell_type": "markdown",
      "metadata": {
        "id": "kTsj_nV3SKSk"
      },
      "source": [
        "# **Logistic Regression**\n",
        "\n",
        "We have a dataset of a car company containing age, salary and if the person has previously bought a SUV from that company or not as 1 & 0. Now the company is releasing new SUV so which type of customer will buy is a question for the company for doing targeted marketing."
      ]
    },
    {
      "cell_type": "markdown",
      "metadata": {
        "id": "Stt8GLyESNIV"
      },
      "source": [
        "## Importing Libraraies"
      ]
    },
    {
      "cell_type": "code",
      "metadata": {
        "id": "_V_BbArcSLJR"
      },
      "source": [
        "import numpy as np\n",
        "import matplotlib.pyplot as plt\n",
        "import pandas as pd"
      ],
      "execution_count": 1,
      "outputs": []
    },
    {
      "cell_type": "markdown",
      "metadata": {
        "id": "H3w26qKoTyM1"
      },
      "source": [
        "## Importing Dataset"
      ]
    },
    {
      "cell_type": "code",
      "metadata": {
        "colab": {
          "resources": {
            "http://localhost:8080/nbextensions/google.colab/files.js": {
              "data": "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",
              "ok": true,
              "headers": [
                [
                  "content-type",
                  "application/javascript"
                ]
              ],
              "status": 200,
              "status_text": ""
            }
          },
          "base_uri": "https://localhost:8080/",
          "height": 110
        },
        "id": "gjmYmgNRT0Wx",
        "outputId": "f46b5bd3-6089-4148-cd21-aff4362e32d9"
      },
      "source": [
        "from google.colab import files\n",
        "files.upload()"
      ],
      "execution_count": 10,
      "outputs": [
        {
          "output_type": "display_data",
          "data": {
            "text/html": [
              "\n",
              "     <input type=\"file\" id=\"files-334bae60-a476-420a-82a6-d4c37b2a1cc3\" name=\"files[]\" multiple disabled\n",
              "        style=\"border:none\" />\n",
              "     <output id=\"result-334bae60-a476-420a-82a6-d4c37b2a1cc3\">\n",
              "      Upload widget is only available when the cell has been executed in the\n",
              "      current browser session. Please rerun this cell to enable.\n",
              "      </output>\n",
              "      <script src=\"/nbextensions/google.colab/files.js\"></script> "
            ],
            "text/plain": [
              "<IPython.core.display.HTML object>"
            ]
          },
          "metadata": {}
        },
        {
          "output_type": "stream",
          "name": "stdout",
          "text": [
            "Saving Data.csv to Data.csv\n"
          ]
        },
        {
          "output_type": "execute_result",
          "data": {
            "text/plain": [
              "{'Data.csv': b'Sample code number,Clump Thickness,Uniformity of Cell Size,Uniformity of Cell Shape,Marginal Adhesion,Single Epithelial Cell Size,Bare Nuclei,Bland Chromatin,Normal Nucleoli,Mitoses,Class\\n1000025,5,1,1,1,2,1,3,1,1,2\\n1002945,5,4,4,5,7,10,3,2,1,2\\n1015425,3,1,1,1,2,2,3,1,1,2\\n1016277,6,8,8,1,3,4,3,7,1,2\\n1017023,4,1,1,3,2,1,3,1,1,2\\n1017122,8,10,10,8,7,10,9,7,1,4\\n1018099,1,1,1,1,2,10,3,1,1,2\\n1018561,2,1,2,1,2,1,3,1,1,2\\n1033078,2,1,1,1,2,1,1,1,5,2\\n1033078,4,2,1,1,2,1,2,1,1,2\\n1035283,1,1,1,1,1,1,3,1,1,2\\n1036172,2,1,1,1,2,1,2,1,1,2\\n1041801,5,3,3,3,2,3,4,4,1,4\\n1043999,1,1,1,1,2,3,3,1,1,2\\n1044572,8,7,5,10,7,9,5,5,4,4\\n1047630,7,4,6,4,6,1,4,3,1,4\\n1048672,4,1,1,1,2,1,2,1,1,2\\n1049815,4,1,1,1,2,1,3,1,1,2\\n1050670,10,7,7,6,4,10,4,1,2,4\\n1050718,6,1,1,1,2,1,3,1,1,2\\n1054590,7,3,2,10,5,10,5,4,4,4\\n1054593,10,5,5,3,6,7,7,10,1,4\\n1056784,3,1,1,1,2,1,2,1,1,2\\n1059552,1,1,1,1,2,1,3,1,1,2\\n1065726,5,2,3,4,2,7,3,6,1,4\\n1066373,3,2,1,1,1,1,2,1,1,2\\n1066979,5,1,1,1,2,1,2,1,1,2\\n1067444,2,1,1,1,2,1,2,1,1,2\\n1070935,1,1,3,1,2,1,1,1,1,2\\n1070935,3,1,1,1,1,1,2,1,1,2\\n1071760,2,1,1,1,2,1,3,1,1,2\\n1072179,10,7,7,3,8,5,7,4,3,4\\n1074610,2,1,1,2,2,1,3,1,1,2\\n1075123,3,1,2,1,2,1,2,1,1,2\\n1079304,2,1,1,1,2,1,2,1,1,2\\n1080185,10,10,10,8,6,1,8,9,1,4\\n1081791,6,2,1,1,1,1,7,1,1,2\\n1084584,5,4,4,9,2,10,5,6,1,4\\n1091262,2,5,3,3,6,7,7,5,1,4\\n1099510,10,4,3,1,3,3,6,5,2,4\\n1100524,6,10,10,2,8,10,7,3,3,4\\n1102573,5,6,5,6,10,1,3,1,1,4\\n1103608,10,10,10,4,8,1,8,10,1,4\\n1103722,1,1,1,1,2,1,2,1,2,2\\n1105257,3,7,7,4,4,9,4,8,1,4\\n1105524,1,1,1,1,2,1,2,1,1,2\\n1106095,4,1,1,3,2,1,3,1,1,2\\n1106829,7,8,7,2,4,8,3,8,2,4\\n1108370,9,5,8,1,2,3,2,1,5,4\\n1108449,5,3,3,4,2,4,3,4,1,4\\n1110102,10,3,6,2,3,5,4,10,2,4\\n1110503,5,5,5,8,10,8,7,3,7,4\\n1110524,10,5,5,6,8,8,7,1,1,4\\n1111249,10,6,6,3,4,5,3,6,1,4\\n1112209,8,10,10,1,3,6,3,9,1,4\\n1113038,8,2,4,1,5,1,5,4,4,4\\n1113483,5,2,3,1,6,10,5,1,1,4\\n1113906,9,5,5,2,2,2,5,1,1,4\\n1115282,5,3,5,5,3,3,4,10,1,4\\n1115293,1,1,1,1,2,2,2,1,1,2\\n1116116,9,10,10,1,10,8,3,3,1,4\\n1116132,6,3,4,1,5,2,3,9,1,4\\n1116192,1,1,1,1,2,1,2,1,1,2\\n1116998,10,4,2,1,3,2,4,3,10,4\\n1117152,4,1,1,1,2,1,3,1,1,2\\n1118039,5,3,4,1,8,10,4,9,1,4\\n1120559,8,3,8,3,4,9,8,9,8,4\\n1121732,1,1,1,1,2,1,3,2,1,2\\n1121919,5,1,3,1,2,1,2,1,1,2\\n1123061,6,10,2,8,10,2,7,8,10,4\\n1124651,1,3,3,2,2,1,7,2,1,2\\n1125035,9,4,5,10,6,10,4,8,1,4\\n1126417,10,6,4,1,3,4,3,2,3,4\\n1131294,1,1,2,1,2,2,4,2,1,2\\n1132347,1,1,4,1,2,1,2,1,1,2\\n1133041,5,3,1,2,2,1,2,1,1,2\\n1133136,3,1,1,1,2,3,3,1,1,2\\n1136142,2,1,1,1,3,1,2,1,1,2\\n1137156,2,2,2,1,1,1,7,1,1,2\\n1143978,4,1,1,2,2,1,2,1,1,2\\n1143978,5,2,1,1,2,1,3,1,1,2\\n1147044,3,1,1,1,2,2,7,1,1,2\\n1147699,3,5,7,8,8,9,7,10,7,4\\n1147748,5,10,6,1,10,4,4,10,10,4\\n1148278,3,3,6,4,5,8,4,4,1,4\\n1148873,3,6,6,6,5,10,6,8,3,4\\n1152331,4,1,1,1,2,1,3,1,1,2\\n1155546,2,1,1,2,3,1,2,1,1,2\\n1156272,1,1,1,1,2,1,3,1,1,2\\n1156948,3,1,1,2,2,1,1,1,1,2\\n1157734,4,1,1,1,2,1,3,1,1,2\\n1158247,1,1,1,1,2,1,2,1,1,2\\n1160476,2,1,1,1,2,1,3,1,1,2\\n1164066,1,1,1,1,2,1,3,1,1,2\\n1165297,2,1,1,2,2,1,1,1,1,2\\n1165790,5,1,1,1,2,1,3,1,1,2\\n1165926,9,6,9,2,10,6,2,9,10,4\\n1166630,7,5,6,10,5,10,7,9,4,4\\n1166654,10,3,5,1,10,5,3,10,2,4\\n1167439,2,3,4,4,2,5,2,5,1,4\\n1167471,4,1,2,1,2,1,3,1,1,2\\n1168359,8,2,3,1,6,3,7,1,1,4\\n1168736,10,10,10,10,10,1,8,8,8,4\\n1169049,7,3,4,4,3,3,3,2,7,4\\n1170419,10,10,10,8,2,10,4,1,1,4\\n1170420,1,6,8,10,8,10,5,7,1,4\\n1171710,1,1,1,1,2,1,2,3,1,2\\n1171710,6,5,4,4,3,9,7,8,3,4\\n1171795,1,3,1,2,2,2,5,3,2,2\\n1171845,8,6,4,3,5,9,3,1,1,4\\n1172152,10,3,3,10,2,10,7,3,3,4\\n1173216,10,10,10,3,10,8,8,1,1,4\\n1173235,3,3,2,1,2,3,3,1,1,2\\n1173347,1,1,1,1,2,5,1,1,1,2\\n1173347,8,3,3,1,2,2,3,2,1,2\\n1173509,4,5,5,10,4,10,7,5,8,4\\n1173514,1,1,1,1,4,3,1,1,1,2\\n1173681,3,2,1,1,2,2,3,1,1,2\\n1174057,1,1,2,2,2,1,3,1,1,2\\n1174057,4,2,1,1,2,2,3,1,1,2\\n1174131,10,10,10,2,10,10,5,3,3,4\\n1174428,5,3,5,1,8,10,5,3,1,4\\n1175937,5,4,6,7,9,7,8,10,1,4\\n1176406,1,1,1,1,2,1,2,1,1,2\\n1176881,7,5,3,7,4,10,7,5,5,4\\n1177027,3,1,1,1,2,1,3,1,1,2\\n1177399,8,3,5,4,5,10,1,6,2,4\\n1177512,1,1,1,1,10,1,1,1,1,2\\n1178580,5,1,3,1,2,1,2,1,1,2\\n1179818,2,1,1,1,2,1,3,1,1,2\\n1180194,5,10,8,10,8,10,3,6,3,4\\n1180523,3,1,1,1,2,1,2,2,1,2\\n1180831,3,1,1,1,3,1,2,1,1,2\\n1181356,5,1,1,1,2,2,3,3,1,2\\n1182404,4,1,1,1,2,1,2,1,1,2\\n1182410,3,1,1,1,2,1,1,1,1,2\\n1183240,4,1,2,1,2,1,2,1,1,2\\n1183516,3,1,1,1,2,1,1,1,1,2\\n1183911,2,1,1,1,2,1,1,1,1,2\\n1183983,9,5,5,4,4,5,4,3,3,4\\n1184184,1,1,1,1,2,5,1,1,1,2\\n1184241,2,1,1,1,2,1,2,1,1,2\\n1185609,3,4,5,2,6,8,4,1,1,4\\n1185610,1,1,1,1,3,2,2,1,1,2\\n1187457,3,1,1,3,8,1,5,8,1,2\\n1187805,8,8,7,4,10,10,7,8,7,4\\n1188472,1,1,1,1,1,1,3,1,1,2\\n1189266,7,2,4,1,6,10,5,4,3,4\\n1189286,10,10,8,6,4,5,8,10,1,4\\n1190394,4,1,1,1,2,3,1,1,1,2\\n1190485,1,1,1,1,2,1,1,1,1,2\\n1192325,5,5,5,6,3,10,3,1,1,4\\n1193091,1,2,2,1,2,1,2,1,1,2\\n1193210,2,1,1,1,2,1,3,1,1,2\\n1196295,9,9,10,3,6,10,7,10,6,4\\n1196915,10,7,7,4,5,10,5,7,2,4\\n1197080,4,1,1,1,2,1,3,2,1,2\\n1197270,3,1,1,1,2,1,3,1,1,2\\n1197440,1,1,1,2,1,3,1,1,7,2\\n1197979,4,1,1,1,2,2,3,2,1,2\\n1197993,5,6,7,8,8,10,3,10,3,4\\n1198128,10,8,10,10,6,1,3,1,10,4\\n1198641,3,1,1,1,2,1,3,1,1,2\\n1199219,1,1,1,2,1,1,1,1,1,2\\n1199731,3,1,1,1,2,1,1,1,1,2\\n1199983,1,1,1,1,2,1,3,1,1,2\\n1200772,1,1,1,1,2,1,2,1,1,2\\n1200847,6,10,10,10,8,10,10,10,7,4\\n1200892,8,6,5,4,3,10,6,1,1,4\\n1200952,5,8,7,7,10,10,5,7,1,4\\n1201834,2,1,1,1,2,1,3,1,1,2\\n1201936,5,10,10,3,8,1,5,10,3,4\\n1202125,4,1,1,1,2,1,3,1,1,2\\n1202812,5,3,3,3,6,10,3,1,1,4\\n1203096,1,1,1,1,1,1,3,1,1,2\\n1204242,1,1,1,1,2,1,1,1,1,2\\n1204898,6,1,1,1,2,1,3,1,1,2\\n1205138,5,8,8,8,5,10,7,8,1,4\\n1205579,8,7,6,4,4,10,5,1,1,4\\n1206089,2,1,1,1,1,1,3,1,1,2\\n1206695,1,5,8,6,5,8,7,10,1,4\\n1206841,10,5,6,10,6,10,7,7,10,4\\n1207986,5,8,4,10,5,8,9,10,1,4\\n1208301,1,2,3,1,2,1,3,1,1,2\\n1210963,10,10,10,8,6,8,7,10,1,4\\n1211202,7,5,10,10,10,10,4,10,3,4\\n1212232,5,1,1,1,2,1,2,1,1,2\\n1212251,1,1,1,1,2,1,3,1,1,2\\n1212422,3,1,1,1,2,1,3,1,1,2\\n1212422,4,1,1,1,2,1,3,1,1,2\\n1213375,8,4,4,5,4,7,7,8,2,2\\n1213383,5,1,1,4,2,1,3,1,1,2\\n1214092,1,1,1,1,2,1,1,1,1,2\\n1214556,3,1,1,1,2,1,2,1,1,2\\n1214966,9,7,7,5,5,10,7,8,3,4\\n1216694,10,8,8,4,10,10,8,1,1,4\\n1216947,1,1,1,1,2,1,3,1,1,2\\n1217051,5,1,1,1,2,1,3,1,1,2\\n1217264,1,1,1,1,2,1,3,1,1,2\\n1218105,5,10,10,9,6,10,7,10,5,4\\n1218741,10,10,9,3,7,5,3,5,1,4\\n1218860,1,1,1,1,1,1,3,1,1,2\\n1218860,1,1,1,1,1,1,3,1,1,2\\n1219406,5,1,1,1,1,1,3,1,1,2\\n1219525,8,10,10,10,5,10,8,10,6,4\\n1219859,8,10,8,8,4,8,7,7,1,4\\n1220330,1,1,1,1,2,1,3,1,1,2\\n1221863,10,10,10,10,7,10,7,10,4,4\\n1222047,10,10,10,10,3,10,10,6,1,4\\n1222936,8,7,8,7,5,5,5,10,2,4\\n1223282,1,1,1,1,2,1,2,1,1,2\\n1223426,1,1,1,1,2,1,3,1,1,2\\n1223793,6,10,7,7,6,4,8,10,2,4\\n1223967,6,1,3,1,2,1,3,1,1,2\\n1224329,1,1,1,2,2,1,3,1,1,2\\n1225799,10,6,4,3,10,10,9,10,1,4\\n1226012,4,1,1,3,1,5,2,1,1,4\\n1226612,7,5,6,3,3,8,7,4,1,4\\n1227210,10,5,5,6,3,10,7,9,2,4\\n1227244,1,1,1,1,2,1,2,1,1,2\\n1227481,10,5,7,4,4,10,8,9,1,4\\n1228152,8,9,9,5,3,5,7,7,1,4\\n1228311,1,1,1,1,1,1,3,1,1,2\\n1230175,10,10,10,3,10,10,9,10,1,4\\n1230688,7,4,7,4,3,7,7,6,1,4\\n1231387,6,8,7,5,6,8,8,9,2,4\\n1231706,8,4,6,3,3,1,4,3,1,2\\n1232225,10,4,5,5,5,10,4,1,1,4\\n1236043,3,3,2,1,3,1,3,6,1,2\\n1241559,10,8,8,2,8,10,4,8,10,4\\n1241679,9,8,8,5,6,2,4,10,4,4\\n1242364,8,10,10,8,6,9,3,10,10,4\\n1243256,10,4,3,2,3,10,5,3,2,4\\n1270479,5,1,3,3,2,2,2,3,1,2\\n1276091,3,1,1,3,1,1,3,1,1,2\\n1277018,2,1,1,1,2,1,3,1,1,2\\n128059,1,1,1,1,2,5,5,1,1,2\\n1285531,1,1,1,1,2,1,3,1,1,2\\n1287775,5,1,1,2,2,2,3,1,1,2\\n144888,8,10,10,8,5,10,7,8,1,4\\n145447,8,4,4,1,2,9,3,3,1,4\\n167528,4,1,1,1,2,1,3,6,1,2\\n183913,1,2,2,1,2,1,1,1,1,2\\n191250,10,4,4,10,2,10,5,3,3,4\\n1017023,6,3,3,5,3,10,3,5,3,2\\n1100524,6,10,10,2,8,10,7,3,3,4\\n1116116,9,10,10,1,10,8,3,3,1,4\\n1168736,5,6,6,2,4,10,3,6,1,4\\n1182404,3,1,1,1,2,1,1,1,1,2\\n1182404,3,1,1,1,2,1,2,1,1,2\\n1198641,3,1,1,1,2,1,3,1,1,2\\n242970,5,7,7,1,5,8,3,4,1,2\\n255644,10,5,8,10,3,10,5,1,3,4\\n263538,5,10,10,6,10,10,10,6,5,4\\n274137,8,8,9,4,5,10,7,8,1,4\\n303213,10,4,4,10,6,10,5,5,1,4\\n314428,7,9,4,10,10,3,5,3,3,4\\n1182404,5,1,4,1,2,1,3,2,1,2\\n1198641,10,10,6,3,3,10,4,3,2,4\\n320675,3,3,5,2,3,10,7,1,1,4\\n324427,10,8,8,2,3,4,8,7,8,4\\n385103,1,1,1,1,2,1,3,1,1,2\\n390840,8,4,7,1,3,10,3,9,2,4\\n411453,5,1,1,1,2,1,3,1,1,2\\n320675,3,3,5,2,3,10,7,1,1,4\\n428903,7,2,4,1,3,4,3,3,1,4\\n431495,3,1,1,1,2,1,3,2,1,2\\n434518,3,1,1,1,2,1,2,1,1,2\\n452264,1,1,1,1,2,1,2,1,1,2\\n456282,1,1,1,1,2,1,3,1,1,2\\n476903,10,5,7,3,3,7,3,3,8,4\\n486283,3,1,1,1,2,1,3,1,1,2\\n486662,2,1,1,2,2,1,3,1,1,2\\n488173,1,4,3,10,4,10,5,6,1,4\\n492268,10,4,6,1,2,10,5,3,1,4\\n508234,7,4,5,10,2,10,3,8,2,4\\n527363,8,10,10,10,8,10,10,7,3,4\\n529329,10,10,10,10,10,10,4,10,10,4\\n535331,3,1,1,1,3,1,2,1,1,2\\n543558,6,1,3,1,4,5,5,10,1,4\\n555977,5,6,6,8,6,10,4,10,4,4\\n560680,1,1,1,1,2,1,1,1,1,2\\n561477,1,1,1,1,2,1,3,1,1,2\\n601265,10,4,4,6,2,10,2,3,1,4\\n606722,5,5,7,8,6,10,7,4,1,4\\n616240,5,3,4,3,4,5,4,7,1,2\\n625201,8,2,1,1,5,1,1,1,1,2\\n63375,9,1,2,6,4,10,7,7,2,4\\n635844,8,4,10,5,4,4,7,10,1,4\\n636130,1,1,1,1,2,1,3,1,1,2\\n640744,10,10,10,7,9,10,7,10,10,4\\n646904,1,1,1,1,2,1,3,1,1,2\\n653777,8,3,4,9,3,10,3,3,1,4\\n659642,10,8,4,4,4,10,3,10,4,4\\n666090,1,1,1,1,2,1,3,1,1,2\\n666942,1,1,1,1,2,1,3,1,1,2\\n667204,7,8,7,6,4,3,8,8,4,4\\n673637,3,1,1,1,2,5,5,1,1,2\\n684955,2,1,1,1,3,1,2,1,1,2\\n688033,1,1,1,1,2,1,1,1,1,2\\n691628,8,6,4,10,10,1,3,5,1,4\\n693702,1,1,1,1,2,1,1,1,1,2\\n704097,1,1,1,1,1,1,2,1,1,2\\n706426,5,5,5,2,5,10,4,3,1,4\\n709287,6,8,7,8,6,8,8,9,1,4\\n718641,1,1,1,1,5,1,3,1,1,2\\n721482,4,4,4,4,6,5,7,3,1,2\\n730881,7,6,3,2,5,10,7,4,6,4\\n733639,3,1,1,1,2,1,3,1,1,2\\n733823,5,4,6,10,2,10,4,1,1,4\\n740492,1,1,1,1,2,1,3,1,1,2\\n743348,3,2,2,1,2,1,2,3,1,2\\n752904,10,1,1,1,2,10,5,4,1,4\\n756136,1,1,1,1,2,1,2,1,1,2\\n760001,8,10,3,2,6,4,3,10,1,4\\n760239,10,4,6,4,5,10,7,1,1,4\\n76389,10,4,7,2,2,8,6,1,1,4\\n764974,5,1,1,1,2,1,3,1,2,2\\n770066,5,2,2,2,2,1,2,2,1,2\\n785208,5,4,6,6,4,10,4,3,1,4\\n785615,8,6,7,3,3,10,3,4,2,4\\n792744,1,1,1,1,2,1,1,1,1,2\\n797327,6,5,5,8,4,10,3,4,1,4\\n798429,1,1,1,1,2,1,3,1,1,2\\n704097,1,1,1,1,1,1,2,1,1,2\\n806423,8,5,5,5,2,10,4,3,1,4\\n809912,10,3,3,1,2,10,7,6,1,4\\n810104,1,1,1,1,2,1,3,1,1,2\\n814265,2,1,1,1,2,1,1,1,1,2\\n814911,1,1,1,1,2,1,1,1,1,2\\n822829,7,6,4,8,10,10,9,5,3,4\\n826923,1,1,1,1,2,1,1,1,1,2\\n830690,5,2,2,2,3,1,1,3,1,2\\n831268,1,1,1,1,1,1,1,3,1,2\\n832226,3,4,4,10,5,1,3,3,1,4\\n832567,4,2,3,5,3,8,7,6,1,4\\n836433,5,1,1,3,2,1,1,1,1,2\\n837082,2,1,1,1,2,1,3,1,1,2\\n846832,3,4,5,3,7,3,4,6,1,2\\n850831,2,7,10,10,7,10,4,9,4,4\\n855524,1,1,1,1,2,1,2,1,1,2\\n857774,4,1,1,1,3,1,2,2,1,2\\n859164,5,3,3,1,3,3,3,3,3,4\\n859350,8,10,10,7,10,10,7,3,8,4\\n866325,8,10,5,3,8,4,4,10,3,4\\n873549,10,3,5,4,3,7,3,5,3,4\\n877291,6,10,10,10,10,10,8,10,10,4\\n877943,3,10,3,10,6,10,5,1,4,4\\n888169,3,2,2,1,4,3,2,1,1,2\\n888523,4,4,4,2,2,3,2,1,1,2\\n896404,2,1,1,1,2,1,3,1,1,2\\n897172,2,1,1,1,2,1,2,1,1,2\\n95719,6,10,10,10,8,10,7,10,7,4\\n160296,5,8,8,10,5,10,8,10,3,4\\n342245,1,1,3,1,2,1,1,1,1,2\\n428598,1,1,3,1,1,1,2,1,1,2\\n492561,4,3,2,1,3,1,2,1,1,2\\n493452,1,1,3,1,2,1,1,1,1,2\\n493452,4,1,2,1,2,1,2,1,1,2\\n521441,5,1,1,2,2,1,2,1,1,2\\n560680,3,1,2,1,2,1,2,1,1,2\\n636437,1,1,1,1,2,1,1,1,1,2\\n640712,1,1,1,1,2,1,2,1,1,2\\n654244,1,1,1,1,1,1,2,1,1,2\\n657753,3,1,1,4,3,1,2,2,1,2\\n685977,5,3,4,1,4,1,3,1,1,2\\n805448,1,1,1,1,2,1,1,1,1,2\\n846423,10,6,3,6,4,10,7,8,4,4\\n1002504,3,2,2,2,2,1,3,2,1,2\\n1022257,2,1,1,1,2,1,1,1,1,2\\n1026122,2,1,1,1,2,1,1,1,1,2\\n1071084,3,3,2,2,3,1,1,2,3,2\\n1080233,7,6,6,3,2,10,7,1,1,4\\n1114570,5,3,3,2,3,1,3,1,1,2\\n1114570,2,1,1,1,2,1,2,2,1,2\\n1116715,5,1,1,1,3,2,2,2,1,2\\n1131411,1,1,1,2,2,1,2,1,1,2\\n1151734,10,8,7,4,3,10,7,9,1,4\\n1156017,3,1,1,1,2,1,2,1,1,2\\n1158247,1,1,1,1,1,1,1,1,1,2\\n1158405,1,2,3,1,2,1,2,1,1,2\\n1168278,3,1,1,1,2,1,2,1,1,2\\n1176187,3,1,1,1,2,1,3,1,1,2\\n1196263,4,1,1,1,2,1,1,1,1,2\\n1196475,3,2,1,1,2,1,2,2,1,2\\n1206314,1,2,3,1,2,1,1,1,1,2\\n1211265,3,10,8,7,6,9,9,3,8,4\\n1213784,3,1,1,1,2,1,1,1,1,2\\n1223003,5,3,3,1,2,1,2,1,1,2\\n1223306,3,1,1,1,2,4,1,1,1,2\\n1223543,1,2,1,3,2,1,1,2,1,2\\n1229929,1,1,1,1,2,1,2,1,1,2\\n1231853,4,2,2,1,2,1,2,1,1,2\\n1234554,1,1,1,1,2,1,2,1,1,2\\n1236837,2,3,2,2,2,2,3,1,1,2\\n1237674,3,1,2,1,2,1,2,1,1,2\\n1238021,1,1,1,1,2,1,2,1,1,2\\n1238633,10,10,10,6,8,4,8,5,1,4\\n1238915,5,1,2,1,2,1,3,1,1,2\\n1238948,8,5,6,2,3,10,6,6,1,4\\n1239232,3,3,2,6,3,3,3,5,1,2\\n1239347,8,7,8,5,10,10,7,2,1,4\\n1239967,1,1,1,1,2,1,2,1,1,2\\n1240337,5,2,2,2,2,2,3,2,2,2\\n1253505,2,3,1,1,5,1,1,1,1,2\\n1255384,3,2,2,3,2,3,3,1,1,2\\n1257200,10,10,10,7,10,10,8,2,1,4\\n1257648,4,3,3,1,2,1,3,3,1,2\\n1257815,5,1,3,1,2,1,2,1,1,2\\n1257938,3,1,1,1,2,1,1,1,1,2\\n1258549,9,10,10,10,10,10,10,10,1,4\\n1258556,5,3,6,1,2,1,1,1,1,2\\n1266154,8,7,8,2,4,2,5,10,1,4\\n1272039,1,1,1,1,2,1,2,1,1,2\\n1276091,2,1,1,1,2,1,2,1,1,2\\n1276091,1,3,1,1,2,1,2,2,1,2\\n1276091,5,1,1,3,4,1,3,2,1,2\\n1277629,5,1,1,1,2,1,2,2,1,2\\n1293439,3,2,2,3,2,1,1,1,1,2\\n1293439,6,9,7,5,5,8,4,2,1,2\\n1294562,10,8,10,1,3,10,5,1,1,4\\n1295186,10,10,10,1,6,1,2,8,1,4\\n527337,4,1,1,1,2,1,1,1,1,2\\n558538,4,1,3,3,2,1,1,1,1,2\\n566509,5,1,1,1,2,1,1,1,1,2\\n608157,10,4,3,10,4,10,10,1,1,4\\n677910,5,2,2,4,2,4,1,1,1,2\\n734111,1,1,1,3,2,3,1,1,1,2\\n734111,1,1,1,1,2,2,1,1,1,2\\n780555,5,1,1,6,3,1,2,1,1,2\\n827627,2,1,1,1,2,1,1,1,1,2\\n1049837,1,1,1,1,2,1,1,1,1,2\\n1058849,5,1,1,1,2,1,1,1,1,2\\n1182404,1,1,1,1,1,1,1,1,1,2\\n1193544,5,7,9,8,6,10,8,10,1,4\\n1201870,4,1,1,3,1,1,2,1,1,2\\n1202253,5,1,1,1,2,1,1,1,1,2\\n1227081,3,1,1,3,2,1,1,1,1,2\\n1230994,4,5,5,8,6,10,10,7,1,4\\n1238410,2,3,1,1,3,1,1,1,1,2\\n1246562,10,2,2,1,2,6,1,1,2,4\\n1257470,10,6,5,8,5,10,8,6,1,4\\n1259008,8,8,9,6,6,3,10,10,1,4\\n1266124,5,1,2,1,2,1,1,1,1,2\\n1267898,5,1,3,1,2,1,1,1,1,2\\n1268313,5,1,1,3,2,1,1,1,1,2\\n1268804,3,1,1,1,2,5,1,1,1,2\\n1276091,6,1,1,3,2,1,1,1,1,2\\n1280258,4,1,1,1,2,1,1,2,1,2\\n1293966,4,1,1,1,2,1,1,1,1,2\\n1296572,10,9,8,7,6,4,7,10,3,4\\n1298416,10,6,6,2,4,10,9,7,1,4\\n1299596,6,6,6,5,4,10,7,6,2,4\\n1105524,4,1,1,1,2,1,1,1,1,2\\n1181685,1,1,2,1,2,1,2,1,1,2\\n1211594,3,1,1,1,1,1,2,1,1,2\\n1238777,6,1,1,3,2,1,1,1,1,2\\n1257608,6,1,1,1,1,1,1,1,1,2\\n1269574,4,1,1,1,2,1,1,1,1,2\\n1277145,5,1,1,1,2,1,1,1,1,2\\n1287282,3,1,1,1,2,1,1,1,1,2\\n1296025,4,1,2,1,2,1,1,1,1,2\\n1296263,4,1,1,1,2,1,1,1,1,2\\n1296593,5,2,1,1,2,1,1,1,1,2\\n1299161,4,8,7,10,4,10,7,5,1,4\\n1301945,5,1,1,1,1,1,1,1,1,2\\n1302428,5,3,2,4,2,1,1,1,1,2\\n1318169,9,10,10,10,10,5,10,10,10,4\\n474162,8,7,8,5,5,10,9,10,1,4\\n787451,5,1,2,1,2,1,1,1,1,2\\n1002025,1,1,1,3,1,3,1,1,1,2\\n1070522,3,1,1,1,1,1,2,1,1,2\\n1073960,10,10,10,10,6,10,8,1,5,4\\n1076352,3,6,4,10,3,3,3,4,1,4\\n1084139,6,3,2,1,3,4,4,1,1,4\\n1115293,1,1,1,1,2,1,1,1,1,2\\n1119189,5,8,9,4,3,10,7,1,1,4\\n1133991,4,1,1,1,1,1,2,1,1,2\\n1142706,5,10,10,10,6,10,6,5,2,4\\n1155967,5,1,2,10,4,5,2,1,1,2\\n1170945,3,1,1,1,1,1,2,1,1,2\\n1181567,1,1,1,1,1,1,1,1,1,2\\n1182404,4,2,1,1,2,1,1,1,1,2\\n1204558,4,1,1,1,2,1,2,1,1,2\\n1217952,4,1,1,1,2,1,2,1,1,2\\n1224565,6,1,1,1,2,1,3,1,1,2\\n1238186,4,1,1,1,2,1,2,1,1,2\\n1253917,4,1,1,2,2,1,2,1,1,2\\n1265899,4,1,1,1,2,1,3,1,1,2\\n1268766,1,1,1,1,2,1,1,1,1,2\\n1277268,3,3,1,1,2,1,1,1,1,2\\n1286943,8,10,10,10,7,5,4,8,7,4\\n1295508,1,1,1,1,2,4,1,1,1,2\\n1297327,5,1,1,1,2,1,1,1,1,2\\n1297522,2,1,1,1,2,1,1,1,1,2\\n1298360,1,1,1,1,2,1,1,1,1,2\\n1299924,5,1,1,1,2,1,2,1,1,2\\n1299994,5,1,1,1,2,1,1,1,1,2\\n1304595,3,1,1,1,1,1,2,1,1,2\\n1306282,6,6,7,10,3,10,8,10,2,4\\n1313325,4,10,4,7,3,10,9,10,1,4\\n1320077,1,1,1,1,1,1,1,1,1,2\\n1320077,1,1,1,1,1,1,2,1,1,2\\n1320304,3,1,2,2,2,1,1,1,1,2\\n1330439,4,7,8,3,4,10,9,1,1,4\\n333093,1,1,1,1,3,1,1,1,1,2\\n369565,4,1,1,1,3,1,1,1,1,2\\n412300,10,4,5,4,3,5,7,3,1,4\\n672113,7,5,6,10,4,10,5,3,1,4\\n749653,3,1,1,1,2,1,2,1,1,2\\n769612,3,1,1,2,2,1,1,1,1,2\\n769612,4,1,1,1,2,1,1,1,1,2\\n798429,4,1,1,1,2,1,3,1,1,2\\n807657,6,1,3,2,2,1,1,1,1,2\\n8233704,4,1,1,1,1,1,2,1,1,2\\n837480,7,4,4,3,4,10,6,9,1,4\\n867392,4,2,2,1,2,1,2,1,1,2\\n869828,1,1,1,1,1,1,3,1,1,2\\n1043068,3,1,1,1,2,1,2,1,1,2\\n1056171,2,1,1,1,2,1,2,1,1,2\\n1061990,1,1,3,2,2,1,3,1,1,2\\n1113061,5,1,1,1,2,1,3,1,1,2\\n1116192,5,1,2,1,2,1,3,1,1,2\\n1135090,4,1,1,1,2,1,2,1,1,2\\n1145420,6,1,1,1,2,1,2,1,1,2\\n1158157,5,1,1,1,2,2,2,1,1,2\\n1171578,3,1,1,1,2,1,1,1,1,2\\n1174841,5,3,1,1,2,1,1,1,1,2\\n1184586,4,1,1,1,2,1,2,1,1,2\\n1186936,2,1,3,2,2,1,2,1,1,2\\n1197527,5,1,1,1,2,1,2,1,1,2\\n1222464,6,10,10,10,4,10,7,10,1,4\\n1240603,2,1,1,1,1,1,1,1,1,2\\n1240603,3,1,1,1,1,1,1,1,1,2\\n1241035,7,8,3,7,4,5,7,8,2,4\\n1287971,3,1,1,1,2,1,2,1,1,2\\n1289391,1,1,1,1,2,1,3,1,1,2\\n1299924,3,2,2,2,2,1,4,2,1,2\\n1306339,4,4,2,1,2,5,2,1,2,2\\n1313658,3,1,1,1,2,1,1,1,1,2\\n1313982,4,3,1,1,2,1,4,8,1,2\\n1321264,5,2,2,2,1,1,2,1,1,2\\n1321321,5,1,1,3,2,1,1,1,1,2\\n1321348,2,1,1,1,2,1,2,1,1,2\\n1321931,5,1,1,1,2,1,2,1,1,2\\n1321942,5,1,1,1,2,1,3,1,1,2\\n1321942,5,1,1,1,2,1,3,1,1,2\\n1328331,1,1,1,1,2,1,3,1,1,2\\n1328755,3,1,1,1,2,1,2,1,1,2\\n1331405,4,1,1,1,2,1,3,2,1,2\\n1331412,5,7,10,10,5,10,10,10,1,4\\n1333104,3,1,2,1,2,1,3,1,1,2\\n1334071,4,1,1,1,2,3,2,1,1,2\\n1343068,8,4,4,1,6,10,2,5,2,4\\n1343374,10,10,8,10,6,5,10,3,1,4\\n1344121,8,10,4,4,8,10,8,2,1,4\\n142932,7,6,10,5,3,10,9,10,2,4\\n183936,3,1,1,1,2,1,2,1,1,2\\n324382,1,1,1,1,2,1,2,1,1,2\\n378275,10,9,7,3,4,2,7,7,1,4\\n385103,5,1,2,1,2,1,3,1,1,2\\n690557,5,1,1,1,2,1,2,1,1,2\\n695091,1,1,1,1,2,1,2,1,1,2\\n695219,1,1,1,1,2,1,2,1,1,2\\n824249,1,1,1,1,2,1,3,1,1,2\\n871549,5,1,2,1,2,1,2,1,1,2\\n878358,5,7,10,6,5,10,7,5,1,4\\n1107684,6,10,5,5,4,10,6,10,1,4\\n1115762,3,1,1,1,2,1,1,1,1,2\\n1217717,5,1,1,6,3,1,1,1,1,2\\n1239420,1,1,1,1,2,1,1,1,1,2\\n1254538,8,10,10,10,6,10,10,10,1,4\\n1261751,5,1,1,1,2,1,2,2,1,2\\n1268275,9,8,8,9,6,3,4,1,1,4\\n1272166,5,1,1,1,2,1,1,1,1,2\\n1294261,4,10,8,5,4,1,10,1,1,4\\n1295529,2,5,7,6,4,10,7,6,1,4\\n1298484,10,3,4,5,3,10,4,1,1,4\\n1311875,5,1,2,1,2,1,1,1,1,2\\n1315506,4,8,6,3,4,10,7,1,1,4\\n1320141,5,1,1,1,2,1,2,1,1,2\\n1325309,4,1,2,1,2,1,2,1,1,2\\n1333063,5,1,3,1,2,1,3,1,1,2\\n1333495,3,1,1,1,2,1,2,1,1,2\\n1334659,5,2,4,1,1,1,1,1,1,2\\n1336798,3,1,1,1,2,1,2,1,1,2\\n1344449,1,1,1,1,1,1,2,1,1,2\\n1350568,4,1,1,1,2,1,2,1,1,2\\n1352663,5,4,6,8,4,1,8,10,1,4\\n188336,5,3,2,8,5,10,8,1,2,4\\n352431,10,5,10,3,5,8,7,8,3,4\\n353098,4,1,1,2,2,1,1,1,1,2\\n411453,1,1,1,1,2,1,1,1,1,2\\n557583,5,10,10,10,10,10,10,1,1,4\\n636375,5,1,1,1,2,1,1,1,1,2\\n736150,10,4,3,10,3,10,7,1,2,4\\n803531,5,10,10,10,5,2,8,5,1,4\\n822829,8,10,10,10,6,10,10,10,10,4\\n1016634,2,3,1,1,2,1,2,1,1,2\\n1031608,2,1,1,1,1,1,2,1,1,2\\n1041043,4,1,3,1,2,1,2,1,1,2\\n1042252,3,1,1,1,2,1,2,1,1,2\\n1061990,4,1,1,1,2,1,2,1,1,2\\n1073836,5,1,1,1,2,1,2,1,1,2\\n1083817,3,1,1,1,2,1,2,1,1,2\\n1096352,6,3,3,3,3,2,6,1,1,2\\n1140597,7,1,2,3,2,1,2,1,1,2\\n1149548,1,1,1,1,2,1,1,1,1,2\\n1174009,5,1,1,2,1,1,2,1,1,2\\n1183596,3,1,3,1,3,4,1,1,1,2\\n1190386,4,6,6,5,7,6,7,7,3,4\\n1190546,2,1,1,1,2,5,1,1,1,2\\n1213273,2,1,1,1,2,1,1,1,1,2\\n1218982,4,1,1,1,2,1,1,1,1,2\\n1225382,6,2,3,1,2,1,1,1,1,2\\n1235807,5,1,1,1,2,1,2,1,1,2\\n1238777,1,1,1,1,2,1,1,1,1,2\\n1253955,8,7,4,4,5,3,5,10,1,4\\n1257366,3,1,1,1,2,1,1,1,1,2\\n1260659,3,1,4,1,2,1,1,1,1,2\\n1268952,10,10,7,8,7,1,10,10,3,4\\n1275807,4,2,4,3,2,2,2,1,1,2\\n1277792,4,1,1,1,2,1,1,1,1,2\\n1277792,5,1,1,3,2,1,1,1,1,2\\n1285722,4,1,1,3,2,1,1,1,1,2\\n1288608,3,1,1,1,2,1,2,1,1,2\\n1290203,3,1,1,1,2,1,2,1,1,2\\n1294413,1,1,1,1,2,1,1,1,1,2\\n1299596,2,1,1,1,2,1,1,1,1,2\\n1303489,3,1,1,1,2,1,2,1,1,2\\n1311033,1,2,2,1,2,1,1,1,1,2\\n1311108,1,1,1,3,2,1,1,1,1,2\\n1315807,5,10,10,10,10,2,10,10,10,4\\n1318671,3,1,1,1,2,1,2,1,1,2\\n1319609,3,1,1,2,3,4,1,1,1,2\\n1323477,1,2,1,3,2,1,2,1,1,2\\n1324572,5,1,1,1,2,1,2,2,1,2\\n1324681,4,1,1,1,2,1,2,1,1,2\\n1325159,3,1,1,1,2,1,3,1,1,2\\n1326892,3,1,1,1,2,1,2,1,1,2\\n1330361,5,1,1,1,2,1,2,1,1,2\\n1333877,5,4,5,1,8,1,3,6,1,2\\n1334015,7,8,8,7,3,10,7,2,3,4\\n1334667,1,1,1,1,2,1,1,1,1,2\\n1339781,1,1,1,1,2,1,2,1,1,2\\n1339781,4,1,1,1,2,1,3,1,1,2\\n13454352,1,1,3,1,2,1,2,1,1,2\\n1345452,1,1,3,1,2,1,2,1,1,2\\n1345593,3,1,1,3,2,1,2,1,1,2\\n1347749,1,1,1,1,2,1,1,1,1,2\\n1347943,5,2,2,2,2,1,1,1,2,2\\n1348851,3,1,1,1,2,1,3,1,1,2\\n1350319,5,7,4,1,6,1,7,10,3,4\\n1350423,5,10,10,8,5,5,7,10,1,4\\n1352848,3,10,7,8,5,8,7,4,1,4\\n1353092,3,2,1,2,2,1,3,1,1,2\\n1354840,2,1,1,1,2,1,3,1,1,2\\n1354840,5,3,2,1,3,1,1,1,1,2\\n1355260,1,1,1,1,2,1,2,1,1,2\\n1365075,4,1,4,1,2,1,1,1,1,2\\n1365328,1,1,2,1,2,1,2,1,1,2\\n1368267,5,1,1,1,2,1,1,1,1,2\\n1368273,1,1,1,1,2,1,1,1,1,2\\n1368882,2,1,1,1,2,1,1,1,1,2\\n1369821,10,10,10,10,5,10,10,10,7,4\\n1371026,5,10,10,10,4,10,5,6,3,4\\n1371920,5,1,1,1,2,1,3,2,1,2\\n466906,1,1,1,1,2,1,1,1,1,2\\n466906,1,1,1,1,2,1,1,1,1,2\\n534555,1,1,1,1,2,1,1,1,1,2\\n536708,1,1,1,1,2,1,1,1,1,2\\n566346,3,1,1,1,2,1,2,3,1,2\\n603148,4,1,1,1,2,1,1,1,1,2\\n654546,1,1,1,1,2,1,1,1,8,2\\n654546,1,1,1,3,2,1,1,1,1,2\\n695091,5,10,10,5,4,5,4,4,1,4\\n714039,3,1,1,1,2,1,1,1,1,2\\n763235,3,1,1,1,2,1,2,1,2,2\\n776715,3,1,1,1,3,2,1,1,1,2\\n841769,2,1,1,1,2,1,1,1,1,2\\n888820,5,10,10,3,7,3,8,10,2,4\\n897471,4,8,6,4,3,4,10,6,1,4\\n897471,4,8,8,5,4,5,10,4,1,4'}"
            ]
          },
          "metadata": {},
          "execution_count": 10
        }
      ]
    },
    {
      "cell_type": "markdown",
      "metadata": {
        "id": "ioLj5DD9To4J"
      },
      "source": [
        "## Spliting into X & Y"
      ]
    },
    {
      "cell_type": "code",
      "metadata": {
        "id": "wA2nAIp_Tnp6"
      },
      "source": [
        "dataset = pd.read_csv(\"Data.csv\")\n",
        "X = dataset.iloc[:, :-1].values\n",
        "Y =dataset.iloc[:, -1].values"
      ],
      "execution_count": 11,
      "outputs": []
    },
    {
      "cell_type": "markdown",
      "metadata": {
        "id": "Zplk8bkqUkB5"
      },
      "source": [
        "## Spliting X & Y Dataset into Training and Testing"
      ]
    },
    {
      "cell_type": "code",
      "metadata": {
        "id": "Cq8gqz3SUkTJ"
      },
      "source": [
        "from sklearn.model_selection import train_test_split\n",
        "X_train, X_test, Y_train, Y_test = train_test_split(X, Y, test_size = 0.25, random_state = 0)"
      ],
      "execution_count": 12,
      "outputs": []
    },
    {
      "cell_type": "markdown",
      "metadata": {
        "id": "9z8IrP40UknZ"
      },
      "source": [
        "## Feature Scaling\n",
        "\n",
        "There is no need to select indexes in our X_train and X_test datasets.\n",
        "Note: X_test must not be fit_transform, it should only be transformed for prediction part beacause that can lead to data leakage."
      ]
    },
    {
      "cell_type": "code",
      "metadata": {
        "id": "5EdMKtLRUk0A"
      },
      "source": [
        "from sklearn.preprocessing import StandardScaler\n",
        "feat_scale = StandardScaler()\n",
        "X_train = feat_scale.fit_transform(X_train)\n",
        "X_test =feat_scale.transform(X_test)"
      ],
      "execution_count": 13,
      "outputs": []
    },
    {
      "cell_type": "markdown",
      "metadata": {
        "id": "NfUTEenkUlBZ"
      },
      "source": [
        "## Training Logistic Regression Model"
      ]
    },
    {
      "cell_type": "code",
      "metadata": {
        "colab": {
          "base_uri": "https://localhost:8080/"
        },
        "id": "iuLqnixDUlO3",
        "outputId": "e71d3fd5-07be-426f-9dca-817af26a1a07"
      },
      "source": [
        "from sklearn.linear_model import LogisticRegression\n",
        "classifier = LogisticRegression(random_state = 0)\n",
        "classifier.fit(X_train, Y_train)"
      ],
      "execution_count": 14,
      "outputs": [
        {
          "output_type": "execute_result",
          "data": {
            "text/plain": [
              "LogisticRegression(C=1.0, class_weight=None, dual=False, fit_intercept=True,\n",
              "                   intercept_scaling=1, l1_ratio=None, max_iter=100,\n",
              "                   multi_class='auto', n_jobs=None, penalty='l2',\n",
              "                   random_state=0, solver='lbfgs', tol=0.0001, verbose=0,\n",
              "                   warm_start=False)"
            ]
          },
          "metadata": {},
          "execution_count": 14
        }
      ]
    },
    {
      "cell_type": "markdown",
      "metadata": {
        "id": "HN5oUPfzc-66"
      },
      "source": [
        "A person with AGE 30 and SALARY 87000 might not be right customer as our model shows 0"
      ]
    },
    {
      "cell_type": "markdown",
      "metadata": {
        "id": "-g75FGMsUl4y"
      },
      "source": [
        "## Predicting Test Set Results and Comparing with Y_test"
      ]
    },
    {
      "cell_type": "code",
      "metadata": {
        "id": "TXKjCjMFUmFs"
      },
      "source": [
        "y_pred =  classifier.predict(X_test)"
      ],
      "execution_count": 15,
      "outputs": []
    },
    {
      "cell_type": "markdown",
      "metadata": {
        "id": "BH-fOC1dheWS"
      },
      "source": [
        "## Making Confusion Matrix"
      ]
    },
    {
      "cell_type": "code",
      "metadata": {
        "colab": {
          "base_uri": "https://localhost:8080/"
        },
        "id": "Hp2l1iqOheo4",
        "outputId": "9c90ec3c-5b1f-4a7f-94f5-b9eae266ef97"
      },
      "source": [
        "from sklearn.metrics import confusion_matrix, accuracy_score\n",
        "confusionMatrix = confusion_matrix(Y_test, y_pred)\n",
        "print(confusionMatrix)\n",
        "accuracy_score(Y_test, y_pred)"
      ],
      "execution_count": 16,
      "outputs": [
        {
          "output_type": "stream",
          "name": "stdout",
          "text": [
            "[[103   4]\n",
            " [  5  59]]\n"
          ]
        },
        {
          "output_type": "execute_result",
          "data": {
            "text/plain": [
              "0.9473684210526315"
            ]
          },
          "metadata": {},
          "execution_count": 16
        }
      ]
    }
  ]
}