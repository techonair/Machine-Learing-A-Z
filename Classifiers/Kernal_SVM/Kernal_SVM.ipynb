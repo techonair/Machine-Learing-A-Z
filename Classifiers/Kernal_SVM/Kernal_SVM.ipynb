{
  "nbformat": 4,
  "nbformat_minor": 0,
  "metadata": {
    "colab": {
      "name": "Kernal_SVM.ipynb",
      "provenance": [],
      "authorship_tag": "ABX9TyP5yus/tC4uQDiejxJZUBKY",
      "include_colab_link": true
    },
    "kernelspec": {
      "name": "python3",
      "display_name": "Python 3"
    },
    "language_info": {
      "name": "python"
    }
  },
  "cells": [
    {
      "cell_type": "markdown",
      "metadata": {
        "id": "view-in-github",
        "colab_type": "text"
      },
      "source": [
        "<a href=\"https://colab.research.google.com/github/techonair/Machine-Learing-A-Z/blob/main/Classifiers/Kernal_SVM/Kernal_SVM.ipynb\" target=\"_parent\"><img src=\"https://colab.research.google.com/assets/colab-badge.svg\" alt=\"Open In Colab\"/></a>"
      ]
    },
    {
      "cell_type": "markdown",
      "metadata": {
        "id": "aNXoq9D1fNqI"
      },
      "source": [
        "# **Kernal** Support Vector Machine"
      ]
    },
    {
      "cell_type": "markdown",
      "metadata": {
        "id": "p1fUxuj9fNx0"
      },
      "source": [
        "## Importing Libraires"
      ]
    },
    {
      "cell_type": "code",
      "metadata": {
        "id": "xDxsNmjYzkhm"
      },
      "source": [
        "import numpy as np\n",
        "import matplotlib.pyplot as plt\n",
        "import pandas as pd"
      ],
      "execution_count": 1,
      "outputs": []
    },
    {
      "cell_type": "markdown",
      "metadata": {
        "id": "kXHbW7Y5fOWa"
      },
      "source": [
        "## Importing Dataset"
      ]
    },
    {
      "cell_type": "code",
      "metadata": {
        "colab": {
          "resources": {
            "http://localhost:8080/nbextensions/google.colab/files.js": {
              "data": "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",
              "ok": true,
              "headers": [
                [
                  "content-type",
                  "application/javascript"
                ]
              ],
              "status": 200,
              "status_text": ""
            }
          },
          "base_uri": "https://localhost:8080/",
          "height": 110
        },
        "id": "EwA8YgWnzyuI",
        "outputId": "aeb5fb95-70c9-48aa-e349-c5267ba20ef6"
      },
      "source": [
        "from google.colab import files\n",
        "files.upload()"
      ],
      "execution_count": 2,
      "outputs": [
        {
          "output_type": "display_data",
          "data": {
            "text/html": [
              "\n",
              "     <input type=\"file\" id=\"files-75185194-3f01-49b8-bb9d-9c2c4c3b6e11\" name=\"files[]\" multiple disabled\n",
              "        style=\"border:none\" />\n",
              "     <output id=\"result-75185194-3f01-49b8-bb9d-9c2c4c3b6e11\">\n",
              "      Upload widget is only available when the cell has been executed in the\n",
              "      current browser session. Please rerun this cell to enable.\n",
              "      </output>\n",
              "      <script src=\"/nbextensions/google.colab/files.js\"></script> "
            ],
            "text/plain": [
              "<IPython.core.display.HTML object>"
            ]
          },
          "metadata": {}
        },
        {
          "output_type": "stream",
          "name": "stdout",
          "text": [
            "Saving Social_Network_Ads.csv to Social_Network_Ads.csv\n"
          ]
        },
        {
          "output_type": "execute_result",
          "data": {
            "text/plain": [
              "{'Social_Network_Ads.csv': b'Age,EstimatedSalary,Purchased\\r\\n19,19000,0\\r\\n35,20000,0\\r\\n26,43000,0\\r\\n27,57000,0\\r\\n19,76000,0\\r\\n27,58000,0\\r\\n27,84000,0\\r\\n32,150000,1\\r\\n25,33000,0\\r\\n35,65000,0\\r\\n26,80000,0\\r\\n26,52000,0\\r\\n20,86000,0\\r\\n32,18000,0\\r\\n18,82000,0\\r\\n29,80000,0\\r\\n47,25000,1\\r\\n45,26000,1\\r\\n46,28000,1\\r\\n48,29000,1\\r\\n45,22000,1\\r\\n47,49000,1\\r\\n48,41000,1\\r\\n45,22000,1\\r\\n46,23000,1\\r\\n47,20000,1\\r\\n49,28000,1\\r\\n47,30000,1\\r\\n29,43000,0\\r\\n31,18000,0\\r\\n31,74000,0\\r\\n27,137000,1\\r\\n21,16000,0\\r\\n28,44000,0\\r\\n27,90000,0\\r\\n35,27000,0\\r\\n33,28000,0\\r\\n30,49000,0\\r\\n26,72000,0\\r\\n27,31000,0\\r\\n27,17000,0\\r\\n33,51000,0\\r\\n35,108000,0\\r\\n30,15000,0\\r\\n28,84000,0\\r\\n23,20000,0\\r\\n25,79000,0\\r\\n27,54000,0\\r\\n30,135000,1\\r\\n31,89000,0\\r\\n24,32000,0\\r\\n18,44000,0\\r\\n29,83000,0\\r\\n35,23000,0\\r\\n27,58000,0\\r\\n24,55000,0\\r\\n23,48000,0\\r\\n28,79000,0\\r\\n22,18000,0\\r\\n32,117000,0\\r\\n27,20000,0\\r\\n25,87000,0\\r\\n23,66000,0\\r\\n32,120000,1\\r\\n59,83000,0\\r\\n24,58000,0\\r\\n24,19000,0\\r\\n23,82000,0\\r\\n22,63000,0\\r\\n31,68000,0\\r\\n25,80000,0\\r\\n24,27000,0\\r\\n20,23000,0\\r\\n33,113000,0\\r\\n32,18000,0\\r\\n34,112000,1\\r\\n18,52000,0\\r\\n22,27000,0\\r\\n28,87000,0\\r\\n26,17000,0\\r\\n30,80000,0\\r\\n39,42000,0\\r\\n20,49000,0\\r\\n35,88000,0\\r\\n30,62000,0\\r\\n31,118000,1\\r\\n24,55000,0\\r\\n28,85000,0\\r\\n26,81000,0\\r\\n35,50000,0\\r\\n22,81000,0\\r\\n30,116000,0\\r\\n26,15000,0\\r\\n29,28000,0\\r\\n29,83000,0\\r\\n35,44000,0\\r\\n35,25000,0\\r\\n28,123000,1\\r\\n35,73000,0\\r\\n28,37000,0\\r\\n27,88000,0\\r\\n28,59000,0\\r\\n32,86000,0\\r\\n33,149000,1\\r\\n19,21000,0\\r\\n21,72000,0\\r\\n26,35000,0\\r\\n27,89000,0\\r\\n26,86000,0\\r\\n38,80000,0\\r\\n39,71000,0\\r\\n37,71000,0\\r\\n38,61000,0\\r\\n37,55000,0\\r\\n42,80000,0\\r\\n40,57000,0\\r\\n35,75000,0\\r\\n36,52000,0\\r\\n40,59000,0\\r\\n41,59000,0\\r\\n36,75000,0\\r\\n37,72000,0\\r\\n40,75000,0\\r\\n35,53000,0\\r\\n41,51000,0\\r\\n39,61000,0\\r\\n42,65000,0\\r\\n26,32000,0\\r\\n30,17000,0\\r\\n26,84000,0\\r\\n31,58000,0\\r\\n33,31000,0\\r\\n30,87000,0\\r\\n21,68000,0\\r\\n28,55000,0\\r\\n23,63000,0\\r\\n20,82000,0\\r\\n30,107000,1\\r\\n28,59000,0\\r\\n19,25000,0\\r\\n19,85000,0\\r\\n18,68000,0\\r\\n35,59000,0\\r\\n30,89000,0\\r\\n34,25000,0\\r\\n24,89000,0\\r\\n27,96000,1\\r\\n41,30000,0\\r\\n29,61000,0\\r\\n20,74000,0\\r\\n26,15000,0\\r\\n41,45000,0\\r\\n31,76000,0\\r\\n36,50000,0\\r\\n40,47000,0\\r\\n31,15000,0\\r\\n46,59000,0\\r\\n29,75000,0\\r\\n26,30000,0\\r\\n32,135000,1\\r\\n32,100000,1\\r\\n25,90000,0\\r\\n37,33000,0\\r\\n35,38000,0\\r\\n33,69000,0\\r\\n18,86000,0\\r\\n22,55000,0\\r\\n35,71000,0\\r\\n29,148000,1\\r\\n29,47000,0\\r\\n21,88000,0\\r\\n34,115000,0\\r\\n26,118000,0\\r\\n34,43000,0\\r\\n34,72000,0\\r\\n23,28000,0\\r\\n35,47000,0\\r\\n25,22000,0\\r\\n24,23000,0\\r\\n31,34000,0\\r\\n26,16000,0\\r\\n31,71000,0\\r\\n32,117000,1\\r\\n33,43000,0\\r\\n33,60000,0\\r\\n31,66000,0\\r\\n20,82000,0\\r\\n33,41000,0\\r\\n35,72000,0\\r\\n28,32000,0\\r\\n24,84000,0\\r\\n19,26000,0\\r\\n29,43000,0\\r\\n19,70000,0\\r\\n28,89000,0\\r\\n34,43000,0\\r\\n30,79000,0\\r\\n20,36000,0\\r\\n26,80000,0\\r\\n35,22000,0\\r\\n35,39000,0\\r\\n49,74000,0\\r\\n39,134000,1\\r\\n41,71000,0\\r\\n58,101000,1\\r\\n47,47000,0\\r\\n55,130000,1\\r\\n52,114000,0\\r\\n40,142000,1\\r\\n46,22000,0\\r\\n48,96000,1\\r\\n52,150000,1\\r\\n59,42000,0\\r\\n35,58000,0\\r\\n47,43000,0\\r\\n60,108000,1\\r\\n49,65000,0\\r\\n40,78000,0\\r\\n46,96000,0\\r\\n59,143000,1\\r\\n41,80000,0\\r\\n35,91000,1\\r\\n37,144000,1\\r\\n60,102000,1\\r\\n35,60000,0\\r\\n37,53000,0\\r\\n36,126000,1\\r\\n56,133000,1\\r\\n40,72000,0\\r\\n42,80000,1\\r\\n35,147000,1\\r\\n39,42000,0\\r\\n40,107000,1\\r\\n49,86000,1\\r\\n38,112000,0\\r\\n46,79000,1\\r\\n40,57000,0\\r\\n37,80000,0\\r\\n46,82000,0\\r\\n53,143000,1\\r\\n42,149000,1\\r\\n38,59000,0\\r\\n50,88000,1\\r\\n56,104000,1\\r\\n41,72000,0\\r\\n51,146000,1\\r\\n35,50000,0\\r\\n57,122000,1\\r\\n41,52000,0\\r\\n35,97000,1\\r\\n44,39000,0\\r\\n37,52000,0\\r\\n48,134000,1\\r\\n37,146000,1\\r\\n50,44000,0\\r\\n52,90000,1\\r\\n41,72000,0\\r\\n40,57000,0\\r\\n58,95000,1\\r\\n45,131000,1\\r\\n35,77000,0\\r\\n36,144000,1\\r\\n55,125000,1\\r\\n35,72000,0\\r\\n48,90000,1\\r\\n42,108000,1\\r\\n40,75000,0\\r\\n37,74000,0\\r\\n47,144000,1\\r\\n40,61000,0\\r\\n43,133000,0\\r\\n59,76000,1\\r\\n60,42000,1\\r\\n39,106000,1\\r\\n57,26000,1\\r\\n57,74000,1\\r\\n38,71000,0\\r\\n49,88000,1\\r\\n52,38000,1\\r\\n50,36000,1\\r\\n59,88000,1\\r\\n35,61000,0\\r\\n37,70000,1\\r\\n52,21000,1\\r\\n48,141000,0\\r\\n37,93000,1\\r\\n37,62000,0\\r\\n48,138000,1\\r\\n41,79000,0\\r\\n37,78000,1\\r\\n39,134000,1\\r\\n49,89000,1\\r\\n55,39000,1\\r\\n37,77000,0\\r\\n35,57000,0\\r\\n36,63000,0\\r\\n42,73000,1\\r\\n43,112000,1\\r\\n45,79000,0\\r\\n46,117000,1\\r\\n58,38000,1\\r\\n48,74000,1\\r\\n37,137000,1\\r\\n37,79000,1\\r\\n40,60000,0\\r\\n42,54000,0\\r\\n51,134000,0\\r\\n47,113000,1\\r\\n36,125000,1\\r\\n38,50000,0\\r\\n42,70000,0\\r\\n39,96000,1\\r\\n38,50000,0\\r\\n49,141000,1\\r\\n39,79000,0\\r\\n39,75000,1\\r\\n54,104000,1\\r\\n35,55000,0\\r\\n45,32000,1\\r\\n36,60000,0\\r\\n52,138000,1\\r\\n53,82000,1\\r\\n41,52000,0\\r\\n48,30000,1\\r\\n48,131000,1\\r\\n41,60000,0\\r\\n41,72000,0\\r\\n42,75000,0\\r\\n36,118000,1\\r\\n47,107000,1\\r\\n38,51000,0\\r\\n48,119000,1\\r\\n42,65000,0\\r\\n40,65000,0\\r\\n57,60000,1\\r\\n36,54000,0\\r\\n58,144000,1\\r\\n35,79000,0\\r\\n38,55000,0\\r\\n39,122000,1\\r\\n53,104000,1\\r\\n35,75000,0\\r\\n38,65000,0\\r\\n47,51000,1\\r\\n47,105000,1\\r\\n41,63000,0\\r\\n53,72000,1\\r\\n54,108000,1\\r\\n39,77000,0\\r\\n38,61000,0\\r\\n38,113000,1\\r\\n37,75000,0\\r\\n42,90000,1\\r\\n37,57000,0\\r\\n36,99000,1\\r\\n60,34000,1\\r\\n54,70000,1\\r\\n41,72000,0\\r\\n40,71000,1\\r\\n42,54000,0\\r\\n43,129000,1\\r\\n53,34000,1\\r\\n47,50000,1\\r\\n42,79000,0\\r\\n42,104000,1\\r\\n59,29000,1\\r\\n58,47000,1\\r\\n46,88000,1\\r\\n38,71000,0\\r\\n54,26000,1\\r\\n60,46000,1\\r\\n60,83000,1\\r\\n39,73000,0\\r\\n59,130000,1\\r\\n37,80000,0\\r\\n46,32000,1\\r\\n46,74000,0\\r\\n42,53000,0\\r\\n41,87000,1\\r\\n58,23000,1\\r\\n42,64000,0\\r\\n48,33000,1\\r\\n44,139000,1\\r\\n49,28000,1\\r\\n57,33000,1\\r\\n56,60000,1\\r\\n49,39000,1\\r\\n39,71000,0\\r\\n47,34000,1\\r\\n48,35000,1\\r\\n48,33000,1\\r\\n47,23000,1\\r\\n45,45000,1\\r\\n60,42000,1\\r\\n39,59000,0\\r\\n46,41000,1\\r\\n51,23000,1\\r\\n50,20000,1\\r\\n36,33000,0\\r\\n49,36000,1'}"
            ]
          },
          "metadata": {},
          "execution_count": 2
        }
      ]
    },
    {
      "cell_type": "markdown",
      "metadata": {
        "id": "Lwtg7GM0fO3o"
      },
      "source": [
        "## Splitting Dataset into X & Y"
      ]
    },
    {
      "cell_type": "code",
      "metadata": {
        "id": "2qDObLEm0AWU"
      },
      "source": [
        "dataset = pd.read_csv('Social_Network_Ads.csv')\n",
        "X = dataset.iloc[: , :-1].values\n",
        "Y = dataset.iloc[: , -1].values"
      ],
      "execution_count": 3,
      "outputs": []
    },
    {
      "cell_type": "markdown",
      "metadata": {
        "id": "0ZGW-09FgLaA"
      },
      "source": [
        "## Splitting Dataset into Training & Test Set"
      ]
    },
    {
      "cell_type": "code",
      "metadata": {
        "id": "nXj9TdWw0Y3u"
      },
      "source": [
        "from sklearn.model_selection import train_test_split\n",
        "X_train, X_test, Y_train, Y_test = train_test_split(X, Y, test_size = 0.25, random_state = 0)"
      ],
      "execution_count": 4,
      "outputs": []
    },
    {
      "cell_type": "markdown",
      "metadata": {
        "id": "YbNE_dldgL0k"
      },
      "source": [
        "## Feature Scaling "
      ]
    },
    {
      "cell_type": "code",
      "metadata": {
        "id": "4aNi37Fr1K7f"
      },
      "source": [
        "from sklearn.preprocessing import StandardScaler\n",
        "feat_scale = StandardScaler()\n",
        "X_train = feat_scale.fit_transform(X_train)\n",
        "X_test = feat_scale.transform(X_test)"
      ],
      "execution_count": 5,
      "outputs": []
    },
    {
      "cell_type": "markdown",
      "metadata": {
        "id": "llNolbWwgMSj"
      },
      "source": [
        "## Training the SVM model on Training Set"
      ]
    },
    {
      "cell_type": "code",
      "metadata": {
        "colab": {
          "base_uri": "https://localhost:8080/"
        },
        "id": "VHlfiZTP1shg",
        "outputId": "68cb4880-1ac5-41f0-8b75-ac2927d05636"
      },
      "source": [
        "from sklearn.svm import SVC\n",
        "classifier = SVC(kernel = 'rbf', random_state= 0)\n",
        "classifier.fit(X_train, Y_train)"
      ],
      "execution_count": 7,
      "outputs": [
        {
          "output_type": "execute_result",
          "data": {
            "text/plain": [
              "SVC(C=1.0, break_ties=False, cache_size=200, class_weight=None, coef0=0.0,\n",
              "    decision_function_shape='ovr', degree=3, gamma='scale', kernel='rbf',\n",
              "    max_iter=-1, probability=False, random_state=0, shrinking=True, tol=0.001,\n",
              "    verbose=False)"
            ]
          },
          "metadata": {},
          "execution_count": 7
        }
      ]
    },
    {
      "cell_type": "markdown",
      "metadata": {
        "id": "u9BTAMiTgMsM"
      },
      "source": [
        "## Predicting the Test Set Result"
      ]
    },
    {
      "cell_type": "code",
      "metadata": {
        "colab": {
          "base_uri": "https://localhost:8080/"
        },
        "id": "ZMFf3R7RgM5R",
        "outputId": "c47e777a-5f09-4905-c77b-4a743e2cb092"
      },
      "source": [
        "y_pred = classifier.predict(X_test)\n",
        "print(np.concatenate((y_pred.reshape(len(y_pred), 1), Y_test.reshape(len(Y_test), 1)), 1))"
      ],
      "execution_count": 8,
      "outputs": [
        {
          "output_type": "stream",
          "name": "stdout",
          "text": [
            "[[0 0]\n",
            " [0 0]\n",
            " [0 0]\n",
            " [0 0]\n",
            " [0 0]\n",
            " [0 0]\n",
            " [0 0]\n",
            " [1 1]\n",
            " [0 0]\n",
            " [1 0]\n",
            " [0 0]\n",
            " [0 0]\n",
            " [0 0]\n",
            " [0 0]\n",
            " [0 0]\n",
            " [1 0]\n",
            " [0 0]\n",
            " [0 0]\n",
            " [1 1]\n",
            " [0 0]\n",
            " [0 0]\n",
            " [1 1]\n",
            " [0 0]\n",
            " [1 1]\n",
            " [0 0]\n",
            " [1 1]\n",
            " [0 0]\n",
            " [0 0]\n",
            " [0 0]\n",
            " [0 0]\n",
            " [0 0]\n",
            " [0 1]\n",
            " [1 1]\n",
            " [0 0]\n",
            " [0 0]\n",
            " [0 0]\n",
            " [0 0]\n",
            " [0 0]\n",
            " [0 0]\n",
            " [1 1]\n",
            " [0 0]\n",
            " [0 0]\n",
            " [0 0]\n",
            " [0 0]\n",
            " [1 1]\n",
            " [0 0]\n",
            " [0 0]\n",
            " [1 1]\n",
            " [0 0]\n",
            " [1 1]\n",
            " [1 1]\n",
            " [0 0]\n",
            " [0 0]\n",
            " [1 0]\n",
            " [1 1]\n",
            " [1 1]\n",
            " [0 0]\n",
            " [0 0]\n",
            " [1 1]\n",
            " [0 0]\n",
            " [0 0]\n",
            " [1 1]\n",
            " [0 0]\n",
            " [1 1]\n",
            " [0 0]\n",
            " [1 1]\n",
            " [0 0]\n",
            " [0 0]\n",
            " [0 0]\n",
            " [0 0]\n",
            " [1 1]\n",
            " [0 0]\n",
            " [0 0]\n",
            " [1 1]\n",
            " [0 0]\n",
            " [0 0]\n",
            " [0 0]\n",
            " [0 0]\n",
            " [1 1]\n",
            " [1 1]\n",
            " [1 1]\n",
            " [1 0]\n",
            " [0 0]\n",
            " [0 0]\n",
            " [1 1]\n",
            " [0 1]\n",
            " [0 0]\n",
            " [1 1]\n",
            " [1 1]\n",
            " [0 0]\n",
            " [0 0]\n",
            " [1 1]\n",
            " [0 0]\n",
            " [0 0]\n",
            " [0 0]\n",
            " [0 1]\n",
            " [0 0]\n",
            " [1 1]\n",
            " [1 1]\n",
            " [1 1]]\n"
          ]
        }
      ]
    },
    {
      "cell_type": "code",
      "metadata": {
        "colab": {
          "base_uri": "https://localhost:8080/",
          "height": 330
        },
        "id": "NQFGF0JRjVrN",
        "outputId": "769a7137-3c23-4344-aadc-64e53f9f02e4"
      },
      "source": [
        "from sklearn.metrics import confusion_matrix, ConfusionMatrixDisplay, accuracy_score\n",
        "confusionMatrix = confusion_matrix(Y_test,y_pred)\n",
        "dis = ConfusionMatrixDisplay(confusionMatrix, display_labels=classifier.classes_)\n",
        "print(confusionMatrix)\n",
        "print(accuracy_score(Y_test, y_pred))\n",
        "\n",
        "dis.plot()\n",
        "plt.show()\n"
      ],
      "execution_count": 9,
      "outputs": [
        {
          "output_type": "stream",
          "name": "stdout",
          "text": [
            "[[64  4]\n",
            " [ 3 29]]\n",
            "0.93\n"
          ]
        },
        {
          "output_type": "display_data",
          "data": {
            "image/png": "[encoded data removed]",
            "text/plain": [
              "<Figure size 432x288 with 2 Axes>"
            ]
          },
          "metadata": {
            "needs_background": "light"
          }
        }
      ]
    },
    {
      "cell_type": "markdown",
      "metadata": {
        "id": "edJte81dReri"
      },
      "source": [
        "## Visulization of Training Set Result"
      ]
    },
    {
      "cell_type": "code",
      "metadata": {
        "colab": {
          "base_uri": "https://localhost:8080/",
          "height": 349
        },
        "id": "7ya0WnSERe_w",
        "outputId": "65835e3e-b467-4e4e-fd81-4fa27dcdbbe2"
      },
      "source": [
        "from matplotlib.colors import ListedColormap\n",
        "X_set, y_set = feat_scale.inverse_transform(X_train), Y_train\n",
        "X1, X2 = np.meshgrid(np.arange(start = X_set[:, 0].min() - 10, stop = X_set[:, 0].max() + 10, step = 0.25),\n",
        "                     np.arange(start = X_set[:, 1].min() - 1000, stop = X_set[:, 1].max() + 1000, step = 0.25))\n",
        "plt.contourf(X1, X2, classifier.predict(feat_scale.transform(np.array([X1.ravel(), X2.ravel()]).T)).reshape(X1.shape),\n",
        "             alpha = 0.75, cmap = ListedColormap(('red', 'green')))\n",
        "plt.xlim(X1.min(), X1.max())\n",
        "plt.ylim(X2.min(), X2.max())\n",
        "for i, j in enumerate(np.unique(y_set)):\n",
        "    plt.scatter(X_set[y_set == j, 0], X_set[y_set == j, 1], c = ListedColormap(('red', 'green'))(i), label = j)\n",
        "plt.title('Support Vector Machine (Training set)')\n",
        "plt.xlabel('Age')\n",
        "plt.ylabel('Estimated Salary')\n",
        "plt.legend()\n",
        "plt.show()"
      ],
      "execution_count": 10,
      "outputs": [
        {
          "output_type": "stream",
          "name": "stderr",
          "text": [
            "*c* argument looks like a single numeric RGB or RGBA sequence, which should be avoided as value-mapping will have precedence in case its length matches with *x* & *y*.  Please use the *color* keyword-argument or provide a 2-D array with a single row if you intend to specify the same RGB or RGBA value for all points.\n",
            "*c* argument looks like a single numeric RGB or RGBA sequence, which should be avoided as value-mapping will have precedence in case its length matches with *x* & *y*.  Please use the *color* keyword-argument or provide a 2-D array with a single row if you intend to specify the same RGB or RGBA value for all points.\n"
          ]
        },
        {
          "output_type": "display_data",
          "data": {
            "image/png": "[encoded data removed]",
            "text/plain": [
              "<Figure size 432x288 with 1 Axes>"
            ]
          },
          "metadata": {
            "needs_background": "light"
          }
        }
      ]
    },
    {
      "cell_type": "markdown",
      "metadata": {
        "id": "LWuN9qndVbpq"
      },
      "source": [
        "## Visulization of Test Set Result"
      ]
    },
    {
      "cell_type": "code",
      "metadata": {
        "id": "wZEsJuuWVb3V",
        "colab": {
          "base_uri": "https://localhost:8080/",
          "height": 349
        },
        "outputId": "93f71dfa-577c-4775-b3ea-dddde5decb46"
      },
      "source": [
        "from matplotlib.colors import ListedColormap\n",
        "X_set, y_set = feat_scale.inverse_transform(X_test), Y_test\n",
        "X1, X2 = np.meshgrid(np.arange(start = X_set[:, 0].min() - 10, stop = X_set[:, 0].max() + 10, step = 0.25),\n",
        "                     np.arange(start = X_set[:, 1].min() - 1000, stop = X_set[:, 1].max() + 1000, step = 0.25))\n",
        "plt.contourf(X1, X2, classifier.predict(feat_scale.transform(np.array([X1.ravel(), X2.ravel()]).T)).reshape(X1.shape),\n",
        "             alpha = 0.75, cmap = ListedColormap(('red', 'green')))\n",
        "plt.xlim(X1.min(), X1.max())\n",
        "plt.ylim(X2.min(), X2.max())\n",
        "for i, j in enumerate(np.unique(y_set)):\n",
        "    plt.scatter(X_set[y_set == j, 0], X_set[y_set == j, 1], c = ListedColormap(('red', 'green'))(i), label = j)\n",
        "plt.title('Support Vector Machine (Test set)')\n",
        "plt.xlabel('Age')\n",
        "plt.ylabel('Estimated Salary')\n",
        "plt.legend()\n",
        "plt.show()"
      ],
      "execution_count": 11,
      "outputs": [
        {
          "output_type": "stream",
          "name": "stderr",
          "text": [
            "*c* argument looks like a single numeric RGB or RGBA sequence, which should be avoided as value-mapping will have precedence in case its length matches with *x* & *y*.  Please use the *color* keyword-argument or provide a 2-D array with a single row if you intend to specify the same RGB or RGBA value for all points.\n",
            "*c* argument looks like a single numeric RGB or RGBA sequence, which should be avoided as value-mapping will have precedence in case its length matches with *x* & *y*.  Please use the *color* keyword-argument or provide a 2-D array with a single row if you intend to specify the same RGB or RGBA value for all points.\n"
          ]
        },
        {
          "output_type": "display_data",
          "data": {
            "image/png": "[encoded data removed]",
            "text/plain": [
              "<Figure size 432x288 with 1 Axes>"
            ]
          },
          "metadata": {
            "needs_background": "light"
          }
        }
      ]
    }
  ]
}